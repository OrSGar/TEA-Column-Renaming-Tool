{
 "cells": [
  {
   "cell_type": "code",
   "execution_count": null,
   "metadata": {
    "pycharm": {
     "name": "#%%\n"
    }
   },
   "outputs": [],
   "source": [
    "from KeyProcessor import KeyTools, create_required_dirs"
   ]
  },
  {
   "cell_type": "markdown",
   "metadata": {
    "collapsed": true,
    "pycharm": {
     "name": "#%% md\n"
    }
   },
   "source": [
    "# TEA Key Converter Tool\n",
    "\n",
    "This tool scrapes keys sourced from the TEA website and outputs a JSON file with new mappings.\n",
    "\n",
    "The standard work flow for getting a file from the TEA for EDA and its keys are as follows:\n",
    "1. Visit the TEA TAPR page\n",
    "2. Select the year of interest\n",
    "3. Select TAPR Data Download\n",
    "4. Select TAPR Data in Excel\n",
    "5. Select Campus by District within County\n",
    "6. Select Williamson\n",
    "7. Select Round Rock ISD\n",
    "8. Select target campuses (in this case we are focusing on high schools)\n",
    "9. Select desired attributes\n",
    "10. Click on the Reference Link\n",
    "11. Input the reference link into the variable prerequisites\n",
    "\n",
    "### Requirements:\n",
    "1. Web link to dataset reference from TEA\n",
    "2. Required directories present - to create or check for required directories, run the following code\n",
    "3. New key mappings (column names) defined by the user\n"
   ]
  },
  {
   "cell_type": "code",
   "execution_count": null,
   "metadata": {
    "pycharm": {
     "name": "#%%\n"
    }
   },
   "outputs": [],
   "source": [
    "create_required_dirs()\n"
   ]
  },
  {
   "cell_type": "markdown",
   "metadata": {
    "pycharm": {
     "name": "#%% md\n"
    }
   },
   "source": [
    "### Variable Prerequisites\n"
   ]
  },
  {
   "cell_type": "markdown",
   "metadata": {
    "pycharm": {
     "name": "#%% md\n"
    }
   },
   "source": [
    "# Step 1: Read in lines from txt file.\n",
    "\n"
   ]
  }
 ],
 "metadata": {
  "kernelspec": {
   "display_name": "Python 3",
   "language": "python",
   "name": "python3"
  },
  "language_info": {
   "codemirror_mode": {
    "name": "ipython",
    "version": 3
   },
   "file_extension": ".py",
   "mimetype": "text/x-python",
   "name": "python",
   "nbconvert_exporter": "python",
   "pygments_lexer": "ipython3",
   "version": "3.9.4"
  }
 },
 "nbformat": 4,
 "nbformat_minor": 1
}
