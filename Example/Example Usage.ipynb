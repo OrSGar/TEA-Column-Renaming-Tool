{
 "cells": [
  {
   "cell_type": "code",
   "execution_count": 24,
   "metadata": {
    "pycharm": {
     "name": "#%%\n"
    }
   },
   "outputs": [
    {
     "name": "stdout",
     "output_type": "stream",
     "text": [
      "Required directories present\n"
     ]
    }
   ],
   "source": [
    "import json\n",
    "from KeyProcessor import KeyWebsite\n",
    "import pandas as pd\n",
    "import plotly.express as px\n",
    "\n",
    "KeyWebsite.create_required_dirs()"
   ]
  },
  {
   "cell_type": "markdown",
   "metadata": {
    "collapsed": true,
    "pycharm": {
     "name": "#%% md\n"
    }
   },
   "source": [
    "# Example Usage of the KeyProcessor.py Class\n",
    "\n",
    "This notebook gives a brief example of how you can incorporate the class into a typical EDA notebook.\n",
    "\n",
    "In this notebook, I'll be exploring average SAT scores for hispanic students in Waco ISD High Schools for the years 2014-2015 and 2018-2019.\n",
    "\n",
    "Any analysis made is for illustration purposes only.\n"
   ]
  },
  {
   "cell_type": "markdown",
   "metadata": {
    "pycharm": {
     "name": "#%% md\n"
    }
   },
   "source": [
    "## Loading the Dataset Into pandas\n",
    "\n",
    "While most attributes are floats, pandas loads them in as objects since there are some strings within each row.\n",
    "\n",
    "Without knowing which columns represent what metric, we can't continue EDA."
   ]
  },
  {
   "cell_type": "code",
   "execution_count": 25,
   "outputs": [],
   "source": [
    "CCAD_20_df = pd.read_csv('A://DS4A/DS4A Empowerment/Project/Downloads/Waco ISD/CCAD_19-20.csv')\n",
    "CCAD_15_df = pd.read_csv('A://DS4A/DS4A Empowerment/Project/Downloads/Waco ISD/CCAD_15-16.csv')"
   ],
   "metadata": {
    "collapsed": false,
    "pycharm": {
     "name": "#%%\n"
    }
   }
  },
  {
   "cell_type": "markdown",
   "source": [
    "### Exploring the Dataframe"
   ],
   "metadata": {
    "collapsed": false,
    "pycharm": {
     "name": "#%% md\n"
    }
   }
  },
  {
   "cell_type": "code",
   "metadata": {
    "pycharm": {
     "name": "#%%\n"
    }
   },
   "source": [
    "CCAD_20_df.head(20)"
   ],
   "execution_count": 27,
   "outputs": [
    {
     "data": {
      "text/plain": "       CAMPUS  C20CAA18R  C20CAA19R  C20CAC18R  C20CAC19R  C20CAE18R  \\\n0  '161914002       13.2       20.0       12.6       20.8       11.9   \n1  '161914003       18.5       15.8       17.3       17.6       18.5   \n\n   C20CAE19R  C20CAM18R  C20CAM19R  C20CC18R  ...  CW0CC18R  CW0CC19R  \\\n0       19.7       15.0       19.6       0.0  ...      30.4      51.4   \n1       14.3       19.2       16.6      16.7  ...      30.8      19.0   \n\n   CW0CSA18R  CW0CSA19R  CW0CSE18R  CW0CSE19R  CW0CSM18R  CW0CSM19R  CW0CT18R  \\\n0       1098       1206        574        604        523        602      88.5   \n1         -1         -1         -1         -1         -1         -1      86.7   \n\n   CW0CT19R  \n0      85.4  \n1      95.5  \n\n[2 rows x 199 columns]",
      "text/html": "<div>\n<style scoped>\n    .dataframe tbody tr th:only-of-type {\n        vertical-align: middle;\n    }\n\n    .dataframe tbody tr th {\n        vertical-align: top;\n    }\n\n    .dataframe thead th {\n        text-align: right;\n    }\n</style>\n<table border=\"1\" class=\"dataframe\">\n  <thead>\n    <tr style=\"text-align: right;\">\n      <th></th>\n      <th>CAMPUS</th>\n      <th>C20CAA18R</th>\n      <th>C20CAA19R</th>\n      <th>C20CAC18R</th>\n      <th>C20CAC19R</th>\n      <th>C20CAE18R</th>\n      <th>C20CAE19R</th>\n      <th>C20CAM18R</th>\n      <th>C20CAM19R</th>\n      <th>C20CC18R</th>\n      <th>...</th>\n      <th>CW0CC18R</th>\n      <th>CW0CC19R</th>\n      <th>CW0CSA18R</th>\n      <th>CW0CSA19R</th>\n      <th>CW0CSE18R</th>\n      <th>CW0CSE19R</th>\n      <th>CW0CSM18R</th>\n      <th>CW0CSM19R</th>\n      <th>CW0CT18R</th>\n      <th>CW0CT19R</th>\n    </tr>\n  </thead>\n  <tbody>\n    <tr>\n      <th>0</th>\n      <td>'161914002</td>\n      <td>13.2</td>\n      <td>20.0</td>\n      <td>12.6</td>\n      <td>20.8</td>\n      <td>11.9</td>\n      <td>19.7</td>\n      <td>15.0</td>\n      <td>19.6</td>\n      <td>0.0</td>\n      <td>...</td>\n      <td>30.4</td>\n      <td>51.4</td>\n      <td>1098</td>\n      <td>1206</td>\n      <td>574</td>\n      <td>604</td>\n      <td>523</td>\n      <td>602</td>\n      <td>88.5</td>\n      <td>85.4</td>\n    </tr>\n    <tr>\n      <th>1</th>\n      <td>'161914003</td>\n      <td>18.5</td>\n      <td>15.8</td>\n      <td>17.3</td>\n      <td>17.6</td>\n      <td>18.5</td>\n      <td>14.3</td>\n      <td>19.2</td>\n      <td>16.6</td>\n      <td>16.7</td>\n      <td>...</td>\n      <td>30.8</td>\n      <td>19.0</td>\n      <td>-1</td>\n      <td>-1</td>\n      <td>-1</td>\n      <td>-1</td>\n      <td>-1</td>\n      <td>-1</td>\n      <td>86.7</td>\n      <td>95.5</td>\n    </tr>\n  </tbody>\n</table>\n<p>2 rows × 199 columns</p>\n</div>"
     },
     "execution_count": 27,
     "metadata": {},
     "output_type": "execute_result"
    }
   ]
  },
  {
   "cell_type": "code",
   "execution_count": 28,
   "outputs": [
    {
     "data": {
      "text/plain": "       CAMPUS C20CAA14R  C20CAA15R C20CAC14R  C20CAC15R C20CAE14R  C20CAE15R  \\\n0  '161914002        -1         -1        -1         -1        -1         -1   \n1  '161914003         .         -1         .         -1         .         -1   \n\n  C20CAM14R  C20CAM15R C20CC14R  ...  CW0CC14R CW0CC15R  CW0CSA14R CW0CSA15R  \\\n0        -1         -1       -1  ...      38.9       19       1514      1391   \n1         .         -1        .  ...       0.0       20         -1        -1   \n\n   CW0CSE14R CW0CSE15R  CW0CSM14R  CW0CSM15R  CW0CT14R CW0CT15R  \n0       1006       943        508        448      75.0     56.8  \n1         -1        -1         -1         -1      20.8     31.3  \n\n[2 rows x 199 columns]",
      "text/html": "<div>\n<style scoped>\n    .dataframe tbody tr th:only-of-type {\n        vertical-align: middle;\n    }\n\n    .dataframe tbody tr th {\n        vertical-align: top;\n    }\n\n    .dataframe thead th {\n        text-align: right;\n    }\n</style>\n<table border=\"1\" class=\"dataframe\">\n  <thead>\n    <tr style=\"text-align: right;\">\n      <th></th>\n      <th>CAMPUS</th>\n      <th>C20CAA14R</th>\n      <th>C20CAA15R</th>\n      <th>C20CAC14R</th>\n      <th>C20CAC15R</th>\n      <th>C20CAE14R</th>\n      <th>C20CAE15R</th>\n      <th>C20CAM14R</th>\n      <th>C20CAM15R</th>\n      <th>C20CC14R</th>\n      <th>...</th>\n      <th>CW0CC14R</th>\n      <th>CW0CC15R</th>\n      <th>CW0CSA14R</th>\n      <th>CW0CSA15R</th>\n      <th>CW0CSE14R</th>\n      <th>CW0CSE15R</th>\n      <th>CW0CSM14R</th>\n      <th>CW0CSM15R</th>\n      <th>CW0CT14R</th>\n      <th>CW0CT15R</th>\n    </tr>\n  </thead>\n  <tbody>\n    <tr>\n      <th>0</th>\n      <td>'161914002</td>\n      <td>-1</td>\n      <td>-1</td>\n      <td>-1</td>\n      <td>-1</td>\n      <td>-1</td>\n      <td>-1</td>\n      <td>-1</td>\n      <td>-1</td>\n      <td>-1</td>\n      <td>...</td>\n      <td>38.9</td>\n      <td>19</td>\n      <td>1514</td>\n      <td>1391</td>\n      <td>1006</td>\n      <td>943</td>\n      <td>508</td>\n      <td>448</td>\n      <td>75.0</td>\n      <td>56.8</td>\n    </tr>\n    <tr>\n      <th>1</th>\n      <td>'161914003</td>\n      <td>.</td>\n      <td>-1</td>\n      <td>.</td>\n      <td>-1</td>\n      <td>.</td>\n      <td>-1</td>\n      <td>.</td>\n      <td>-1</td>\n      <td>.</td>\n      <td>...</td>\n      <td>0.0</td>\n      <td>20</td>\n      <td>-1</td>\n      <td>-1</td>\n      <td>-1</td>\n      <td>-1</td>\n      <td>-1</td>\n      <td>-1</td>\n      <td>20.8</td>\n      <td>31.3</td>\n    </tr>\n  </tbody>\n</table>\n<p>2 rows × 199 columns</p>\n</div>"
     },
     "execution_count": 28,
     "metadata": {},
     "output_type": "execute_result"
    }
   ],
   "source": [
    "CCAD_15_df.head(20)"
   ],
   "metadata": {
    "collapsed": false,
    "pycharm": {
     "name": "#%%\n"
    }
   }
  },
  {
   "cell_type": "markdown",
   "source": [
    "## Using the KeyProcessor\n",
    "\n",
    "First I'll scrape the site and see what the dictionary looks like."
   ],
   "metadata": {
    "collapsed": false,
    "pycharm": {
     "name": "#%% md\n"
    }
   }
  },
  {
   "cell_type": "code",
   "execution_count": 29,
   "outputs": [
    {
     "name": "stdout",
     "output_type": "stream",
     "text": [
      "2020: {\n",
      "   \"CB0CAA18R\": \"Campus 2018 ACT: African American Students, ACT Average\",\n",
      "   \"CB0CAE18R\": \"Campus 2018 ACT: African American Students, ACT ELA Average\",\n",
      "   \"CB0CAM18R\": \"Campus 2018 ACT: African American Students, ACT Math Average\",\n",
      "   \"CB0CAC18R\": \"Campus 2018 ACT: African American Students, ACT Science Average\",\n",
      "   \"CA0CAA18R\": \"Campus 2018 ACT: All Students, ACT Average\",\n",
      "   \"CA0CAE18R\": \"Campus 2018 ACT: All Students, ACT ELA Average\",\n",
      "   \"CA0CAM18R\": \"Campus 2018 ACT: All Students, ACT Math Average\",\n",
      "   \"CA0CAC18R\": \"Campus 2018 ACT: All Students, ACT Science Average\",\n",
      "   \"CI0CAA18R\": \"Campus 2018 ACT: American Indian Students, ACT Average\",\n",
      "   \"CI0CAE18R\": \"Campus 2018 ACT: American Indian Students, ACT ELA Average\",\n",
      "   \"CI0CAM18R\": \"Campus 2018 ACT: American Indian Students, ACT Math Average\",\n",
      "   \"CI0CAC18R\": \"Campus 2018 ACT: American Indian Students, ACT Science Average\",\n",
      "   \"C30CAA18R\": \"Campus 2018 ACT: Asian Students, ACT Average\",\n",
      "   \"C30CAE18R\": \"Campus 2018 ACT: Asian Students, ACT ELA Average\",\n",
      "   \"C30CAM18R\": \"Campus 2018 ACT: Asian Students, ACT Math Average\",\n",
      "   \"C30CAC18R\": \"Campus 2018 ACT: Asian Students, ACT Science Average\",\n",
      "   \"CE0CAA18R\": \"Campus 2018 ACT: Econ Disadv Students, ACT Average\",\n",
      "   \"CE0CAE18R\": \"Campus 2018 ACT: Econ Disadv Students, ACT ELA Average\",\n",
      "   \"CE0CAM18R\": \"Campus 2018 ACT: Econ Disadv Students, ACT Math Average\",\n",
      "   \"CE0CAC18R\": \"Campus 2018 ACT: Econ Disadv Students, ACT Science Average\",\n",
      "   \"CF0CAA18R\": \"Campus 2018 ACT: Female Students, ACT Average\",\n",
      "   \"CF0CAE18R\": \"Campus 2018 ACT: Female Students, ACT ELA Average\",\n",
      "   \"CF0CAM18R\": \"Campus 2018 ACT: Female Students, ACT Math Average\",\n",
      "   \"CF0CAC18R\": \"Campus 2018 ACT: Female Students, ACT Science Average\",\n",
      "   \"CH0CAA18R\": \"Campus 2018 ACT: Hispanic Students, ACT Average\",\n",
      "   \"CH0CAE18R\": \"Campus 2018 ACT: Hispanic Students, ACT ELA Average\",\n",
      "   \"CH0CAM18R\": \"Campus 2018 ACT: Hispanic Students, ACT Math Average\",\n",
      "   \"CH0CAC18R\": \"Campus 2018 ACT: Hispanic Students, ACT Science Average\",\n",
      "   \"CM0CAA18R\": \"Campus 2018 ACT: Male Students, ACT Average\",\n",
      "   \"CM0CAE18R\": \"Campus 2018 ACT: Male Students, ACT ELA Average\",\n",
      "   \"CM0CAM18R\": \"Campus 2018 ACT: Male Students, ACT Math Average\",\n",
      "   \"CM0CAC18R\": \"Campus 2018 ACT: Male Students, ACT Science Average\",\n",
      "   \"C40CAA18R\": \"Campus 2018 ACT: Pacific Islander Students, ACT Average\",\n",
      "   \"C40CAE18R\": \"Campus 2018 ACT: Pacific Islander Students, ACT ELA Average\",\n",
      "   \"C40CAM18R\": \"Campus 2018 ACT: Pacific Islander Students, ACT Math Average\",\n",
      "   \"C40CAC18R\": \"Campus 2018 ACT: Pacific Islander Students, ACT Science Average\",\n",
      "   \"C20CAA18R\": \"Campus 2018 ACT: Two or More Races Students, ACT Average\",\n",
      "   \"C20CAE18R\": \"Campus 2018 ACT: Two or More Races Students, ACT ELA Average\",\n",
      "   \"C20CAM18R\": \"Campus 2018 ACT: Two or More Races Students, ACT Math Average\",\n",
      "   \"C20CAC18R\": \"Campus 2018 ACT: Two or More Races Students, ACT Science Average\",\n",
      "   \"CW0CAA18R\": \"Campus 2018 ACT: White Students, ACT Average\",\n",
      "   \"CW0CAE18R\": \"Campus 2018 ACT: White Students, ACT ELA Average\",\n",
      "   \"CW0CAM18R\": \"Campus 2018 ACT: White Students, ACT Math Average\",\n",
      "   \"CW0CAC18R\": \"Campus 2018 ACT: White Students, ACT Science Average\",\n",
      "   \"CB0CC18R\": \"Campus 2018 SAT/ACT: African American Students, % Above Criterion\",\n",
      "   \"CB0CT18R\": \"Campus 2018 SAT/ACT: African American Students, % Test-Taking\",\n",
      "   \"CA0CC18R\": \"Campus 2018 SAT/ACT: All Students, % Above Criterion\",\n",
      "   \"CA0CT18R\": \"Campus 2018 SAT/ACT: All Students, % Test-Taking\",\n",
      "   \"CI0CC18R\": \"Campus 2018 SAT/ACT: American Indian Students, % Above Criterion\",\n",
      "   \"CI0CT18R\": \"Campus 2018 SAT/ACT: American Indian Students, % Test-Taking\",\n",
      "   \"C30CC18R\": \"Campus 2018 SAT/ACT: Asian Students, % Above Criterion\",\n",
      "   \"C30CT18R\": \"Campus 2018 SAT/ACT: Asian Students, % Test-Taking\",\n",
      "   \"CE0CC18R\": \"Campus 2018 SAT/ACT: Econ Disadv Students, % Above Criterion\",\n",
      "   \"CE0CT18R\": \"Campus 2018 SAT/ACT: Econ Disadv Students, % Test-Taking\",\n",
      "   \"CF0CC18R\": \"Campus 2018 SAT/ACT: Female Students, % Above Criterion\",\n",
      "   \"CF0CT18R\": \"Campus 2018 SAT/ACT: Female Students, % Test-Taking\",\n",
      "   \"CH0CC18R\": \"Campus 2018 SAT/ACT: Hispanic Students, % Above Criterion\",\n",
      "   \"CH0CT18R\": \"Campus 2018 SAT/ACT: Hispanic Students, % Test-Taking\",\n",
      "   \"CM0CC18R\": \"Campus 2018 SAT/ACT: Male Students, % Above Criterion\",\n",
      "   \"CM0CT18R\": \"Campus 2018 SAT/ACT: Male Students, % Test-Taking\",\n",
      "   \"C40CC18R\": \"Campus 2018 SAT/ACT: Pacific Islander Students, % Above Criterion\",\n",
      "   \"C40CT18R\": \"Campus 2018 SAT/ACT: Pacific Islander Students, % Test-Taking\",\n",
      "   \"C20CC18R\": \"Campus 2018 SAT/ACT: Two or More Races Students, % Above Criterion\",\n",
      "   \"C20CT18R\": \"Campus 2018 SAT/ACT: Two or More Races Students, % Test-Taking\",\n",
      "   \"CW0CC18R\": \"Campus 2018 SAT/ACT: White Students, % Above Criterion\",\n",
      "   \"CW0CT18R\": \"Campus 2018 SAT/ACT: White Students, % Test-Taking\",\n",
      "   \"CB0CSA18R\": \"Campus 2018 SAT: African American Students, SAT Average\",\n",
      "   \"CB0CSE18R\": \"Campus 2018 SAT: African American Students, SAT ELA Average\",\n",
      "   \"CB0CSM18R\": \"Campus 2018 SAT: African American Students, SAT Math Average\",\n",
      "   \"CA0CSA18R\": \"Campus 2018 SAT: All Students, SAT Average\",\n",
      "   \"CA0CSE18R\": \"Campus 2018 SAT: All Students, SAT ELA Average\",\n",
      "   \"CA0CSM18R\": \"Campus 2018 SAT: All Students, SAT Math Average\",\n",
      "   \"CI0CSA18R\": \"Campus 2018 SAT: American Indian Students, SAT Average\",\n",
      "   \"CI0CSE18R\": \"Campus 2018 SAT: American Indian Students, SAT ELA Average\",\n",
      "   \"CI0CSM18R\": \"Campus 2018 SAT: American Indian Students, SAT Math Average\",\n",
      "   \"C30CSA18R\": \"Campus 2018 SAT: Asian Students, SAT Average\",\n",
      "   \"C30CSE18R\": \"Campus 2018 SAT: Asian Students, SAT ELA Average\",\n",
      "   \"C30CSM18R\": \"Campus 2018 SAT: Asian Students, SAT Math Average\",\n",
      "   \"CE0CSA18R\": \"Campus 2018 SAT: Econ Disadv Students, SAT Average\",\n",
      "   \"CE0CSE18R\": \"Campus 2018 SAT: Econ Disadv Students, SAT ELA Average\",\n",
      "   \"CE0CSM18R\": \"Campus 2018 SAT: Econ Disadv Students, SAT Math Average\",\n",
      "   \"CF0CSA18R\": \"Campus 2018 SAT: Female Students, SAT Average\",\n",
      "   \"CF0CSE18R\": \"Campus 2018 SAT: Female Students, SAT ELA Average\",\n",
      "   \"CF0CSM18R\": \"Campus 2018 SAT: Female Students, SAT Math Average\",\n",
      "   \"CH0CSA18R\": \"Campus 2018 SAT: Hispanic Students, SAT Average\",\n",
      "   \"CH0CSE18R\": \"Campus 2018 SAT: Hispanic Students, SAT ELA Average\",\n",
      "   \"CH0CSM18R\": \"Campus 2018 SAT: Hispanic Students, SAT Math Average\",\n",
      "   \"CM0CSA18R\": \"Campus 2018 SAT: Male Students, SAT Average\",\n",
      "   \"CM0CSE18R\": \"Campus 2018 SAT: Male Students, SAT ELA Average\",\n",
      "   \"CM0CSM18R\": \"Campus 2018 SAT: Male Students, SAT Math Average\",\n",
      "   \"C40CSA18R\": \"Campus 2018 SAT: Pacific Islander Students, SAT Average\",\n",
      "   \"C40CSE18R\": \"Campus 2018 SAT: Pacific Islander Students, SAT ELA Average\",\n",
      "   \"C40CSM18R\": \"Campus 2018 SAT: Pacific Islander Students, SAT Math Average\",\n",
      "   \"C20CSA18R\": \"Campus 2018 SAT: Two or More Races Students, SAT Average\",\n",
      "   \"C20CSE18R\": \"Campus 2018 SAT: Two or More Races Students, SAT ELA Average\",\n",
      "   \"C20CSM18R\": \"Campus 2018 SAT: Two or More Races Students, SAT Math Average\",\n",
      "   \"CW0CSA18R\": \"Campus 2018 SAT: White Students, SAT Average\",\n",
      "   \"CW0CSE18R\": \"Campus 2018 SAT: White Students, SAT ELA Average\",\n",
      "   \"CW0CSM18R\": \"Campus 2018 SAT: White Students, SAT Math Average\",\n",
      "   \"CB0CAA19R\": \"Campus 2019 ACT: African American Students, ACT Average\",\n",
      "   \"CB0CAE19R\": \"Campus 2019 ACT: African American Students, ACT ELA Average\",\n",
      "   \"CB0CAM19R\": \"Campus 2019 ACT: African American Students, ACT Math Average\",\n",
      "   \"CB0CAC19R\": \"Campus 2019 ACT: African American Students, ACT Science Average\",\n",
      "   \"CA0CAA19R\": \"Campus 2019 ACT: All Students, ACT Average\",\n",
      "   \"CA0CAE19R\": \"Campus 2019 ACT: All Students, ACT ELA Average\",\n",
      "   \"CA0CAM19R\": \"Campus 2019 ACT: All Students, ACT Math Average\",\n",
      "   \"CA0CAC19R\": \"Campus 2019 ACT: All Students, ACT Science Average\",\n",
      "   \"CI0CAA19R\": \"Campus 2019 ACT: American Indian Students, ACT Average\",\n",
      "   \"CI0CAE19R\": \"Campus 2019 ACT: American Indian Students, ACT ELA Average\",\n",
      "   \"CI0CAM19R\": \"Campus 2019 ACT: American Indian Students, ACT Math Average\",\n",
      "   \"CI0CAC19R\": \"Campus 2019 ACT: American Indian Students, ACT Science Average\",\n",
      "   \"C30CAA19R\": \"Campus 2019 ACT: Asian Students, ACT Average\",\n",
      "   \"C30CAE19R\": \"Campus 2019 ACT: Asian Students, ACT ELA Average\",\n",
      "   \"C30CAM19R\": \"Campus 2019 ACT: Asian Students, ACT Math Average\",\n",
      "   \"C30CAC19R\": \"Campus 2019 ACT: Asian Students, ACT Science Average\",\n",
      "   \"CE0CAA19R\": \"Campus 2019 ACT: Econ Disadv Students, ACT Average\",\n",
      "   \"CE0CAE19R\": \"Campus 2019 ACT: Econ Disadv Students, ACT ELA Average\",\n",
      "   \"CE0CAM19R\": \"Campus 2019 ACT: Econ Disadv Students, ACT Math Average\",\n",
      "   \"CE0CAC19R\": \"Campus 2019 ACT: Econ Disadv Students, ACT Science Average\",\n",
      "   \"CF0CAA19R\": \"Campus 2019 ACT: Female Students, ACT Average\",\n",
      "   \"CF0CAE19R\": \"Campus 2019 ACT: Female Students, ACT ELA Average\",\n",
      "   \"CF0CAM19R\": \"Campus 2019 ACT: Female Students, ACT Math Average\",\n",
      "   \"CF0CAC19R\": \"Campus 2019 ACT: Female Students, ACT Science Average\",\n",
      "   \"CH0CAA19R\": \"Campus 2019 ACT: Hispanic Students, ACT Average\",\n",
      "   \"CH0CAE19R\": \"Campus 2019 ACT: Hispanic Students, ACT ELA Average\",\n",
      "   \"CH0CAM19R\": \"Campus 2019 ACT: Hispanic Students, ACT Math Average\",\n",
      "   \"CH0CAC19R\": \"Campus 2019 ACT: Hispanic Students, ACT Science Average\",\n",
      "   \"CM0CAA19R\": \"Campus 2019 ACT: Male Students, ACT Average\",\n",
      "   \"CM0CAE19R\": \"Campus 2019 ACT: Male Students, ACT ELA Average\",\n",
      "   \"CM0CAM19R\": \"Campus 2019 ACT: Male Students, ACT Math Average\",\n",
      "   \"CM0CAC19R\": \"Campus 2019 ACT: Male Students, ACT Science Average\",\n",
      "   \"C40CAA19R\": \"Campus 2019 ACT: Pacific Islander Students, ACT Average\",\n",
      "   \"C40CAE19R\": \"Campus 2019 ACT: Pacific Islander Students, ACT ELA Average\",\n",
      "   \"C40CAM19R\": \"Campus 2019 ACT: Pacific Islander Students, ACT Math Average\",\n",
      "   \"C40CAC19R\": \"Campus 2019 ACT: Pacific Islander Students, ACT Science Average\",\n",
      "   \"C20CAA19R\": \"Campus 2019 ACT: Two or More Races Students, ACT Average\",\n",
      "   \"C20CAE19R\": \"Campus 2019 ACT: Two or More Races Students, ACT ELA Average\",\n",
      "   \"C20CAM19R\": \"Campus 2019 ACT: Two or More Races Students, ACT Math Average\",\n",
      "   \"C20CAC19R\": \"Campus 2019 ACT: Two or More Races Students, ACT Science Average\",\n",
      "   \"CW0CAA19R\": \"Campus 2019 ACT: White Students, ACT Average\",\n",
      "   \"CW0CAE19R\": \"Campus 2019 ACT: White Students, ACT ELA Average\",\n",
      "   \"CW0CAM19R\": \"Campus 2019 ACT: White Students, ACT Math Average\",\n",
      "   \"CW0CAC19R\": \"Campus 2019 ACT: White Students, ACT Science Average\",\n",
      "   \"CB0CC19R\": \"Campus 2019 SAT/ACT: African American Students, % Above Criterion\",\n",
      "   \"CB0CT19R\": \"Campus 2019 SAT/ACT: African American Students, % Test-Taking\",\n",
      "   \"CA0CC19R\": \"Campus 2019 SAT/ACT: All Students, % Above Criterion\",\n",
      "   \"CA0CT19R\": \"Campus 2019 SAT/ACT: All Students, % Test-Taking\",\n",
      "   \"CI0CC19R\": \"Campus 2019 SAT/ACT: American Indian Students, % Above Criterion\",\n",
      "   \"CI0CT19R\": \"Campus 2019 SAT/ACT: American Indian Students, % Test-Taking\",\n",
      "   \"C30CC19R\": \"Campus 2019 SAT/ACT: Asian Students, % Above Criterion\",\n",
      "   \"C30CT19R\": \"Campus 2019 SAT/ACT: Asian Students, % Test-Taking\",\n",
      "   \"CE0CC19R\": \"Campus 2019 SAT/ACT: Econ Disadv Students, % Above Criterion\",\n",
      "   \"CE0CT19R\": \"Campus 2019 SAT/ACT: Econ Disadv Students, % Test-Taking\",\n",
      "   \"CF0CC19R\": \"Campus 2019 SAT/ACT: Female Students, % Above Criterion\",\n",
      "   \"CF0CT19R\": \"Campus 2019 SAT/ACT: Female Students, % Test-Taking\",\n",
      "   \"CH0CC19R\": \"Campus 2019 SAT/ACT: Hispanic Students, % Above Criterion\",\n",
      "   \"CH0CT19R\": \"Campus 2019 SAT/ACT: Hispanic Students, % Test-Taking\",\n",
      "   \"CM0CC19R\": \"Campus 2019 SAT/ACT: Male Students, % Above Criterion\",\n",
      "   \"CM0CT19R\": \"Campus 2019 SAT/ACT: Male Students, % Test-Taking\",\n",
      "   \"C40CC19R\": \"Campus 2019 SAT/ACT: Pacific Islander Students, % Above Criterion\",\n",
      "   \"C40CT19R\": \"Campus 2019 SAT/ACT: Pacific Islander Students, % Test-Taking\",\n",
      "   \"C20CC19R\": \"Campus 2019 SAT/ACT: Two or More Races Students, % Above Criterion\",\n",
      "   \"C20CT19R\": \"Campus 2019 SAT/ACT: Two or More Races Students, % Test-Taking\",\n",
      "   \"CW0CC19R\": \"Campus 2019 SAT/ACT: White Students, % Above Criterion\",\n",
      "   \"CW0CT19R\": \"Campus 2019 SAT/ACT: White Students, % Test-Taking\",\n",
      "   \"CB0CSA19R\": \"Campus 2019 SAT: African American Students, SAT Average\",\n",
      "   \"CB0CSE19R\": \"Campus 2019 SAT: African American Students, SAT ELA Average\",\n",
      "   \"CB0CSM19R\": \"Campus 2019 SAT: African American Students, SAT Math Average\",\n",
      "   \"CA0CSA19R\": \"Campus 2019 SAT: All Students, SAT Average\",\n",
      "   \"CA0CSE19R\": \"Campus 2019 SAT: All Students, SAT ELA Average\",\n",
      "   \"CA0CSM19R\": \"Campus 2019 SAT: All Students, SAT Math Average\",\n",
      "   \"CI0CSA19R\": \"Campus 2019 SAT: American Indian Students, SAT Average\",\n",
      "   \"CI0CSE19R\": \"Campus 2019 SAT: American Indian Students, SAT ELA Average\",\n",
      "   \"CI0CSM19R\": \"Campus 2019 SAT: American Indian Students, SAT Math Average\",\n",
      "   \"C30CSA19R\": \"Campus 2019 SAT: Asian Students, SAT Average\",\n",
      "   \"C30CSE19R\": \"Campus 2019 SAT: Asian Students, SAT ELA Average\",\n",
      "   \"C30CSM19R\": \"Campus 2019 SAT: Asian Students, SAT Math Average\",\n",
      "   \"CE0CSA19R\": \"Campus 2019 SAT: Econ Disadv Students, SAT Average\",\n",
      "   \"CE0CSE19R\": \"Campus 2019 SAT: Econ Disadv Students, SAT ELA Average\",\n",
      "   \"CE0CSM19R\": \"Campus 2019 SAT: Econ Disadv Students, SAT Math Average\",\n",
      "   \"CF0CSA19R\": \"Campus 2019 SAT: Female Students, SAT Average\",\n",
      "   \"CF0CSE19R\": \"Campus 2019 SAT: Female Students, SAT ELA Average\",\n",
      "   \"CF0CSM19R\": \"Campus 2019 SAT: Female Students, SAT Math Average\",\n",
      "   \"CH0CSA19R\": \"Campus 2019 SAT: Hispanic Students, SAT Average\",\n",
      "   \"CH0CSE19R\": \"Campus 2019 SAT: Hispanic Students, SAT ELA Average\",\n",
      "   \"CH0CSM19R\": \"Campus 2019 SAT: Hispanic Students, SAT Math Average\",\n",
      "   \"CM0CSA19R\": \"Campus 2019 SAT: Male Students, SAT Average\",\n",
      "   \"CM0CSE19R\": \"Campus 2019 SAT: Male Students, SAT ELA Average\",\n",
      "   \"CM0CSM19R\": \"Campus 2019 SAT: Male Students, SAT Math Average\",\n",
      "   \"C40CSA19R\": \"Campus 2019 SAT: Pacific Islander Students, SAT Average\",\n",
      "   \"C40CSE19R\": \"Campus 2019 SAT: Pacific Islander Students, SAT ELA Average\",\n",
      "   \"C40CSM19R\": \"Campus 2019 SAT: Pacific Islander Students, SAT Math Average\",\n",
      "   \"C20CSA19R\": \"Campus 2019 SAT: Two or More Races Students, SAT Average\",\n",
      "   \"C20CSE19R\": \"Campus 2019 SAT: Two or More Races Students, SAT ELA Average\",\n",
      "   \"C20CSM19R\": \"Campus 2019 SAT: Two or More Races Students, SAT Math Average\",\n",
      "   \"CW0CSA19R\": \"Campus 2019 SAT: White Students, SAT Average\",\n",
      "   \"CW0CSE19R\": \"Campus 2019 SAT: White Students, SAT ELA Average\",\n",
      "   \"CW0CSM19R\": \"Campus 2019 SAT: White Students, SAT Math Average\"\n",
      "}\n",
      "2016: {\n",
      "   \"CB0CAA14R\": \"Campus 2014 ACT: African American Students, ACT Average\",\n",
      "   \"CB0CAE14R\": \"Campus 2014 ACT: African American Students, ACT ELA Average\",\n",
      "   \"CB0CAM14R\": \"Campus 2014 ACT: African American Students, ACT Math Average\",\n",
      "   \"CB0CAC14R\": \"Campus 2014 ACT: African American Students, ACT Science Average\",\n",
      "   \"CA0CAA14R\": \"Campus 2014 ACT: All Students, ACT Average\",\n",
      "   \"CA0CAE14R\": \"Campus 2014 ACT: All Students, ACT ELA Average\",\n",
      "   \"CA0CAM14R\": \"Campus 2014 ACT: All Students, ACT Math Average\",\n",
      "   \"CA0CAC14R\": \"Campus 2014 ACT: All Students, ACT Science Average\",\n",
      "   \"CI0CAA14R\": \"Campus 2014 ACT: American Indian Students, ACT Average\",\n",
      "   \"CI0CAE14R\": \"Campus 2014 ACT: American Indian Students, ACT ELA Average\",\n",
      "   \"CI0CAM14R\": \"Campus 2014 ACT: American Indian Students, ACT Math Average\",\n",
      "   \"CI0CAC14R\": \"Campus 2014 ACT: American Indian Students, ACT Science Average\",\n",
      "   \"C30CAA14R\": \"Campus 2014 ACT: Asian Students, ACT Average\",\n",
      "   \"C30CAE14R\": \"Campus 2014 ACT: Asian Students, ACT ELA Average\",\n",
      "   \"C30CAM14R\": \"Campus 2014 ACT: Asian Students, ACT Math Average\",\n",
      "   \"C30CAC14R\": \"Campus 2014 ACT: Asian Students, ACT Science Average\",\n",
      "   \"CE0CAA14R\": \"Campus 2014 ACT: Econ Disadv Students, ACT Average\",\n",
      "   \"CE0CAE14R\": \"Campus 2014 ACT: Econ Disadv Students, ACT ELA Average\",\n",
      "   \"CE0CAM14R\": \"Campus 2014 ACT: Econ Disadv Students, ACT Math Average\",\n",
      "   \"CE0CAC14R\": \"Campus 2014 ACT: Econ Disadv Students, ACT Science Average\",\n",
      "   \"CF0CAA14R\": \"Campus 2014 ACT: Female Students, ACT Average\",\n",
      "   \"CF0CAE14R\": \"Campus 2014 ACT: Female Students, ACT ELA Average\",\n",
      "   \"CF0CAM14R\": \"Campus 2014 ACT: Female Students, ACT Math Average\",\n",
      "   \"CF0CAC14R\": \"Campus 2014 ACT: Female Students, ACT Science Average\",\n",
      "   \"CH0CAA14R\": \"Campus 2014 ACT: Hispanic Students, ACT Average\",\n",
      "   \"CH0CAE14R\": \"Campus 2014 ACT: Hispanic Students, ACT ELA Average\",\n",
      "   \"CH0CAM14R\": \"Campus 2014 ACT: Hispanic Students, ACT Math Average\",\n",
      "   \"CH0CAC14R\": \"Campus 2014 ACT: Hispanic Students, ACT Science Average\",\n",
      "   \"CM0CAA14R\": \"Campus 2014 ACT: Male Students, ACT Average\",\n",
      "   \"CM0CAE14R\": \"Campus 2014 ACT: Male Students, ACT ELA Average\",\n",
      "   \"CM0CAM14R\": \"Campus 2014 ACT: Male Students, ACT Math Average\",\n",
      "   \"CM0CAC14R\": \"Campus 2014 ACT: Male Students, ACT Science Average\",\n",
      "   \"C40CAA14R\": \"Campus 2014 ACT: Pacific Islander Students, ACT Average\",\n",
      "   \"C40CAE14R\": \"Campus 2014 ACT: Pacific Islander Students, ACT ELA Average\",\n",
      "   \"C40CAM14R\": \"Campus 2014 ACT: Pacific Islander Students, ACT Math Average\",\n",
      "   \"C40CAC14R\": \"Campus 2014 ACT: Pacific Islander Students, ACT Science Average\",\n",
      "   \"C20CAA14R\": \"Campus 2014 ACT: Two or more races Students, ACT Average\",\n",
      "   \"C20CAE14R\": \"Campus 2014 ACT: Two or more races Students, ACT ELA Average\",\n",
      "   \"C20CAM14R\": \"Campus 2014 ACT: Two or more races Students, ACT Math Average\",\n",
      "   \"C20CAC14R\": \"Campus 2014 ACT: Two or more races Students, ACT Science Average\",\n",
      "   \"CW0CAA14R\": \"Campus 2014 ACT: White Students, ACT Average\",\n",
      "   \"CW0CAE14R\": \"Campus 2014 ACT: White Students, ACT ELA Average\",\n",
      "   \"CW0CAM14R\": \"Campus 2014 ACT: White Students, ACT Math Average\",\n",
      "   \"CW0CAC14R\": \"Campus 2014 ACT: White Students, ACT Science Average\",\n",
      "   \"CB0CC14R\": \"Campus 2014 SAT/ACT: African American Students, % Above Criterion\",\n",
      "   \"CB0CT14R\": \"Campus 2014 SAT/ACT: African American Students, % Test-Taking\",\n",
      "   \"CA0CC14R\": \"Campus 2014 SAT/ACT: All Students, % Above Criterion\",\n",
      "   \"CA0CT14R\": \"Campus 2014 SAT/ACT: All Students, % Test-Taking\",\n",
      "   \"CI0CC14R\": \"Campus 2014 SAT/ACT: American Indian Students, % Above Criterion\",\n",
      "   \"CI0CT14R\": \"Campus 2014 SAT/ACT: American Indian Students, % Test-Taking\",\n",
      "   \"C30CC14R\": \"Campus 2014 SAT/ACT: Asian Students, % Above Criterion\",\n",
      "   \"C30CT14R\": \"Campus 2014 SAT/ACT: Asian Students, % Test-Taking\",\n",
      "   \"CE0CC14R\": \"Campus 2014 SAT/ACT: Econ Disadv Students, % Above Criterion\",\n",
      "   \"CE0CT14R\": \"Campus 2014 SAT/ACT: Econ Disadv Students, % Test-Taking\",\n",
      "   \"CF0CC14R\": \"Campus 2014 SAT/ACT: Female Students, % Above Criterion\",\n",
      "   \"CF0CT14R\": \"Campus 2014 SAT/ACT: Female Students, % Test-Taking\",\n",
      "   \"CH0CC14R\": \"Campus 2014 SAT/ACT: Hispanic Students, % Above Criterion\",\n",
      "   \"CH0CT14R\": \"Campus 2014 SAT/ACT: Hispanic Students, % Test-Taking\",\n",
      "   \"CM0CC14R\": \"Campus 2014 SAT/ACT: Male Students, % Above Criterion\",\n",
      "   \"CM0CT14R\": \"Campus 2014 SAT/ACT: Male Students, % Test-Taking\",\n",
      "   \"C40CC14R\": \"Campus 2014 SAT/ACT: Pacific Islander Students, % Above Criterion\",\n",
      "   \"C40CT14R\": \"Campus 2014 SAT/ACT: Pacific Islander Students, % Test-Taking\",\n",
      "   \"C20CC14R\": \"Campus 2014 SAT/ACT: Two or more races Students, % Above Criterion\",\n",
      "   \"C20CT14R\": \"Campus 2014 SAT/ACT: Two or more races Students, % Test-Taking\",\n",
      "   \"CW0CC14R\": \"Campus 2014 SAT/ACT: White Students, % Above Criterion\",\n",
      "   \"CW0CT14R\": \"Campus 2014 SAT/ACT: White Students, % Test-Taking\",\n",
      "   \"CB0CSA14R\": \"Campus 2014 SAT: African American Students, SAT Average\",\n",
      "   \"CB0CSE14R\": \"Campus 2014 SAT: African American Students, SAT ELA Average\",\n",
      "   \"CB0CSM14R\": \"Campus 2014 SAT: African American Students, SAT Math Average\",\n",
      "   \"CA0CSA14R\": \"Campus 2014 SAT: All Students, SAT Average\",\n",
      "   \"CA0CSE14R\": \"Campus 2014 SAT: All Students, SAT ELA Average\",\n",
      "   \"CA0CSM14R\": \"Campus 2014 SAT: All Students, SAT Math Average\",\n",
      "   \"CI0CSA14R\": \"Campus 2014 SAT: American Indian Students, SAT Average\",\n",
      "   \"CI0CSE14R\": \"Campus 2014 SAT: American Indian Students, SAT ELA Average\",\n",
      "   \"CI0CSM14R\": \"Campus 2014 SAT: American Indian Students, SAT Math Average\",\n",
      "   \"C30CSA14R\": \"Campus 2014 SAT: Asian Students, SAT Average\",\n",
      "   \"C30CSE14R\": \"Campus 2014 SAT: Asian Students, SAT ELA Average\",\n",
      "   \"C30CSM14R\": \"Campus 2014 SAT: Asian Students, SAT Math Average\",\n",
      "   \"CE0CSA14R\": \"Campus 2014 SAT: Econ Disadv Students, SAT Average\",\n",
      "   \"CE0CSE14R\": \"Campus 2014 SAT: Econ Disadv Students, SAT ELA Average\",\n",
      "   \"CE0CSM14R\": \"Campus 2014 SAT: Econ Disadv Students, SAT Math Average\",\n",
      "   \"CF0CSA14R\": \"Campus 2014 SAT: Female Students, SAT Average\",\n",
      "   \"CF0CSE14R\": \"Campus 2014 SAT: Female Students, SAT ELA Average\",\n",
      "   \"CF0CSM14R\": \"Campus 2014 SAT: Female Students, SAT Math Average\",\n",
      "   \"CH0CSA14R\": \"Campus 2014 SAT: Hispanic Students, SAT Average\",\n",
      "   \"CH0CSE14R\": \"Campus 2014 SAT: Hispanic Students, SAT ELA Average\",\n",
      "   \"CH0CSM14R\": \"Campus 2014 SAT: Hispanic Students, SAT Math Average\",\n",
      "   \"CM0CSA14R\": \"Campus 2014 SAT: Male Students, SAT Average\",\n",
      "   \"CM0CSE14R\": \"Campus 2014 SAT: Male Students, SAT ELA Average\",\n",
      "   \"CM0CSM14R\": \"Campus 2014 SAT: Male Students, SAT Math Average\",\n",
      "   \"C40CSA14R\": \"Campus 2014 SAT: Pacific Islander Students, SAT Average\",\n",
      "   \"C40CSE14R\": \"Campus 2014 SAT: Pacific Islander Students, SAT ELA Average\",\n",
      "   \"C40CSM14R\": \"Campus 2014 SAT: Pacific Islander Students, SAT Math Average\",\n",
      "   \"C20CSA14R\": \"Campus 2014 SAT: Two or more races Students, SAT Average\",\n",
      "   \"C20CSE14R\": \"Campus 2014 SAT: Two or more races Students, SAT ELA Average\",\n",
      "   \"C20CSM14R\": \"Campus 2014 SAT: Two or more races Students, SAT Math Average\",\n",
      "   \"CW0CSA14R\": \"Campus 2014 SAT: White Students, SAT Average\",\n",
      "   \"CW0CSE14R\": \"Campus 2014 SAT: White Students, SAT ELA Average\",\n",
      "   \"CW0CSM14R\": \"Campus 2014 SAT: White Students, SAT Math Average\",\n",
      "   \"CB0CAA15R\": \"Campus 2015 ACT: African American Students, ACT Average\",\n",
      "   \"CB0CAE15R\": \"Campus 2015 ACT: African American Students, ACT ELA Average\",\n",
      "   \"CB0CAM15R\": \"Campus 2015 ACT: African American Students, ACT Math Average\",\n",
      "   \"CB0CAC15R\": \"Campus 2015 ACT: African American Students, ACT Science Average\",\n",
      "   \"CA0CAA15R\": \"Campus 2015 ACT: All Students, ACT Average\",\n",
      "   \"CA0CAE15R\": \"Campus 2015 ACT: All Students, ACT ELA Average\",\n",
      "   \"CA0CAM15R\": \"Campus 2015 ACT: All Students, ACT Math Average\",\n",
      "   \"CA0CAC15R\": \"Campus 2015 ACT: All Students, ACT Science Average\",\n",
      "   \"CI0CAA15R\": \"Campus 2015 ACT: American Indian Students, ACT Average\",\n",
      "   \"CI0CAE15R\": \"Campus 2015 ACT: American Indian Students, ACT ELA Average\",\n",
      "   \"CI0CAM15R\": \"Campus 2015 ACT: American Indian Students, ACT Math Average\",\n",
      "   \"CI0CAC15R\": \"Campus 2015 ACT: American Indian Students, ACT Science Average\",\n",
      "   \"C30CAA15R\": \"Campus 2015 ACT: Asian Students, ACT Average\",\n",
      "   \"C30CAE15R\": \"Campus 2015 ACT: Asian Students, ACT ELA Average\",\n",
      "   \"C30CAM15R\": \"Campus 2015 ACT: Asian Students, ACT Math Average\",\n",
      "   \"C30CAC15R\": \"Campus 2015 ACT: Asian Students, ACT Science Average\",\n",
      "   \"CE0CAA15R\": \"Campus 2015 ACT: Econ Disadv Students, ACT Average\",\n",
      "   \"CE0CAE15R\": \"Campus 2015 ACT: Econ Disadv Students, ACT ELA Average\",\n",
      "   \"CE0CAM15R\": \"Campus 2015 ACT: Econ Disadv Students, ACT Math Average\",\n",
      "   \"CE0CAC15R\": \"Campus 2015 ACT: Econ Disadv Students, ACT Science Average\",\n",
      "   \"CF0CAA15R\": \"Campus 2015 ACT: Female Students, ACT Average\",\n",
      "   \"CF0CAE15R\": \"Campus 2015 ACT: Female Students, ACT ELA Average\",\n",
      "   \"CF0CAM15R\": \"Campus 2015 ACT: Female Students, ACT Math Average\",\n",
      "   \"CF0CAC15R\": \"Campus 2015 ACT: Female Students, ACT Science Average\",\n",
      "   \"CH0CAA15R\": \"Campus 2015 ACT: Hispanic Students, ACT Average\",\n",
      "   \"CH0CAE15R\": \"Campus 2015 ACT: Hispanic Students, ACT ELA Average\",\n",
      "   \"CH0CAM15R\": \"Campus 2015 ACT: Hispanic Students, ACT Math Average\",\n",
      "   \"CH0CAC15R\": \"Campus 2015 ACT: Hispanic Students, ACT Science Average\",\n",
      "   \"CM0CAA15R\": \"Campus 2015 ACT: Male Students, ACT Average\",\n",
      "   \"CM0CAE15R\": \"Campus 2015 ACT: Male Students, ACT ELA Average\",\n",
      "   \"CM0CAM15R\": \"Campus 2015 ACT: Male Students, ACT Math Average\",\n",
      "   \"CM0CAC15R\": \"Campus 2015 ACT: Male Students, ACT Science Average\",\n",
      "   \"C40CAA15R\": \"Campus 2015 ACT: Pacific Islander Students, ACT Average\",\n",
      "   \"C40CAE15R\": \"Campus 2015 ACT: Pacific Islander Students, ACT ELA Average\",\n",
      "   \"C40CAM15R\": \"Campus 2015 ACT: Pacific Islander Students, ACT Math Average\",\n",
      "   \"C40CAC15R\": \"Campus 2015 ACT: Pacific Islander Students, ACT Science Average\",\n",
      "   \"C20CAA15R\": \"Campus 2015 ACT: Two or more races Students, ACT Average\",\n",
      "   \"C20CAE15R\": \"Campus 2015 ACT: Two or more races Students, ACT ELA Average\",\n",
      "   \"C20CAM15R\": \"Campus 2015 ACT: Two or more races Students, ACT Math Average\",\n",
      "   \"C20CAC15R\": \"Campus 2015 ACT: Two or more races Students, ACT Science Average\",\n",
      "   \"CW0CAA15R\": \"Campus 2015 ACT: White Students, ACT Average\",\n",
      "   \"CW0CAE15R\": \"Campus 2015 ACT: White Students, ACT ELA Average\",\n",
      "   \"CW0CAM15R\": \"Campus 2015 ACT: White Students, ACT Math Average\",\n",
      "   \"CW0CAC15R\": \"Campus 2015 ACT: White Students, ACT Science Average\",\n",
      "   \"CB0CC15R\": \"Campus 2015 SAT/ACT: African American Students, % Above Criterion\",\n",
      "   \"CB0CT15R\": \"Campus 2015 SAT/ACT: African American Students, % Test-Taking\",\n",
      "   \"CA0CC15R\": \"Campus 2015 SAT/ACT: All Students, % Above Criterion\",\n",
      "   \"CA0CT15R\": \"Campus 2015 SAT/ACT: All Students, % Test-Taking\",\n",
      "   \"CI0CC15R\": \"Campus 2015 SAT/ACT: American Indian Students, % Above Criterion\",\n",
      "   \"CI0CT15R\": \"Campus 2015 SAT/ACT: American Indian Students, % Test-Taking\",\n",
      "   \"C30CC15R\": \"Campus 2015 SAT/ACT: Asian Students, % Above Criterion\",\n",
      "   \"C30CT15R\": \"Campus 2015 SAT/ACT: Asian Students, % Test-Taking\",\n",
      "   \"CE0CC15R\": \"Campus 2015 SAT/ACT: Econ Disadv Students, % Above Criterion\",\n",
      "   \"CE0CT15R\": \"Campus 2015 SAT/ACT: Econ Disadv Students, % Test-Taking\",\n",
      "   \"CF0CC15R\": \"Campus 2015 SAT/ACT: Female Students, % Above Criterion\",\n",
      "   \"CF0CT15R\": \"Campus 2015 SAT/ACT: Female Students, % Test-Taking\",\n",
      "   \"CH0CC15R\": \"Campus 2015 SAT/ACT: Hispanic Students, % Above Criterion\",\n",
      "   \"CH0CT15R\": \"Campus 2015 SAT/ACT: Hispanic Students, % Test-Taking\",\n",
      "   \"CM0CC15R\": \"Campus 2015 SAT/ACT: Male Students, % Above Criterion\",\n",
      "   \"CM0CT15R\": \"Campus 2015 SAT/ACT: Male Students, % Test-Taking\",\n",
      "   \"C40CC15R\": \"Campus 2015 SAT/ACT: Pacific Islander Students, % Above Criterion\",\n",
      "   \"C40CT15R\": \"Campus 2015 SAT/ACT: Pacific Islander Students, % Test-Taking\",\n",
      "   \"C20CC15R\": \"Campus 2015 SAT/ACT: Two or more races Students, % Above Criterion\",\n",
      "   \"C20CT15R\": \"Campus 2015 SAT/ACT: Two or more races Students, % Test-Taking\",\n",
      "   \"CW0CC15R\": \"Campus 2015 SAT/ACT: White Students, % Above Criterion\",\n",
      "   \"CW0CT15R\": \"Campus 2015 SAT/ACT: White Students, % Test-Taking\",\n",
      "   \"CB0CSA15R\": \"Campus 2015 SAT: African American Students, SAT Average\",\n",
      "   \"CB0CSE15R\": \"Campus 2015 SAT: African American Students, SAT ELA Average\",\n",
      "   \"CB0CSM15R\": \"Campus 2015 SAT: African American Students, SAT Math Average\",\n",
      "   \"CA0CSA15R\": \"Campus 2015 SAT: All Students, SAT Average\",\n",
      "   \"CA0CSE15R\": \"Campus 2015 SAT: All Students, SAT ELA Average\",\n",
      "   \"CA0CSM15R\": \"Campus 2015 SAT: All Students, SAT Math Average\",\n",
      "   \"CI0CSA15R\": \"Campus 2015 SAT: American Indian Students, SAT Average\",\n",
      "   \"CI0CSE15R\": \"Campus 2015 SAT: American Indian Students, SAT ELA Average\",\n",
      "   \"CI0CSM15R\": \"Campus 2015 SAT: American Indian Students, SAT Math Average\",\n",
      "   \"C30CSA15R\": \"Campus 2015 SAT: Asian Students, SAT Average\",\n",
      "   \"C30CSE15R\": \"Campus 2015 SAT: Asian Students, SAT ELA Average\",\n",
      "   \"C30CSM15R\": \"Campus 2015 SAT: Asian Students, SAT Math Average\",\n",
      "   \"CE0CSA15R\": \"Campus 2015 SAT: Econ Disadv Students, SAT Average\",\n",
      "   \"CE0CSE15R\": \"Campus 2015 SAT: Econ Disadv Students, SAT ELA Average\",\n",
      "   \"CE0CSM15R\": \"Campus 2015 SAT: Econ Disadv Students, SAT Math Average\",\n",
      "   \"CF0CSA15R\": \"Campus 2015 SAT: Female Students, SAT Average\",\n",
      "   \"CF0CSE15R\": \"Campus 2015 SAT: Female Students, SAT ELA Average\",\n",
      "   \"CF0CSM15R\": \"Campus 2015 SAT: Female Students, SAT Math Average\",\n",
      "   \"CH0CSA15R\": \"Campus 2015 SAT: Hispanic Students, SAT Average\",\n",
      "   \"CH0CSE15R\": \"Campus 2015 SAT: Hispanic Students, SAT ELA Average\",\n",
      "   \"CH0CSM15R\": \"Campus 2015 SAT: Hispanic Students, SAT Math Average\",\n",
      "   \"CM0CSA15R\": \"Campus 2015 SAT: Male Students, SAT Average\",\n",
      "   \"CM0CSE15R\": \"Campus 2015 SAT: Male Students, SAT ELA Average\",\n",
      "   \"CM0CSM15R\": \"Campus 2015 SAT: Male Students, SAT Math Average\",\n",
      "   \"C40CSA15R\": \"Campus 2015 SAT: Pacific Islander Students, SAT Average\",\n",
      "   \"C40CSE15R\": \"Campus 2015 SAT: Pacific Islander Students, SAT ELA Average\",\n",
      "   \"C40CSM15R\": \"Campus 2015 SAT: Pacific Islander Students, SAT Math Average\",\n",
      "   \"C20CSA15R\": \"Campus 2015 SAT: Two or more races Students, SAT Average\",\n",
      "   \"C20CSE15R\": \"Campus 2015 SAT: Two or more races Students, SAT ELA Average\",\n",
      "   \"C20CSM15R\": \"Campus 2015 SAT: Two or more races Students, SAT Math Average\",\n",
      "   \"CW0CSA15R\": \"Campus 2015 SAT: White Students, SAT Average\",\n",
      "   \"CW0CSE15R\": \"Campus 2015 SAT: White Students, SAT ELA Average\",\n",
      "   \"CW0CSM15R\": \"Campus 2015 SAT: White Students, SAT Math Average\"\n",
      "}\n"
     ]
    }
   ],
   "source": [
    "CCAD_2020 = KeyWebsite('https://rptsvr1.tea.texas.gov/perfreport/tapr/2020/xplore/ccad.html')\n",
    "CCAD_2016 = KeyWebsite('https://rptsvr1.tea.texas.gov/perfreport/tapr/2016/xplore/ccad.html')\n",
    "\n",
    "print(f'2020: {json.dumps(CCAD_2020.scrape(), indent=3)}')\n",
    "print(f'2016: {json.dumps(CCAD_2016.scrape(), indent=3)}')\n"
   ],
   "metadata": {
    "collapsed": false,
    "pycharm": {
     "name": "#%%\n"
    }
   }
  },
  {
   "cell_type": "markdown",
   "source": [
    "Next I'll run the defaults cleans on both sets:"
   ],
   "metadata": {
    "collapsed": false,
    "pycharm": {
     "name": "#%% md\n"
    }
   }
  },
  {
   "cell_type": "code",
   "execution_count": 30,
   "outputs": [
    {
     "name": "stdout",
     "output_type": "stream",
     "text": [
      "2020: {\n",
      "   \"CB0CAA18R\": \"Campus 2018 ACT: African American, ACT Avg\",\n",
      "   \"CB0CAE18R\": \"Campus 2018 ACT: African American, ACT ELA Avg\",\n",
      "   \"CB0CAM18R\": \"Campus 2018 ACT: African American, ACT Math Avg\",\n",
      "   \"CB0CAC18R\": \"Campus 2018 ACT: African American, ACT Science Avg\",\n",
      "   \"CA0CAA18R\": \"Campus 2018 ACT: All, ACT Avg\",\n",
      "   \"CA0CAE18R\": \"Campus 2018 ACT: All, ACT ELA Avg\",\n",
      "   \"CA0CAM18R\": \"Campus 2018 ACT: All, ACT Math Avg\",\n",
      "   \"CA0CAC18R\": \"Campus 2018 ACT: All, ACT Science Avg\",\n",
      "   \"CI0CAA18R\": \"Campus 2018 ACT: American Indian, ACT Avg\",\n",
      "   \"CI0CAE18R\": \"Campus 2018 ACT: American Indian, ACT ELA Avg\",\n",
      "   \"CI0CAM18R\": \"Campus 2018 ACT: American Indian, ACT Math Avg\",\n",
      "   \"CI0CAC18R\": \"Campus 2018 ACT: American Indian, ACT Science Avg\",\n",
      "   \"C30CAA18R\": \"Campus 2018 ACT: Asian, ACT Avg\",\n",
      "   \"C30CAE18R\": \"Campus 2018 ACT: Asian, ACT ELA Avg\",\n",
      "   \"C30CAM18R\": \"Campus 2018 ACT: Asian, ACT Math Avg\",\n",
      "   \"C30CAC18R\": \"Campus 2018 ACT: Asian, ACT Science Avg\",\n",
      "   \"CE0CAA18R\": \"Campus 2018 ACT: Econ Disadv, ACT Avg\",\n",
      "   \"CE0CAE18R\": \"Campus 2018 ACT: Econ Disadv, ACT ELA Avg\",\n",
      "   \"CE0CAM18R\": \"Campus 2018 ACT: Econ Disadv, ACT Math Avg\",\n",
      "   \"CE0CAC18R\": \"Campus 2018 ACT: Econ Disadv, ACT Science Avg\",\n",
      "   \"CF0CAA18R\": \"Campus 2018 ACT: F, ACT Avg\",\n",
      "   \"CF0CAE18R\": \"Campus 2018 ACT: F, ACT ELA Avg\",\n",
      "   \"CF0CAM18R\": \"Campus 2018 ACT: F, ACT Math Avg\",\n",
      "   \"CF0CAC18R\": \"Campus 2018 ACT: F, ACT Science Avg\",\n",
      "   \"CH0CAA18R\": \"Campus 2018 ACT: Hispanic, ACT Avg\",\n",
      "   \"CH0CAE18R\": \"Campus 2018 ACT: Hispanic, ACT ELA Avg\",\n",
      "   \"CH0CAM18R\": \"Campus 2018 ACT: Hispanic, ACT Math Avg\",\n",
      "   \"CH0CAC18R\": \"Campus 2018 ACT: Hispanic, ACT Science Avg\",\n",
      "   \"CM0CAA18R\": \"Campus 2018 ACT: M, ACT Avg\",\n",
      "   \"CM0CAE18R\": \"Campus 2018 ACT: M, ACT ELA Avg\",\n",
      "   \"CM0CAM18R\": \"Campus 2018 ACT: M, ACT Math Avg\",\n",
      "   \"CM0CAC18R\": \"Campus 2018 ACT: M, ACT Science Avg\",\n",
      "   \"C40CAA18R\": \"Campus 2018 ACT: Pacific Islander, ACT Avg\",\n",
      "   \"C40CAE18R\": \"Campus 2018 ACT: Pacific Islander, ACT ELA Avg\",\n",
      "   \"C40CAM18R\": \"Campus 2018 ACT: Pacific Islander, ACT Math Avg\",\n",
      "   \"C40CAC18R\": \"Campus 2018 ACT: Pacific Islander, ACT Science Avg\",\n",
      "   \"C20CAA18R\": \"Campus 2018 ACT: Two or More Races, ACT Avg\",\n",
      "   \"C20CAE18R\": \"Campus 2018 ACT: Two or More Races, ACT ELA Avg\",\n",
      "   \"C20CAM18R\": \"Campus 2018 ACT: Two or More Races, ACT Math Avg\",\n",
      "   \"C20CAC18R\": \"Campus 2018 ACT: Two or More Races, ACT Science Avg\",\n",
      "   \"CW0CAA18R\": \"Campus 2018 ACT: White, ACT Avg\",\n",
      "   \"CW0CAE18R\": \"Campus 2018 ACT: White, ACT ELA Avg\",\n",
      "   \"CW0CAM18R\": \"Campus 2018 ACT: White, ACT Math Avg\",\n",
      "   \"CW0CAC18R\": \"Campus 2018 ACT: White, ACT Science Avg\",\n",
      "   \"CB0CC18R\": \"Campus 2018 SAT/ACT: African American, % Above Criterion\",\n",
      "   \"CB0CT18R\": \"Campus 2018 SAT/ACT: African American, % Test-Taking\",\n",
      "   \"CA0CC18R\": \"Campus 2018 SAT/ACT: All, % Above Criterion\",\n",
      "   \"CA0CT18R\": \"Campus 2018 SAT/ACT: All, % Test-Taking\",\n",
      "   \"CI0CC18R\": \"Campus 2018 SAT/ACT: American Indian, % Above Criterion\",\n",
      "   \"CI0CT18R\": \"Campus 2018 SAT/ACT: American Indian, % Test-Taking\",\n",
      "   \"C30CC18R\": \"Campus 2018 SAT/ACT: Asian, % Above Criterion\",\n",
      "   \"C30CT18R\": \"Campus 2018 SAT/ACT: Asian, % Test-Taking\",\n",
      "   \"CE0CC18R\": \"Campus 2018 SAT/ACT: Econ Disadv, % Above Criterion\",\n",
      "   \"CE0CT18R\": \"Campus 2018 SAT/ACT: Econ Disadv, % Test-Taking\",\n",
      "   \"CF0CC18R\": \"Campus 2018 SAT/ACT: F, % Above Criterion\",\n",
      "   \"CF0CT18R\": \"Campus 2018 SAT/ACT: F, % Test-Taking\",\n",
      "   \"CH0CC18R\": \"Campus 2018 SAT/ACT: Hispanic, % Above Criterion\",\n",
      "   \"CH0CT18R\": \"Campus 2018 SAT/ACT: Hispanic, % Test-Taking\",\n",
      "   \"CM0CC18R\": \"Campus 2018 SAT/ACT: M, % Above Criterion\",\n",
      "   \"CM0CT18R\": \"Campus 2018 SAT/ACT: M, % Test-Taking\",\n",
      "   \"C40CC18R\": \"Campus 2018 SAT/ACT: Pacific Islander, % Above Criterion\",\n",
      "   \"C40CT18R\": \"Campus 2018 SAT/ACT: Pacific Islander, % Test-Taking\",\n",
      "   \"C20CC18R\": \"Campus 2018 SAT/ACT: Two or More Races, % Above Criterion\",\n",
      "   \"C20CT18R\": \"Campus 2018 SAT/ACT: Two or More Races, % Test-Taking\",\n",
      "   \"CW0CC18R\": \"Campus 2018 SAT/ACT: White, % Above Criterion\",\n",
      "   \"CW0CT18R\": \"Campus 2018 SAT/ACT: White, % Test-Taking\",\n",
      "   \"CB0CSA18R\": \"Campus 2018 SAT: African American, SAT Avg\",\n",
      "   \"CB0CSE18R\": \"Campus 2018 SAT: African American, SAT ELA Avg\",\n",
      "   \"CB0CSM18R\": \"Campus 2018 SAT: African American, SAT Math Avg\",\n",
      "   \"CA0CSA18R\": \"Campus 2018 SAT: All, SAT Avg\",\n",
      "   \"CA0CSE18R\": \"Campus 2018 SAT: All, SAT ELA Avg\",\n",
      "   \"CA0CSM18R\": \"Campus 2018 SAT: All, SAT Math Avg\",\n",
      "   \"CI0CSA18R\": \"Campus 2018 SAT: American Indian, SAT Avg\",\n",
      "   \"CI0CSE18R\": \"Campus 2018 SAT: American Indian, SAT ELA Avg\",\n",
      "   \"CI0CSM18R\": \"Campus 2018 SAT: American Indian, SAT Math Avg\",\n",
      "   \"C30CSA18R\": \"Campus 2018 SAT: Asian, SAT Avg\",\n",
      "   \"C30CSE18R\": \"Campus 2018 SAT: Asian, SAT ELA Avg\",\n",
      "   \"C30CSM18R\": \"Campus 2018 SAT: Asian, SAT Math Avg\",\n",
      "   \"CE0CSA18R\": \"Campus 2018 SAT: Econ Disadv, SAT Avg\",\n",
      "   \"CE0CSE18R\": \"Campus 2018 SAT: Econ Disadv, SAT ELA Avg\",\n",
      "   \"CE0CSM18R\": \"Campus 2018 SAT: Econ Disadv, SAT Math Avg\",\n",
      "   \"CF0CSA18R\": \"Campus 2018 SAT: F, SAT Avg\",\n",
      "   \"CF0CSE18R\": \"Campus 2018 SAT: F, SAT ELA Avg\",\n",
      "   \"CF0CSM18R\": \"Campus 2018 SAT: F, SAT Math Avg\",\n",
      "   \"CH0CSA18R\": \"Campus 2018 SAT: Hispanic, SAT Avg\",\n",
      "   \"CH0CSE18R\": \"Campus 2018 SAT: Hispanic, SAT ELA Avg\",\n",
      "   \"CH0CSM18R\": \"Campus 2018 SAT: Hispanic, SAT Math Avg\",\n",
      "   \"CM0CSA18R\": \"Campus 2018 SAT: M, SAT Avg\",\n",
      "   \"CM0CSE18R\": \"Campus 2018 SAT: M, SAT ELA Avg\",\n",
      "   \"CM0CSM18R\": \"Campus 2018 SAT: M, SAT Math Avg\",\n",
      "   \"C40CSA18R\": \"Campus 2018 SAT: Pacific Islander, SAT Avg\",\n",
      "   \"C40CSE18R\": \"Campus 2018 SAT: Pacific Islander, SAT ELA Avg\",\n",
      "   \"C40CSM18R\": \"Campus 2018 SAT: Pacific Islander, SAT Math Avg\",\n",
      "   \"C20CSA18R\": \"Campus 2018 SAT: Two or More Races, SAT Avg\",\n",
      "   \"C20CSE18R\": \"Campus 2018 SAT: Two or More Races, SAT ELA Avg\",\n",
      "   \"C20CSM18R\": \"Campus 2018 SAT: Two or More Races, SAT Math Avg\",\n",
      "   \"CW0CSA18R\": \"Campus 2018 SAT: White, SAT Avg\",\n",
      "   \"CW0CSE18R\": \"Campus 2018 SAT: White, SAT ELA Avg\",\n",
      "   \"CW0CSM18R\": \"Campus 2018 SAT: White, SAT Math Avg\",\n",
      "   \"CB0CAA19R\": \"Campus 2019 ACT: African American, ACT Avg\",\n",
      "   \"CB0CAE19R\": \"Campus 2019 ACT: African American, ACT ELA Avg\",\n",
      "   \"CB0CAM19R\": \"Campus 2019 ACT: African American, ACT Math Avg\",\n",
      "   \"CB0CAC19R\": \"Campus 2019 ACT: African American, ACT Science Avg\",\n",
      "   \"CA0CAA19R\": \"Campus 2019 ACT: All, ACT Avg\",\n",
      "   \"CA0CAE19R\": \"Campus 2019 ACT: All, ACT ELA Avg\",\n",
      "   \"CA0CAM19R\": \"Campus 2019 ACT: All, ACT Math Avg\",\n",
      "   \"CA0CAC19R\": \"Campus 2019 ACT: All, ACT Science Avg\",\n",
      "   \"CI0CAA19R\": \"Campus 2019 ACT: American Indian, ACT Avg\",\n",
      "   \"CI0CAE19R\": \"Campus 2019 ACT: American Indian, ACT ELA Avg\",\n",
      "   \"CI0CAM19R\": \"Campus 2019 ACT: American Indian, ACT Math Avg\",\n",
      "   \"CI0CAC19R\": \"Campus 2019 ACT: American Indian, ACT Science Avg\",\n",
      "   \"C30CAA19R\": \"Campus 2019 ACT: Asian, ACT Avg\",\n",
      "   \"C30CAE19R\": \"Campus 2019 ACT: Asian, ACT ELA Avg\",\n",
      "   \"C30CAM19R\": \"Campus 2019 ACT: Asian, ACT Math Avg\",\n",
      "   \"C30CAC19R\": \"Campus 2019 ACT: Asian, ACT Science Avg\",\n",
      "   \"CE0CAA19R\": \"Campus 2019 ACT: Econ Disadv, ACT Avg\",\n",
      "   \"CE0CAE19R\": \"Campus 2019 ACT: Econ Disadv, ACT ELA Avg\",\n",
      "   \"CE0CAM19R\": \"Campus 2019 ACT: Econ Disadv, ACT Math Avg\",\n",
      "   \"CE0CAC19R\": \"Campus 2019 ACT: Econ Disadv, ACT Science Avg\",\n",
      "   \"CF0CAA19R\": \"Campus 2019 ACT: F, ACT Avg\",\n",
      "   \"CF0CAE19R\": \"Campus 2019 ACT: F, ACT ELA Avg\",\n",
      "   \"CF0CAM19R\": \"Campus 2019 ACT: F, ACT Math Avg\",\n",
      "   \"CF0CAC19R\": \"Campus 2019 ACT: F, ACT Science Avg\",\n",
      "   \"CH0CAA19R\": \"Campus 2019 ACT: Hispanic, ACT Avg\",\n",
      "   \"CH0CAE19R\": \"Campus 2019 ACT: Hispanic, ACT ELA Avg\",\n",
      "   \"CH0CAM19R\": \"Campus 2019 ACT: Hispanic, ACT Math Avg\",\n",
      "   \"CH0CAC19R\": \"Campus 2019 ACT: Hispanic, ACT Science Avg\",\n",
      "   \"CM0CAA19R\": \"Campus 2019 ACT: M, ACT Avg\",\n",
      "   \"CM0CAE19R\": \"Campus 2019 ACT: M, ACT ELA Avg\",\n",
      "   \"CM0CAM19R\": \"Campus 2019 ACT: M, ACT Math Avg\",\n",
      "   \"CM0CAC19R\": \"Campus 2019 ACT: M, ACT Science Avg\",\n",
      "   \"C40CAA19R\": \"Campus 2019 ACT: Pacific Islander, ACT Avg\",\n",
      "   \"C40CAE19R\": \"Campus 2019 ACT: Pacific Islander, ACT ELA Avg\",\n",
      "   \"C40CAM19R\": \"Campus 2019 ACT: Pacific Islander, ACT Math Avg\",\n",
      "   \"C40CAC19R\": \"Campus 2019 ACT: Pacific Islander, ACT Science Avg\",\n",
      "   \"C20CAA19R\": \"Campus 2019 ACT: Two or More Races, ACT Avg\",\n",
      "   \"C20CAE19R\": \"Campus 2019 ACT: Two or More Races, ACT ELA Avg\",\n",
      "   \"C20CAM19R\": \"Campus 2019 ACT: Two or More Races, ACT Math Avg\",\n",
      "   \"C20CAC19R\": \"Campus 2019 ACT: Two or More Races, ACT Science Avg\",\n",
      "   \"CW0CAA19R\": \"Campus 2019 ACT: White, ACT Avg\",\n",
      "   \"CW0CAE19R\": \"Campus 2019 ACT: White, ACT ELA Avg\",\n",
      "   \"CW0CAM19R\": \"Campus 2019 ACT: White, ACT Math Avg\",\n",
      "   \"CW0CAC19R\": \"Campus 2019 ACT: White, ACT Science Avg\",\n",
      "   \"CB0CC19R\": \"Campus 2019 SAT/ACT: African American, % Above Criterion\",\n",
      "   \"CB0CT19R\": \"Campus 2019 SAT/ACT: African American, % Test-Taking\",\n",
      "   \"CA0CC19R\": \"Campus 2019 SAT/ACT: All, % Above Criterion\",\n",
      "   \"CA0CT19R\": \"Campus 2019 SAT/ACT: All, % Test-Taking\",\n",
      "   \"CI0CC19R\": \"Campus 2019 SAT/ACT: American Indian, % Above Criterion\",\n",
      "   \"CI0CT19R\": \"Campus 2019 SAT/ACT: American Indian, % Test-Taking\",\n",
      "   \"C30CC19R\": \"Campus 2019 SAT/ACT: Asian, % Above Criterion\",\n",
      "   \"C30CT19R\": \"Campus 2019 SAT/ACT: Asian, % Test-Taking\",\n",
      "   \"CE0CC19R\": \"Campus 2019 SAT/ACT: Econ Disadv, % Above Criterion\",\n",
      "   \"CE0CT19R\": \"Campus 2019 SAT/ACT: Econ Disadv, % Test-Taking\",\n",
      "   \"CF0CC19R\": \"Campus 2019 SAT/ACT: F, % Above Criterion\",\n",
      "   \"CF0CT19R\": \"Campus 2019 SAT/ACT: F, % Test-Taking\",\n",
      "   \"CH0CC19R\": \"Campus 2019 SAT/ACT: Hispanic, % Above Criterion\",\n",
      "   \"CH0CT19R\": \"Campus 2019 SAT/ACT: Hispanic, % Test-Taking\",\n",
      "   \"CM0CC19R\": \"Campus 2019 SAT/ACT: M, % Above Criterion\",\n",
      "   \"CM0CT19R\": \"Campus 2019 SAT/ACT: M, % Test-Taking\",\n",
      "   \"C40CC19R\": \"Campus 2019 SAT/ACT: Pacific Islander, % Above Criterion\",\n",
      "   \"C40CT19R\": \"Campus 2019 SAT/ACT: Pacific Islander, % Test-Taking\",\n",
      "   \"C20CC19R\": \"Campus 2019 SAT/ACT: Two or More Races, % Above Criterion\",\n",
      "   \"C20CT19R\": \"Campus 2019 SAT/ACT: Two or More Races, % Test-Taking\",\n",
      "   \"CW0CC19R\": \"Campus 2019 SAT/ACT: White, % Above Criterion\",\n",
      "   \"CW0CT19R\": \"Campus 2019 SAT/ACT: White, % Test-Taking\",\n",
      "   \"CB0CSA19R\": \"Campus 2019 SAT: African American, SAT Avg\",\n",
      "   \"CB0CSE19R\": \"Campus 2019 SAT: African American, SAT ELA Avg\",\n",
      "   \"CB0CSM19R\": \"Campus 2019 SAT: African American, SAT Math Avg\",\n",
      "   \"CA0CSA19R\": \"Campus 2019 SAT: All, SAT Avg\",\n",
      "   \"CA0CSE19R\": \"Campus 2019 SAT: All, SAT ELA Avg\",\n",
      "   \"CA0CSM19R\": \"Campus 2019 SAT: All, SAT Math Avg\",\n",
      "   \"CI0CSA19R\": \"Campus 2019 SAT: American Indian, SAT Avg\",\n",
      "   \"CI0CSE19R\": \"Campus 2019 SAT: American Indian, SAT ELA Avg\",\n",
      "   \"CI0CSM19R\": \"Campus 2019 SAT: American Indian, SAT Math Avg\",\n",
      "   \"C30CSA19R\": \"Campus 2019 SAT: Asian, SAT Avg\",\n",
      "   \"C30CSE19R\": \"Campus 2019 SAT: Asian, SAT ELA Avg\",\n",
      "   \"C30CSM19R\": \"Campus 2019 SAT: Asian, SAT Math Avg\",\n",
      "   \"CE0CSA19R\": \"Campus 2019 SAT: Econ Disadv, SAT Avg\",\n",
      "   \"CE0CSE19R\": \"Campus 2019 SAT: Econ Disadv, SAT ELA Avg\",\n",
      "   \"CE0CSM19R\": \"Campus 2019 SAT: Econ Disadv, SAT Math Avg\",\n",
      "   \"CF0CSA19R\": \"Campus 2019 SAT: F, SAT Avg\",\n",
      "   \"CF0CSE19R\": \"Campus 2019 SAT: F, SAT ELA Avg\",\n",
      "   \"CF0CSM19R\": \"Campus 2019 SAT: F, SAT Math Avg\",\n",
      "   \"CH0CSA19R\": \"Campus 2019 SAT: Hispanic, SAT Avg\",\n",
      "   \"CH0CSE19R\": \"Campus 2019 SAT: Hispanic, SAT ELA Avg\",\n",
      "   \"CH0CSM19R\": \"Campus 2019 SAT: Hispanic, SAT Math Avg\",\n",
      "   \"CM0CSA19R\": \"Campus 2019 SAT: M, SAT Avg\",\n",
      "   \"CM0CSE19R\": \"Campus 2019 SAT: M, SAT ELA Avg\",\n",
      "   \"CM0CSM19R\": \"Campus 2019 SAT: M, SAT Math Avg\",\n",
      "   \"C40CSA19R\": \"Campus 2019 SAT: Pacific Islander, SAT Avg\",\n",
      "   \"C40CSE19R\": \"Campus 2019 SAT: Pacific Islander, SAT ELA Avg\",\n",
      "   \"C40CSM19R\": \"Campus 2019 SAT: Pacific Islander, SAT Math Avg\",\n",
      "   \"C20CSA19R\": \"Campus 2019 SAT: Two or More Races, SAT Avg\",\n",
      "   \"C20CSE19R\": \"Campus 2019 SAT: Two or More Races, SAT ELA Avg\",\n",
      "   \"C20CSM19R\": \"Campus 2019 SAT: Two or More Races, SAT Math Avg\",\n",
      "   \"CW0CSA19R\": \"Campus 2019 SAT: White, SAT Avg\",\n",
      "   \"CW0CSE19R\": \"Campus 2019 SAT: White, SAT ELA Avg\",\n",
      "   \"CW0CSM19R\": \"Campus 2019 SAT: White, SAT Math Avg\"\n",
      "}\n",
      "2016: {\n",
      "   \"CB0CAA14R\": \"Campus 2014 ACT: African American, ACT Avg\",\n",
      "   \"CB0CAE14R\": \"Campus 2014 ACT: African American, ACT ELA Avg\",\n",
      "   \"CB0CAM14R\": \"Campus 2014 ACT: African American, ACT Math Avg\",\n",
      "   \"CB0CAC14R\": \"Campus 2014 ACT: African American, ACT Science Avg\",\n",
      "   \"CA0CAA14R\": \"Campus 2014 ACT: All, ACT Avg\",\n",
      "   \"CA0CAE14R\": \"Campus 2014 ACT: All, ACT ELA Avg\",\n",
      "   \"CA0CAM14R\": \"Campus 2014 ACT: All, ACT Math Avg\",\n",
      "   \"CA0CAC14R\": \"Campus 2014 ACT: All, ACT Science Avg\",\n",
      "   \"CI0CAA14R\": \"Campus 2014 ACT: American Indian, ACT Avg\",\n",
      "   \"CI0CAE14R\": \"Campus 2014 ACT: American Indian, ACT ELA Avg\",\n",
      "   \"CI0CAM14R\": \"Campus 2014 ACT: American Indian, ACT Math Avg\",\n",
      "   \"CI0CAC14R\": \"Campus 2014 ACT: American Indian, ACT Science Avg\",\n",
      "   \"C30CAA14R\": \"Campus 2014 ACT: Asian, ACT Avg\",\n",
      "   \"C30CAE14R\": \"Campus 2014 ACT: Asian, ACT ELA Avg\",\n",
      "   \"C30CAM14R\": \"Campus 2014 ACT: Asian, ACT Math Avg\",\n",
      "   \"C30CAC14R\": \"Campus 2014 ACT: Asian, ACT Science Avg\",\n",
      "   \"CE0CAA14R\": \"Campus 2014 ACT: Econ Disadv, ACT Avg\",\n",
      "   \"CE0CAE14R\": \"Campus 2014 ACT: Econ Disadv, ACT ELA Avg\",\n",
      "   \"CE0CAM14R\": \"Campus 2014 ACT: Econ Disadv, ACT Math Avg\",\n",
      "   \"CE0CAC14R\": \"Campus 2014 ACT: Econ Disadv, ACT Science Avg\",\n",
      "   \"CF0CAA14R\": \"Campus 2014 ACT: F, ACT Avg\",\n",
      "   \"CF0CAE14R\": \"Campus 2014 ACT: F, ACT ELA Avg\",\n",
      "   \"CF0CAM14R\": \"Campus 2014 ACT: F, ACT Math Avg\",\n",
      "   \"CF0CAC14R\": \"Campus 2014 ACT: F, ACT Science Avg\",\n",
      "   \"CH0CAA14R\": \"Campus 2014 ACT: Hispanic, ACT Avg\",\n",
      "   \"CH0CAE14R\": \"Campus 2014 ACT: Hispanic, ACT ELA Avg\",\n",
      "   \"CH0CAM14R\": \"Campus 2014 ACT: Hispanic, ACT Math Avg\",\n",
      "   \"CH0CAC14R\": \"Campus 2014 ACT: Hispanic, ACT Science Avg\",\n",
      "   \"CM0CAA14R\": \"Campus 2014 ACT: M, ACT Avg\",\n",
      "   \"CM0CAE14R\": \"Campus 2014 ACT: M, ACT ELA Avg\",\n",
      "   \"CM0CAM14R\": \"Campus 2014 ACT: M, ACT Math Avg\",\n",
      "   \"CM0CAC14R\": \"Campus 2014 ACT: M, ACT Science Avg\",\n",
      "   \"C40CAA14R\": \"Campus 2014 ACT: Pacific Islander, ACT Avg\",\n",
      "   \"C40CAE14R\": \"Campus 2014 ACT: Pacific Islander, ACT ELA Avg\",\n",
      "   \"C40CAM14R\": \"Campus 2014 ACT: Pacific Islander, ACT Math Avg\",\n",
      "   \"C40CAC14R\": \"Campus 2014 ACT: Pacific Islander, ACT Science Avg\",\n",
      "   \"C20CAA14R\": \"Campus 2014 ACT: Two or more races, ACT Avg\",\n",
      "   \"C20CAE14R\": \"Campus 2014 ACT: Two or more races, ACT ELA Avg\",\n",
      "   \"C20CAM14R\": \"Campus 2014 ACT: Two or more races, ACT Math Avg\",\n",
      "   \"C20CAC14R\": \"Campus 2014 ACT: Two or more races, ACT Science Avg\",\n",
      "   \"CW0CAA14R\": \"Campus 2014 ACT: White, ACT Avg\",\n",
      "   \"CW0CAE14R\": \"Campus 2014 ACT: White, ACT ELA Avg\",\n",
      "   \"CW0CAM14R\": \"Campus 2014 ACT: White, ACT Math Avg\",\n",
      "   \"CW0CAC14R\": \"Campus 2014 ACT: White, ACT Science Avg\",\n",
      "   \"CB0CC14R\": \"Campus 2014 SAT/ACT: African American, % Above Criterion\",\n",
      "   \"CB0CT14R\": \"Campus 2014 SAT/ACT: African American, % Test-Taking\",\n",
      "   \"CA0CC14R\": \"Campus 2014 SAT/ACT: All, % Above Criterion\",\n",
      "   \"CA0CT14R\": \"Campus 2014 SAT/ACT: All, % Test-Taking\",\n",
      "   \"CI0CC14R\": \"Campus 2014 SAT/ACT: American Indian, % Above Criterion\",\n",
      "   \"CI0CT14R\": \"Campus 2014 SAT/ACT: American Indian, % Test-Taking\",\n",
      "   \"C30CC14R\": \"Campus 2014 SAT/ACT: Asian, % Above Criterion\",\n",
      "   \"C30CT14R\": \"Campus 2014 SAT/ACT: Asian, % Test-Taking\",\n",
      "   \"CE0CC14R\": \"Campus 2014 SAT/ACT: Econ Disadv, % Above Criterion\",\n",
      "   \"CE0CT14R\": \"Campus 2014 SAT/ACT: Econ Disadv, % Test-Taking\",\n",
      "   \"CF0CC14R\": \"Campus 2014 SAT/ACT: F, % Above Criterion\",\n",
      "   \"CF0CT14R\": \"Campus 2014 SAT/ACT: F, % Test-Taking\",\n",
      "   \"CH0CC14R\": \"Campus 2014 SAT/ACT: Hispanic, % Above Criterion\",\n",
      "   \"CH0CT14R\": \"Campus 2014 SAT/ACT: Hispanic, % Test-Taking\",\n",
      "   \"CM0CC14R\": \"Campus 2014 SAT/ACT: M, % Above Criterion\",\n",
      "   \"CM0CT14R\": \"Campus 2014 SAT/ACT: M, % Test-Taking\",\n",
      "   \"C40CC14R\": \"Campus 2014 SAT/ACT: Pacific Islander, % Above Criterion\",\n",
      "   \"C40CT14R\": \"Campus 2014 SAT/ACT: Pacific Islander, % Test-Taking\",\n",
      "   \"C20CC14R\": \"Campus 2014 SAT/ACT: Two or more races, % Above Criterion\",\n",
      "   \"C20CT14R\": \"Campus 2014 SAT/ACT: Two or more races, % Test-Taking\",\n",
      "   \"CW0CC14R\": \"Campus 2014 SAT/ACT: White, % Above Criterion\",\n",
      "   \"CW0CT14R\": \"Campus 2014 SAT/ACT: White, % Test-Taking\",\n",
      "   \"CB0CSA14R\": \"Campus 2014 SAT: African American, SAT Avg\",\n",
      "   \"CB0CSE14R\": \"Campus 2014 SAT: African American, SAT ELA Avg\",\n",
      "   \"CB0CSM14R\": \"Campus 2014 SAT: African American, SAT Math Avg\",\n",
      "   \"CA0CSA14R\": \"Campus 2014 SAT: All, SAT Avg\",\n",
      "   \"CA0CSE14R\": \"Campus 2014 SAT: All, SAT ELA Avg\",\n",
      "   \"CA0CSM14R\": \"Campus 2014 SAT: All, SAT Math Avg\",\n",
      "   \"CI0CSA14R\": \"Campus 2014 SAT: American Indian, SAT Avg\",\n",
      "   \"CI0CSE14R\": \"Campus 2014 SAT: American Indian, SAT ELA Avg\",\n",
      "   \"CI0CSM14R\": \"Campus 2014 SAT: American Indian, SAT Math Avg\",\n",
      "   \"C30CSA14R\": \"Campus 2014 SAT: Asian, SAT Avg\",\n",
      "   \"C30CSE14R\": \"Campus 2014 SAT: Asian, SAT ELA Avg\",\n",
      "   \"C30CSM14R\": \"Campus 2014 SAT: Asian, SAT Math Avg\",\n",
      "   \"CE0CSA14R\": \"Campus 2014 SAT: Econ Disadv, SAT Avg\",\n",
      "   \"CE0CSE14R\": \"Campus 2014 SAT: Econ Disadv, SAT ELA Avg\",\n",
      "   \"CE0CSM14R\": \"Campus 2014 SAT: Econ Disadv, SAT Math Avg\",\n",
      "   \"CF0CSA14R\": \"Campus 2014 SAT: F, SAT Avg\",\n",
      "   \"CF0CSE14R\": \"Campus 2014 SAT: F, SAT ELA Avg\",\n",
      "   \"CF0CSM14R\": \"Campus 2014 SAT: F, SAT Math Avg\",\n",
      "   \"CH0CSA14R\": \"Campus 2014 SAT: Hispanic, SAT Avg\",\n",
      "   \"CH0CSE14R\": \"Campus 2014 SAT: Hispanic, SAT ELA Avg\",\n",
      "   \"CH0CSM14R\": \"Campus 2014 SAT: Hispanic, SAT Math Avg\",\n",
      "   \"CM0CSA14R\": \"Campus 2014 SAT: M, SAT Avg\",\n",
      "   \"CM0CSE14R\": \"Campus 2014 SAT: M, SAT ELA Avg\",\n",
      "   \"CM0CSM14R\": \"Campus 2014 SAT: M, SAT Math Avg\",\n",
      "   \"C40CSA14R\": \"Campus 2014 SAT: Pacific Islander, SAT Avg\",\n",
      "   \"C40CSE14R\": \"Campus 2014 SAT: Pacific Islander, SAT ELA Avg\",\n",
      "   \"C40CSM14R\": \"Campus 2014 SAT: Pacific Islander, SAT Math Avg\",\n",
      "   \"C20CSA14R\": \"Campus 2014 SAT: Two or more races, SAT Avg\",\n",
      "   \"C20CSE14R\": \"Campus 2014 SAT: Two or more races, SAT ELA Avg\",\n",
      "   \"C20CSM14R\": \"Campus 2014 SAT: Two or more races, SAT Math Avg\",\n",
      "   \"CW0CSA14R\": \"Campus 2014 SAT: White, SAT Avg\",\n",
      "   \"CW0CSE14R\": \"Campus 2014 SAT: White, SAT ELA Avg\",\n",
      "   \"CW0CSM14R\": \"Campus 2014 SAT: White, SAT Math Avg\",\n",
      "   \"CB0CAA15R\": \"Campus 2015 ACT: African American, ACT Avg\",\n",
      "   \"CB0CAE15R\": \"Campus 2015 ACT: African American, ACT ELA Avg\",\n",
      "   \"CB0CAM15R\": \"Campus 2015 ACT: African American, ACT Math Avg\",\n",
      "   \"CB0CAC15R\": \"Campus 2015 ACT: African American, ACT Science Avg\",\n",
      "   \"CA0CAA15R\": \"Campus 2015 ACT: All, ACT Avg\",\n",
      "   \"CA0CAE15R\": \"Campus 2015 ACT: All, ACT ELA Avg\",\n",
      "   \"CA0CAM15R\": \"Campus 2015 ACT: All, ACT Math Avg\",\n",
      "   \"CA0CAC15R\": \"Campus 2015 ACT: All, ACT Science Avg\",\n",
      "   \"CI0CAA15R\": \"Campus 2015 ACT: American Indian, ACT Avg\",\n",
      "   \"CI0CAE15R\": \"Campus 2015 ACT: American Indian, ACT ELA Avg\",\n",
      "   \"CI0CAM15R\": \"Campus 2015 ACT: American Indian, ACT Math Avg\",\n",
      "   \"CI0CAC15R\": \"Campus 2015 ACT: American Indian, ACT Science Avg\",\n",
      "   \"C30CAA15R\": \"Campus 2015 ACT: Asian, ACT Avg\",\n",
      "   \"C30CAE15R\": \"Campus 2015 ACT: Asian, ACT ELA Avg\",\n",
      "   \"C30CAM15R\": \"Campus 2015 ACT: Asian, ACT Math Avg\",\n",
      "   \"C30CAC15R\": \"Campus 2015 ACT: Asian, ACT Science Avg\",\n",
      "   \"CE0CAA15R\": \"Campus 2015 ACT: Econ Disadv, ACT Avg\",\n",
      "   \"CE0CAE15R\": \"Campus 2015 ACT: Econ Disadv, ACT ELA Avg\",\n",
      "   \"CE0CAM15R\": \"Campus 2015 ACT: Econ Disadv, ACT Math Avg\",\n",
      "   \"CE0CAC15R\": \"Campus 2015 ACT: Econ Disadv, ACT Science Avg\",\n",
      "   \"CF0CAA15R\": \"Campus 2015 ACT: F, ACT Avg\",\n",
      "   \"CF0CAE15R\": \"Campus 2015 ACT: F, ACT ELA Avg\",\n",
      "   \"CF0CAM15R\": \"Campus 2015 ACT: F, ACT Math Avg\",\n",
      "   \"CF0CAC15R\": \"Campus 2015 ACT: F, ACT Science Avg\",\n",
      "   \"CH0CAA15R\": \"Campus 2015 ACT: Hispanic, ACT Avg\",\n",
      "   \"CH0CAE15R\": \"Campus 2015 ACT: Hispanic, ACT ELA Avg\",\n",
      "   \"CH0CAM15R\": \"Campus 2015 ACT: Hispanic, ACT Math Avg\",\n",
      "   \"CH0CAC15R\": \"Campus 2015 ACT: Hispanic, ACT Science Avg\",\n",
      "   \"CM0CAA15R\": \"Campus 2015 ACT: M, ACT Avg\",\n",
      "   \"CM0CAE15R\": \"Campus 2015 ACT: M, ACT ELA Avg\",\n",
      "   \"CM0CAM15R\": \"Campus 2015 ACT: M, ACT Math Avg\",\n",
      "   \"CM0CAC15R\": \"Campus 2015 ACT: M, ACT Science Avg\",\n",
      "   \"C40CAA15R\": \"Campus 2015 ACT: Pacific Islander, ACT Avg\",\n",
      "   \"C40CAE15R\": \"Campus 2015 ACT: Pacific Islander, ACT ELA Avg\",\n",
      "   \"C40CAM15R\": \"Campus 2015 ACT: Pacific Islander, ACT Math Avg\",\n",
      "   \"C40CAC15R\": \"Campus 2015 ACT: Pacific Islander, ACT Science Avg\",\n",
      "   \"C20CAA15R\": \"Campus 2015 ACT: Two or more races, ACT Avg\",\n",
      "   \"C20CAE15R\": \"Campus 2015 ACT: Two or more races, ACT ELA Avg\",\n",
      "   \"C20CAM15R\": \"Campus 2015 ACT: Two or more races, ACT Math Avg\",\n",
      "   \"C20CAC15R\": \"Campus 2015 ACT: Two or more races, ACT Science Avg\",\n",
      "   \"CW0CAA15R\": \"Campus 2015 ACT: White, ACT Avg\",\n",
      "   \"CW0CAE15R\": \"Campus 2015 ACT: White, ACT ELA Avg\",\n",
      "   \"CW0CAM15R\": \"Campus 2015 ACT: White, ACT Math Avg\",\n",
      "   \"CW0CAC15R\": \"Campus 2015 ACT: White, ACT Science Avg\",\n",
      "   \"CB0CC15R\": \"Campus 2015 SAT/ACT: African American, % Above Criterion\",\n",
      "   \"CB0CT15R\": \"Campus 2015 SAT/ACT: African American, % Test-Taking\",\n",
      "   \"CA0CC15R\": \"Campus 2015 SAT/ACT: All, % Above Criterion\",\n",
      "   \"CA0CT15R\": \"Campus 2015 SAT/ACT: All, % Test-Taking\",\n",
      "   \"CI0CC15R\": \"Campus 2015 SAT/ACT: American Indian, % Above Criterion\",\n",
      "   \"CI0CT15R\": \"Campus 2015 SAT/ACT: American Indian, % Test-Taking\",\n",
      "   \"C30CC15R\": \"Campus 2015 SAT/ACT: Asian, % Above Criterion\",\n",
      "   \"C30CT15R\": \"Campus 2015 SAT/ACT: Asian, % Test-Taking\",\n",
      "   \"CE0CC15R\": \"Campus 2015 SAT/ACT: Econ Disadv, % Above Criterion\",\n",
      "   \"CE0CT15R\": \"Campus 2015 SAT/ACT: Econ Disadv, % Test-Taking\",\n",
      "   \"CF0CC15R\": \"Campus 2015 SAT/ACT: F, % Above Criterion\",\n",
      "   \"CF0CT15R\": \"Campus 2015 SAT/ACT: F, % Test-Taking\",\n",
      "   \"CH0CC15R\": \"Campus 2015 SAT/ACT: Hispanic, % Above Criterion\",\n",
      "   \"CH0CT15R\": \"Campus 2015 SAT/ACT: Hispanic, % Test-Taking\",\n",
      "   \"CM0CC15R\": \"Campus 2015 SAT/ACT: M, % Above Criterion\",\n",
      "   \"CM0CT15R\": \"Campus 2015 SAT/ACT: M, % Test-Taking\",\n",
      "   \"C40CC15R\": \"Campus 2015 SAT/ACT: Pacific Islander, % Above Criterion\",\n",
      "   \"C40CT15R\": \"Campus 2015 SAT/ACT: Pacific Islander, % Test-Taking\",\n",
      "   \"C20CC15R\": \"Campus 2015 SAT/ACT: Two or more races, % Above Criterion\",\n",
      "   \"C20CT15R\": \"Campus 2015 SAT/ACT: Two or more races, % Test-Taking\",\n",
      "   \"CW0CC15R\": \"Campus 2015 SAT/ACT: White, % Above Criterion\",\n",
      "   \"CW0CT15R\": \"Campus 2015 SAT/ACT: White, % Test-Taking\",\n",
      "   \"CB0CSA15R\": \"Campus 2015 SAT: African American, SAT Avg\",\n",
      "   \"CB0CSE15R\": \"Campus 2015 SAT: African American, SAT ELA Avg\",\n",
      "   \"CB0CSM15R\": \"Campus 2015 SAT: African American, SAT Math Avg\",\n",
      "   \"CA0CSA15R\": \"Campus 2015 SAT: All, SAT Avg\",\n",
      "   \"CA0CSE15R\": \"Campus 2015 SAT: All, SAT ELA Avg\",\n",
      "   \"CA0CSM15R\": \"Campus 2015 SAT: All, SAT Math Avg\",\n",
      "   \"CI0CSA15R\": \"Campus 2015 SAT: American Indian, SAT Avg\",\n",
      "   \"CI0CSE15R\": \"Campus 2015 SAT: American Indian, SAT ELA Avg\",\n",
      "   \"CI0CSM15R\": \"Campus 2015 SAT: American Indian, SAT Math Avg\",\n",
      "   \"C30CSA15R\": \"Campus 2015 SAT: Asian, SAT Avg\",\n",
      "   \"C30CSE15R\": \"Campus 2015 SAT: Asian, SAT ELA Avg\",\n",
      "   \"C30CSM15R\": \"Campus 2015 SAT: Asian, SAT Math Avg\",\n",
      "   \"CE0CSA15R\": \"Campus 2015 SAT: Econ Disadv, SAT Avg\",\n",
      "   \"CE0CSE15R\": \"Campus 2015 SAT: Econ Disadv, SAT ELA Avg\",\n",
      "   \"CE0CSM15R\": \"Campus 2015 SAT: Econ Disadv, SAT Math Avg\",\n",
      "   \"CF0CSA15R\": \"Campus 2015 SAT: F, SAT Avg\",\n",
      "   \"CF0CSE15R\": \"Campus 2015 SAT: F, SAT ELA Avg\",\n",
      "   \"CF0CSM15R\": \"Campus 2015 SAT: F, SAT Math Avg\",\n",
      "   \"CH0CSA15R\": \"Campus 2015 SAT: Hispanic, SAT Avg\",\n",
      "   \"CH0CSE15R\": \"Campus 2015 SAT: Hispanic, SAT ELA Avg\",\n",
      "   \"CH0CSM15R\": \"Campus 2015 SAT: Hispanic, SAT Math Avg\",\n",
      "   \"CM0CSA15R\": \"Campus 2015 SAT: M, SAT Avg\",\n",
      "   \"CM0CSE15R\": \"Campus 2015 SAT: M, SAT ELA Avg\",\n",
      "   \"CM0CSM15R\": \"Campus 2015 SAT: M, SAT Math Avg\",\n",
      "   \"C40CSA15R\": \"Campus 2015 SAT: Pacific Islander, SAT Avg\",\n",
      "   \"C40CSE15R\": \"Campus 2015 SAT: Pacific Islander, SAT ELA Avg\",\n",
      "   \"C40CSM15R\": \"Campus 2015 SAT: Pacific Islander, SAT Math Avg\",\n",
      "   \"C20CSA15R\": \"Campus 2015 SAT: Two or more races, SAT Avg\",\n",
      "   \"C20CSE15R\": \"Campus 2015 SAT: Two or more races, SAT ELA Avg\",\n",
      "   \"C20CSM15R\": \"Campus 2015 SAT: Two or more races, SAT Math Avg\",\n",
      "   \"CW0CSA15R\": \"Campus 2015 SAT: White, SAT Avg\",\n",
      "   \"CW0CSE15R\": \"Campus 2015 SAT: White, SAT ELA Avg\",\n",
      "   \"CW0CSM15R\": \"Campus 2015 SAT: White, SAT Math Avg\"\n",
      "}\n"
     ]
    }
   ],
   "source": [
    "print(f'2020: {json.dumps(CCAD_2020.clean(), indent=3)}')\n",
    "print(f'2016: {json.dumps(CCAD_2016.clean(), indent=3)}')"
   ],
   "metadata": {
    "collapsed": false,
    "pycharm": {
     "name": "#%%\n"
    }
   }
  },
  {
   "cell_type": "markdown",
   "source": [
    "Now I'll add my own replacements to shorten the descriptions further:"
   ],
   "metadata": {
    "collapsed": false
   }
  },
  {
   "cell_type": "code",
   "execution_count": 31,
   "outputs": [
    {
     "name": "stdout",
     "output_type": "stream",
     "text": [
      "2020: {\n",
      "   \"CB0CAA18R\": \"18 ACT: African American Students, ACT Average\",\n",
      "   \"CB0CAE18R\": \"18 ACT: African American Students, ACT ELA Average\",\n",
      "   \"CB0CAM18R\": \"18 ACT: African American Students, ACT Math Average\",\n",
      "   \"CB0CAC18R\": \"18 ACT: African American Students, ACT Science Average\",\n",
      "   \"CA0CAA18R\": \"18 ACT: All Students, ACT Average\",\n",
      "   \"CA0CAE18R\": \"18 ACT: All Students, ACT ELA Average\",\n",
      "   \"CA0CAM18R\": \"18 ACT: All Students, ACT Math Average\",\n",
      "   \"CA0CAC18R\": \"18 ACT: All Students, ACT Science Average\",\n",
      "   \"CI0CAA18R\": \"18 ACT: American Indian Students, ACT Average\",\n",
      "   \"CI0CAE18R\": \"18 ACT: American Indian Students, ACT ELA Average\",\n",
      "   \"CI0CAM18R\": \"18 ACT: American Indian Students, ACT Math Average\",\n",
      "   \"CI0CAC18R\": \"18 ACT: American Indian Students, ACT Science Average\",\n",
      "   \"C30CAA18R\": \"18 ACT: Asian Students, ACT Average\",\n",
      "   \"C30CAE18R\": \"18 ACT: Asian Students, ACT ELA Average\",\n",
      "   \"C30CAM18R\": \"18 ACT: Asian Students, ACT Math Average\",\n",
      "   \"C30CAC18R\": \"18 ACT: Asian Students, ACT Science Average\",\n",
      "   \"CE0CAA18R\": \"18 ACT: Econ Disadv Students, ACT Average\",\n",
      "   \"CE0CAE18R\": \"18 ACT: Econ Disadv Students, ACT ELA Average\",\n",
      "   \"CE0CAM18R\": \"18 ACT: Econ Disadv Students, ACT Math Average\",\n",
      "   \"CE0CAC18R\": \"18 ACT: Econ Disadv Students, ACT Science Average\",\n",
      "   \"CF0CAA18R\": \"18 ACT: Female Students, ACT Average\",\n",
      "   \"CF0CAE18R\": \"18 ACT: Female Students, ACT ELA Average\",\n",
      "   \"CF0CAM18R\": \"18 ACT: Female Students, ACT Math Average\",\n",
      "   \"CF0CAC18R\": \"18 ACT: Female Students, ACT Science Average\",\n",
      "   \"CH0CAA18R\": \"18 ACT: Hispanic Students, ACT Average\",\n",
      "   \"CH0CAE18R\": \"18 ACT: Hispanic Students, ACT ELA Average\",\n",
      "   \"CH0CAM18R\": \"18 ACT: Hispanic Students, ACT Math Average\",\n",
      "   \"CH0CAC18R\": \"18 ACT: Hispanic Students, ACT Science Average\",\n",
      "   \"CM0CAA18R\": \"18 ACT: Male Students, ACT Average\",\n",
      "   \"CM0CAE18R\": \"18 ACT: Male Students, ACT ELA Average\",\n",
      "   \"CM0CAM18R\": \"18 ACT: Male Students, ACT Math Average\",\n",
      "   \"CM0CAC18R\": \"18 ACT: Male Students, ACT Science Average\",\n",
      "   \"C40CAA18R\": \"18 ACT: Pacific Islander Students, ACT Average\",\n",
      "   \"C40CAE18R\": \"18 ACT: Pacific Islander Students, ACT ELA Average\",\n",
      "   \"C40CAM18R\": \"18 ACT: Pacific Islander Students, ACT Math Average\",\n",
      "   \"C40CAC18R\": \"18 ACT: Pacific Islander Students, ACT Science Average\",\n",
      "   \"C20CAA18R\": \"18 ACT: Two or More Races Students, ACT Average\",\n",
      "   \"C20CAE18R\": \"18 ACT: Two or More Races Students, ACT ELA Average\",\n",
      "   \"C20CAM18R\": \"18 ACT: Two or More Races Students, ACT Math Average\",\n",
      "   \"C20CAC18R\": \"18 ACT: Two or More Races Students, ACT Science Average\",\n",
      "   \"CW0CAA18R\": \"18 ACT: White Students, ACT Average\",\n",
      "   \"CW0CAE18R\": \"18 ACT: White Students, ACT ELA Average\",\n",
      "   \"CW0CAM18R\": \"18 ACT: White Students, ACT Math Average\",\n",
      "   \"CW0CAC18R\": \"18 ACT: White Students, ACT Science Average\",\n",
      "   \"CB0CC18R\": \"18 SAT/ACT: African American Students, % Above Criterion\",\n",
      "   \"CB0CT18R\": \"18 SAT/ACT: African American Students, % Test-Taking\",\n",
      "   \"CA0CC18R\": \"18 SAT/ACT: All Students, % Above Criterion\",\n",
      "   \"CA0CT18R\": \"18 SAT/ACT: All Students, % Test-Taking\",\n",
      "   \"CI0CC18R\": \"18 SAT/ACT: American Indian Students, % Above Criterion\",\n",
      "   \"CI0CT18R\": \"18 SAT/ACT: American Indian Students, % Test-Taking\",\n",
      "   \"C30CC18R\": \"18 SAT/ACT: Asian Students, % Above Criterion\",\n",
      "   \"C30CT18R\": \"18 SAT/ACT: Asian Students, % Test-Taking\",\n",
      "   \"CE0CC18R\": \"18 SAT/ACT: Econ Disadv Students, % Above Criterion\",\n",
      "   \"CE0CT18R\": \"18 SAT/ACT: Econ Disadv Students, % Test-Taking\",\n",
      "   \"CF0CC18R\": \"18 SAT/ACT: Female Students, % Above Criterion\",\n",
      "   \"CF0CT18R\": \"18 SAT/ACT: Female Students, % Test-Taking\",\n",
      "   \"CH0CC18R\": \"18 SAT/ACT: Hispanic Students, % Above Criterion\",\n",
      "   \"CH0CT18R\": \"18 SAT/ACT: Hispanic Students, % Test-Taking\",\n",
      "   \"CM0CC18R\": \"18 SAT/ACT: Male Students, % Above Criterion\",\n",
      "   \"CM0CT18R\": \"18 SAT/ACT: Male Students, % Test-Taking\",\n",
      "   \"C40CC18R\": \"18 SAT/ACT: Pacific Islander Students, % Above Criterion\",\n",
      "   \"C40CT18R\": \"18 SAT/ACT: Pacific Islander Students, % Test-Taking\",\n",
      "   \"C20CC18R\": \"18 SAT/ACT: Two or More Races Students, % Above Criterion\",\n",
      "   \"C20CT18R\": \"18 SAT/ACT: Two or More Races Students, % Test-Taking\",\n",
      "   \"CW0CC18R\": \"18 SAT/ACT: White Students, % Above Criterion\",\n",
      "   \"CW0CT18R\": \"18 SAT/ACT: White Students, % Test-Taking\",\n",
      "   \"CB0CSA18R\": \"18 SAT: African American Students, SAT Average\",\n",
      "   \"CB0CSE18R\": \"18 SAT: African American Students, SAT ELA Average\",\n",
      "   \"CB0CSM18R\": \"18 SAT: African American Students, SAT Math Average\",\n",
      "   \"CA0CSA18R\": \"18 SAT: All Students, SAT Average\",\n",
      "   \"CA0CSE18R\": \"18 SAT: All Students, SAT ELA Average\",\n",
      "   \"CA0CSM18R\": \"18 SAT: All Students, SAT Math Average\",\n",
      "   \"CI0CSA18R\": \"18 SAT: American Indian Students, SAT Average\",\n",
      "   \"CI0CSE18R\": \"18 SAT: American Indian Students, SAT ELA Average\",\n",
      "   \"CI0CSM18R\": \"18 SAT: American Indian Students, SAT Math Average\",\n",
      "   \"C30CSA18R\": \"18 SAT: Asian Students, SAT Average\",\n",
      "   \"C30CSE18R\": \"18 SAT: Asian Students, SAT ELA Average\",\n",
      "   \"C30CSM18R\": \"18 SAT: Asian Students, SAT Math Average\",\n",
      "   \"CE0CSA18R\": \"18 SAT: Econ Disadv Students, SAT Average\",\n",
      "   \"CE0CSE18R\": \"18 SAT: Econ Disadv Students, SAT ELA Average\",\n",
      "   \"CE0CSM18R\": \"18 SAT: Econ Disadv Students, SAT Math Average\",\n",
      "   \"CF0CSA18R\": \"18 SAT: Female Students, SAT Average\",\n",
      "   \"CF0CSE18R\": \"18 SAT: Female Students, SAT ELA Average\",\n",
      "   \"CF0CSM18R\": \"18 SAT: Female Students, SAT Math Average\",\n",
      "   \"CH0CSA18R\": \"18 SAT: Hispanic Students, SAT Average\",\n",
      "   \"CH0CSE18R\": \"18 SAT: Hispanic Students, SAT ELA Average\",\n",
      "   \"CH0CSM18R\": \"18 SAT: Hispanic Students, SAT Math Average\",\n",
      "   \"CM0CSA18R\": \"18 SAT: Male Students, SAT Average\",\n",
      "   \"CM0CSE18R\": \"18 SAT: Male Students, SAT ELA Average\",\n",
      "   \"CM0CSM18R\": \"18 SAT: Male Students, SAT Math Average\",\n",
      "   \"C40CSA18R\": \"18 SAT: Pacific Islander Students, SAT Average\",\n",
      "   \"C40CSE18R\": \"18 SAT: Pacific Islander Students, SAT ELA Average\",\n",
      "   \"C40CSM18R\": \"18 SAT: Pacific Islander Students, SAT Math Average\",\n",
      "   \"C20CSA18R\": \"18 SAT: Two or More Races Students, SAT Average\",\n",
      "   \"C20CSE18R\": \"18 SAT: Two or More Races Students, SAT ELA Average\",\n",
      "   \"C20CSM18R\": \"18 SAT: Two or More Races Students, SAT Math Average\",\n",
      "   \"CW0CSA18R\": \"18 SAT: White Students, SAT Average\",\n",
      "   \"CW0CSE18R\": \"18 SAT: White Students, SAT ELA Average\",\n",
      "   \"CW0CSM18R\": \"18 SAT: White Students, SAT Math Average\",\n",
      "   \"CB0CAA19R\": \"19 ACT: African American Students, ACT Average\",\n",
      "   \"CB0CAE19R\": \"19 ACT: African American Students, ACT ELA Average\",\n",
      "   \"CB0CAM19R\": \"19 ACT: African American Students, ACT Math Average\",\n",
      "   \"CB0CAC19R\": \"19 ACT: African American Students, ACT Science Average\",\n",
      "   \"CA0CAA19R\": \"19 ACT: All Students, ACT Average\",\n",
      "   \"CA0CAE19R\": \"19 ACT: All Students, ACT ELA Average\",\n",
      "   \"CA0CAM19R\": \"19 ACT: All Students, ACT Math Average\",\n",
      "   \"CA0CAC19R\": \"19 ACT: All Students, ACT Science Average\",\n",
      "   \"CI0CAA19R\": \"19 ACT: American Indian Students, ACT Average\",\n",
      "   \"CI0CAE19R\": \"19 ACT: American Indian Students, ACT ELA Average\",\n",
      "   \"CI0CAM19R\": \"19 ACT: American Indian Students, ACT Math Average\",\n",
      "   \"CI0CAC19R\": \"19 ACT: American Indian Students, ACT Science Average\",\n",
      "   \"C30CAA19R\": \"19 ACT: Asian Students, ACT Average\",\n",
      "   \"C30CAE19R\": \"19 ACT: Asian Students, ACT ELA Average\",\n",
      "   \"C30CAM19R\": \"19 ACT: Asian Students, ACT Math Average\",\n",
      "   \"C30CAC19R\": \"19 ACT: Asian Students, ACT Science Average\",\n",
      "   \"CE0CAA19R\": \"19 ACT: Econ Disadv Students, ACT Average\",\n",
      "   \"CE0CAE19R\": \"19 ACT: Econ Disadv Students, ACT ELA Average\",\n",
      "   \"CE0CAM19R\": \"19 ACT: Econ Disadv Students, ACT Math Average\",\n",
      "   \"CE0CAC19R\": \"19 ACT: Econ Disadv Students, ACT Science Average\",\n",
      "   \"CF0CAA19R\": \"19 ACT: Female Students, ACT Average\",\n",
      "   \"CF0CAE19R\": \"19 ACT: Female Students, ACT ELA Average\",\n",
      "   \"CF0CAM19R\": \"19 ACT: Female Students, ACT Math Average\",\n",
      "   \"CF0CAC19R\": \"19 ACT: Female Students, ACT Science Average\",\n",
      "   \"CH0CAA19R\": \"19 ACT: Hispanic Students, ACT Average\",\n",
      "   \"CH0CAE19R\": \"19 ACT: Hispanic Students, ACT ELA Average\",\n",
      "   \"CH0CAM19R\": \"19 ACT: Hispanic Students, ACT Math Average\",\n",
      "   \"CH0CAC19R\": \"19 ACT: Hispanic Students, ACT Science Average\",\n",
      "   \"CM0CAA19R\": \"19 ACT: Male Students, ACT Average\",\n",
      "   \"CM0CAE19R\": \"19 ACT: Male Students, ACT ELA Average\",\n",
      "   \"CM0CAM19R\": \"19 ACT: Male Students, ACT Math Average\",\n",
      "   \"CM0CAC19R\": \"19 ACT: Male Students, ACT Science Average\",\n",
      "   \"C40CAA19R\": \"19 ACT: Pacific Islander Students, ACT Average\",\n",
      "   \"C40CAE19R\": \"19 ACT: Pacific Islander Students, ACT ELA Average\",\n",
      "   \"C40CAM19R\": \"19 ACT: Pacific Islander Students, ACT Math Average\",\n",
      "   \"C40CAC19R\": \"19 ACT: Pacific Islander Students, ACT Science Average\",\n",
      "   \"C20CAA19R\": \"19 ACT: Two or More Races Students, ACT Average\",\n",
      "   \"C20CAE19R\": \"19 ACT: Two or More Races Students, ACT ELA Average\",\n",
      "   \"C20CAM19R\": \"19 ACT: Two or More Races Students, ACT Math Average\",\n",
      "   \"C20CAC19R\": \"19 ACT: Two or More Races Students, ACT Science Average\",\n",
      "   \"CW0CAA19R\": \"19 ACT: White Students, ACT Average\",\n",
      "   \"CW0CAE19R\": \"19 ACT: White Students, ACT ELA Average\",\n",
      "   \"CW0CAM19R\": \"19 ACT: White Students, ACT Math Average\",\n",
      "   \"CW0CAC19R\": \"19 ACT: White Students, ACT Science Average\",\n",
      "   \"CB0CC19R\": \"19 SAT/ACT: African American Students, % Above Criterion\",\n",
      "   \"CB0CT19R\": \"19 SAT/ACT: African American Students, % Test-Taking\",\n",
      "   \"CA0CC19R\": \"19 SAT/ACT: All Students, % Above Criterion\",\n",
      "   \"CA0CT19R\": \"19 SAT/ACT: All Students, % Test-Taking\",\n",
      "   \"CI0CC19R\": \"19 SAT/ACT: American Indian Students, % Above Criterion\",\n",
      "   \"CI0CT19R\": \"19 SAT/ACT: American Indian Students, % Test-Taking\",\n",
      "   \"C30CC19R\": \"19 SAT/ACT: Asian Students, % Above Criterion\",\n",
      "   \"C30CT19R\": \"19 SAT/ACT: Asian Students, % Test-Taking\",\n",
      "   \"CE0CC19R\": \"19 SAT/ACT: Econ Disadv Students, % Above Criterion\",\n",
      "   \"CE0CT19R\": \"19 SAT/ACT: Econ Disadv Students, % Test-Taking\",\n",
      "   \"CF0CC19R\": \"19 SAT/ACT: Female Students, % Above Criterion\",\n",
      "   \"CF0CT19R\": \"19 SAT/ACT: Female Students, % Test-Taking\",\n",
      "   \"CH0CC19R\": \"19 SAT/ACT: Hispanic Students, % Above Criterion\",\n",
      "   \"CH0CT19R\": \"19 SAT/ACT: Hispanic Students, % Test-Taking\",\n",
      "   \"CM0CC19R\": \"19 SAT/ACT: Male Students, % Above Criterion\",\n",
      "   \"CM0CT19R\": \"19 SAT/ACT: Male Students, % Test-Taking\",\n",
      "   \"C40CC19R\": \"19 SAT/ACT: Pacific Islander Students, % Above Criterion\",\n",
      "   \"C40CT19R\": \"19 SAT/ACT: Pacific Islander Students, % Test-Taking\",\n",
      "   \"C20CC19R\": \"19 SAT/ACT: Two or More Races Students, % Above Criterion\",\n",
      "   \"C20CT19R\": \"19 SAT/ACT: Two or More Races Students, % Test-Taking\",\n",
      "   \"CW0CC19R\": \"19 SAT/ACT: White Students, % Above Criterion\",\n",
      "   \"CW0CT19R\": \"19 SAT/ACT: White Students, % Test-Taking\",\n",
      "   \"CB0CSA19R\": \"19 SAT: African American Students, SAT Average\",\n",
      "   \"CB0CSE19R\": \"19 SAT: African American Students, SAT ELA Average\",\n",
      "   \"CB0CSM19R\": \"19 SAT: African American Students, SAT Math Average\",\n",
      "   \"CA0CSA19R\": \"19 SAT: All Students, SAT Average\",\n",
      "   \"CA0CSE19R\": \"19 SAT: All Students, SAT ELA Average\",\n",
      "   \"CA0CSM19R\": \"19 SAT: All Students, SAT Math Average\",\n",
      "   \"CI0CSA19R\": \"19 SAT: American Indian Students, SAT Average\",\n",
      "   \"CI0CSE19R\": \"19 SAT: American Indian Students, SAT ELA Average\",\n",
      "   \"CI0CSM19R\": \"19 SAT: American Indian Students, SAT Math Average\",\n",
      "   \"C30CSA19R\": \"19 SAT: Asian Students, SAT Average\",\n",
      "   \"C30CSE19R\": \"19 SAT: Asian Students, SAT ELA Average\",\n",
      "   \"C30CSM19R\": \"19 SAT: Asian Students, SAT Math Average\",\n",
      "   \"CE0CSA19R\": \"19 SAT: Econ Disadv Students, SAT Average\",\n",
      "   \"CE0CSE19R\": \"19 SAT: Econ Disadv Students, SAT ELA Average\",\n",
      "   \"CE0CSM19R\": \"19 SAT: Econ Disadv Students, SAT Math Average\",\n",
      "   \"CF0CSA19R\": \"19 SAT: Female Students, SAT Average\",\n",
      "   \"CF0CSE19R\": \"19 SAT: Female Students, SAT ELA Average\",\n",
      "   \"CF0CSM19R\": \"19 SAT: Female Students, SAT Math Average\",\n",
      "   \"CH0CSA19R\": \"19 SAT: Hispanic Students, SAT Average\",\n",
      "   \"CH0CSE19R\": \"19 SAT: Hispanic Students, SAT ELA Average\",\n",
      "   \"CH0CSM19R\": \"19 SAT: Hispanic Students, SAT Math Average\",\n",
      "   \"CM0CSA19R\": \"19 SAT: Male Students, SAT Average\",\n",
      "   \"CM0CSE19R\": \"19 SAT: Male Students, SAT ELA Average\",\n",
      "   \"CM0CSM19R\": \"19 SAT: Male Students, SAT Math Average\",\n",
      "   \"C40CSA19R\": \"19 SAT: Pacific Islander Students, SAT Average\",\n",
      "   \"C40CSE19R\": \"19 SAT: Pacific Islander Students, SAT ELA Average\",\n",
      "   \"C40CSM19R\": \"19 SAT: Pacific Islander Students, SAT Math Average\",\n",
      "   \"C20CSA19R\": \"19 SAT: Two or More Races Students, SAT Average\",\n",
      "   \"C20CSE19R\": \"19 SAT: Two or More Races Students, SAT ELA Average\",\n",
      "   \"C20CSM19R\": \"19 SAT: Two or More Races Students, SAT Math Average\",\n",
      "   \"CW0CSA19R\": \"19 SAT: White Students, SAT Average\",\n",
      "   \"CW0CSE19R\": \"19 SAT: White Students, SAT ELA Average\",\n",
      "   \"CW0CSM19R\": \"19 SAT: White Students, SAT Math Average\"\n",
      "}\n",
      "2016: {\n",
      "   \"CB0CAA14R\": \"14 ACT: African American Students, ACT Average\",\n",
      "   \"CB0CAE14R\": \"14 ACT: African American Students, ACT ELA Average\",\n",
      "   \"CB0CAM14R\": \"14 ACT: African American Students, ACT Math Average\",\n",
      "   \"CB0CAC14R\": \"14 ACT: African American Students, ACT Science Average\",\n",
      "   \"CA0CAA14R\": \"14 ACT: All Students, ACT Average\",\n",
      "   \"CA0CAE14R\": \"14 ACT: All Students, ACT ELA Average\",\n",
      "   \"CA0CAM14R\": \"14 ACT: All Students, ACT Math Average\",\n",
      "   \"CA0CAC14R\": \"14 ACT: All Students, ACT Science Average\",\n",
      "   \"CI0CAA14R\": \"14 ACT: American Indian Students, ACT Average\",\n",
      "   \"CI0CAE14R\": \"14 ACT: American Indian Students, ACT ELA Average\",\n",
      "   \"CI0CAM14R\": \"14 ACT: American Indian Students, ACT Math Average\",\n",
      "   \"CI0CAC14R\": \"14 ACT: American Indian Students, ACT Science Average\",\n",
      "   \"C30CAA14R\": \"14 ACT: Asian Students, ACT Average\",\n",
      "   \"C30CAE14R\": \"14 ACT: Asian Students, ACT ELA Average\",\n",
      "   \"C30CAM14R\": \"14 ACT: Asian Students, ACT Math Average\",\n",
      "   \"C30CAC14R\": \"14 ACT: Asian Students, ACT Science Average\",\n",
      "   \"CE0CAA14R\": \"14 ACT: Econ Disadv Students, ACT Average\",\n",
      "   \"CE0CAE14R\": \"14 ACT: Econ Disadv Students, ACT ELA Average\",\n",
      "   \"CE0CAM14R\": \"14 ACT: Econ Disadv Students, ACT Math Average\",\n",
      "   \"CE0CAC14R\": \"14 ACT: Econ Disadv Students, ACT Science Average\",\n",
      "   \"CF0CAA14R\": \"14 ACT: Female Students, ACT Average\",\n",
      "   \"CF0CAE14R\": \"14 ACT: Female Students, ACT ELA Average\",\n",
      "   \"CF0CAM14R\": \"14 ACT: Female Students, ACT Math Average\",\n",
      "   \"CF0CAC14R\": \"14 ACT: Female Students, ACT Science Average\",\n",
      "   \"CH0CAA14R\": \"14 ACT: Hispanic Students, ACT Average\",\n",
      "   \"CH0CAE14R\": \"14 ACT: Hispanic Students, ACT ELA Average\",\n",
      "   \"CH0CAM14R\": \"14 ACT: Hispanic Students, ACT Math Average\",\n",
      "   \"CH0CAC14R\": \"14 ACT: Hispanic Students, ACT Science Average\",\n",
      "   \"CM0CAA14R\": \"14 ACT: Male Students, ACT Average\",\n",
      "   \"CM0CAE14R\": \"14 ACT: Male Students, ACT ELA Average\",\n",
      "   \"CM0CAM14R\": \"14 ACT: Male Students, ACT Math Average\",\n",
      "   \"CM0CAC14R\": \"14 ACT: Male Students, ACT Science Average\",\n",
      "   \"C40CAA14R\": \"14 ACT: Pacific Islander Students, ACT Average\",\n",
      "   \"C40CAE14R\": \"14 ACT: Pacific Islander Students, ACT ELA Average\",\n",
      "   \"C40CAM14R\": \"14 ACT: Pacific Islander Students, ACT Math Average\",\n",
      "   \"C40CAC14R\": \"14 ACT: Pacific Islander Students, ACT Science Average\",\n",
      "   \"C20CAA14R\": \"14 ACT: Two or more races Students, ACT Average\",\n",
      "   \"C20CAE14R\": \"14 ACT: Two or more races Students, ACT ELA Average\",\n",
      "   \"C20CAM14R\": \"14 ACT: Two or more races Students, ACT Math Average\",\n",
      "   \"C20CAC14R\": \"14 ACT: Two or more races Students, ACT Science Average\",\n",
      "   \"CW0CAA14R\": \"14 ACT: White Students, ACT Average\",\n",
      "   \"CW0CAE14R\": \"14 ACT: White Students, ACT ELA Average\",\n",
      "   \"CW0CAM14R\": \"14 ACT: White Students, ACT Math Average\",\n",
      "   \"CW0CAC14R\": \"14 ACT: White Students, ACT Science Average\",\n",
      "   \"CB0CC14R\": \"14 SAT/ACT: African American Students, % Above Criterion\",\n",
      "   \"CB0CT14R\": \"14 SAT/ACT: African American Students, % Test-Taking\",\n",
      "   \"CA0CC14R\": \"14 SAT/ACT: All Students, % Above Criterion\",\n",
      "   \"CA0CT14R\": \"14 SAT/ACT: All Students, % Test-Taking\",\n",
      "   \"CI0CC14R\": \"14 SAT/ACT: American Indian Students, % Above Criterion\",\n",
      "   \"CI0CT14R\": \"14 SAT/ACT: American Indian Students, % Test-Taking\",\n",
      "   \"C30CC14R\": \"14 SAT/ACT: Asian Students, % Above Criterion\",\n",
      "   \"C30CT14R\": \"14 SAT/ACT: Asian Students, % Test-Taking\",\n",
      "   \"CE0CC14R\": \"14 SAT/ACT: Econ Disadv Students, % Above Criterion\",\n",
      "   \"CE0CT14R\": \"14 SAT/ACT: Econ Disadv Students, % Test-Taking\",\n",
      "   \"CF0CC14R\": \"14 SAT/ACT: Female Students, % Above Criterion\",\n",
      "   \"CF0CT14R\": \"14 SAT/ACT: Female Students, % Test-Taking\",\n",
      "   \"CH0CC14R\": \"14 SAT/ACT: Hispanic Students, % Above Criterion\",\n",
      "   \"CH0CT14R\": \"14 SAT/ACT: Hispanic Students, % Test-Taking\",\n",
      "   \"CM0CC14R\": \"14 SAT/ACT: Male Students, % Above Criterion\",\n",
      "   \"CM0CT14R\": \"14 SAT/ACT: Male Students, % Test-Taking\",\n",
      "   \"C40CC14R\": \"14 SAT/ACT: Pacific Islander Students, % Above Criterion\",\n",
      "   \"C40CT14R\": \"14 SAT/ACT: Pacific Islander Students, % Test-Taking\",\n",
      "   \"C20CC14R\": \"14 SAT/ACT: Two or more races Students, % Above Criterion\",\n",
      "   \"C20CT14R\": \"14 SAT/ACT: Two or more races Students, % Test-Taking\",\n",
      "   \"CW0CC14R\": \"14 SAT/ACT: White Students, % Above Criterion\",\n",
      "   \"CW0CT14R\": \"14 SAT/ACT: White Students, % Test-Taking\",\n",
      "   \"CB0CSA14R\": \"14 SAT: African American Students, SAT Average\",\n",
      "   \"CB0CSE14R\": \"14 SAT: African American Students, SAT ELA Average\",\n",
      "   \"CB0CSM14R\": \"14 SAT: African American Students, SAT Math Average\",\n",
      "   \"CA0CSA14R\": \"14 SAT: All Students, SAT Average\",\n",
      "   \"CA0CSE14R\": \"14 SAT: All Students, SAT ELA Average\",\n",
      "   \"CA0CSM14R\": \"14 SAT: All Students, SAT Math Average\",\n",
      "   \"CI0CSA14R\": \"14 SAT: American Indian Students, SAT Average\",\n",
      "   \"CI0CSE14R\": \"14 SAT: American Indian Students, SAT ELA Average\",\n",
      "   \"CI0CSM14R\": \"14 SAT: American Indian Students, SAT Math Average\",\n",
      "   \"C30CSA14R\": \"14 SAT: Asian Students, SAT Average\",\n",
      "   \"C30CSE14R\": \"14 SAT: Asian Students, SAT ELA Average\",\n",
      "   \"C30CSM14R\": \"14 SAT: Asian Students, SAT Math Average\",\n",
      "   \"CE0CSA14R\": \"14 SAT: Econ Disadv Students, SAT Average\",\n",
      "   \"CE0CSE14R\": \"14 SAT: Econ Disadv Students, SAT ELA Average\",\n",
      "   \"CE0CSM14R\": \"14 SAT: Econ Disadv Students, SAT Math Average\",\n",
      "   \"CF0CSA14R\": \"14 SAT: Female Students, SAT Average\",\n",
      "   \"CF0CSE14R\": \"14 SAT: Female Students, SAT ELA Average\",\n",
      "   \"CF0CSM14R\": \"14 SAT: Female Students, SAT Math Average\",\n",
      "   \"CH0CSA14R\": \"14 SAT: Hispanic Students, SAT Average\",\n",
      "   \"CH0CSE14R\": \"14 SAT: Hispanic Students, SAT ELA Average\",\n",
      "   \"CH0CSM14R\": \"14 SAT: Hispanic Students, SAT Math Average\",\n",
      "   \"CM0CSA14R\": \"14 SAT: Male Students, SAT Average\",\n",
      "   \"CM0CSE14R\": \"14 SAT: Male Students, SAT ELA Average\",\n",
      "   \"CM0CSM14R\": \"14 SAT: Male Students, SAT Math Average\",\n",
      "   \"C40CSA14R\": \"14 SAT: Pacific Islander Students, SAT Average\",\n",
      "   \"C40CSE14R\": \"14 SAT: Pacific Islander Students, SAT ELA Average\",\n",
      "   \"C40CSM14R\": \"14 SAT: Pacific Islander Students, SAT Math Average\",\n",
      "   \"C20CSA14R\": \"14 SAT: Two or more races Students, SAT Average\",\n",
      "   \"C20CSE14R\": \"14 SAT: Two or more races Students, SAT ELA Average\",\n",
      "   \"C20CSM14R\": \"14 SAT: Two or more races Students, SAT Math Average\",\n",
      "   \"CW0CSA14R\": \"14 SAT: White Students, SAT Average\",\n",
      "   \"CW0CSE14R\": \"14 SAT: White Students, SAT ELA Average\",\n",
      "   \"CW0CSM14R\": \"14 SAT: White Students, SAT Math Average\",\n",
      "   \"CB0CAA15R\": \"15 ACT: African American Students, ACT Average\",\n",
      "   \"CB0CAE15R\": \"15 ACT: African American Students, ACT ELA Average\",\n",
      "   \"CB0CAM15R\": \"15 ACT: African American Students, ACT Math Average\",\n",
      "   \"CB0CAC15R\": \"15 ACT: African American Students, ACT Science Average\",\n",
      "   \"CA0CAA15R\": \"15 ACT: All Students, ACT Average\",\n",
      "   \"CA0CAE15R\": \"15 ACT: All Students, ACT ELA Average\",\n",
      "   \"CA0CAM15R\": \"15 ACT: All Students, ACT Math Average\",\n",
      "   \"CA0CAC15R\": \"15 ACT: All Students, ACT Science Average\",\n",
      "   \"CI0CAA15R\": \"15 ACT: American Indian Students, ACT Average\",\n",
      "   \"CI0CAE15R\": \"15 ACT: American Indian Students, ACT ELA Average\",\n",
      "   \"CI0CAM15R\": \"15 ACT: American Indian Students, ACT Math Average\",\n",
      "   \"CI0CAC15R\": \"15 ACT: American Indian Students, ACT Science Average\",\n",
      "   \"C30CAA15R\": \"15 ACT: Asian Students, ACT Average\",\n",
      "   \"C30CAE15R\": \"15 ACT: Asian Students, ACT ELA Average\",\n",
      "   \"C30CAM15R\": \"15 ACT: Asian Students, ACT Math Average\",\n",
      "   \"C30CAC15R\": \"15 ACT: Asian Students, ACT Science Average\",\n",
      "   \"CE0CAA15R\": \"15 ACT: Econ Disadv Students, ACT Average\",\n",
      "   \"CE0CAE15R\": \"15 ACT: Econ Disadv Students, ACT ELA Average\",\n",
      "   \"CE0CAM15R\": \"15 ACT: Econ Disadv Students, ACT Math Average\",\n",
      "   \"CE0CAC15R\": \"15 ACT: Econ Disadv Students, ACT Science Average\",\n",
      "   \"CF0CAA15R\": \"15 ACT: Female Students, ACT Average\",\n",
      "   \"CF0CAE15R\": \"15 ACT: Female Students, ACT ELA Average\",\n",
      "   \"CF0CAM15R\": \"15 ACT: Female Students, ACT Math Average\",\n",
      "   \"CF0CAC15R\": \"15 ACT: Female Students, ACT Science Average\",\n",
      "   \"CH0CAA15R\": \"15 ACT: Hispanic Students, ACT Average\",\n",
      "   \"CH0CAE15R\": \"15 ACT: Hispanic Students, ACT ELA Average\",\n",
      "   \"CH0CAM15R\": \"15 ACT: Hispanic Students, ACT Math Average\",\n",
      "   \"CH0CAC15R\": \"15 ACT: Hispanic Students, ACT Science Average\",\n",
      "   \"CM0CAA15R\": \"15 ACT: Male Students, ACT Average\",\n",
      "   \"CM0CAE15R\": \"15 ACT: Male Students, ACT ELA Average\",\n",
      "   \"CM0CAM15R\": \"15 ACT: Male Students, ACT Math Average\",\n",
      "   \"CM0CAC15R\": \"15 ACT: Male Students, ACT Science Average\",\n",
      "   \"C40CAA15R\": \"15 ACT: Pacific Islander Students, ACT Average\",\n",
      "   \"C40CAE15R\": \"15 ACT: Pacific Islander Students, ACT ELA Average\",\n",
      "   \"C40CAM15R\": \"15 ACT: Pacific Islander Students, ACT Math Average\",\n",
      "   \"C40CAC15R\": \"15 ACT: Pacific Islander Students, ACT Science Average\",\n",
      "   \"C20CAA15R\": \"15 ACT: Two or more races Students, ACT Average\",\n",
      "   \"C20CAE15R\": \"15 ACT: Two or more races Students, ACT ELA Average\",\n",
      "   \"C20CAM15R\": \"15 ACT: Two or more races Students, ACT Math Average\",\n",
      "   \"C20CAC15R\": \"15 ACT: Two or more races Students, ACT Science Average\",\n",
      "   \"CW0CAA15R\": \"15 ACT: White Students, ACT Average\",\n",
      "   \"CW0CAE15R\": \"15 ACT: White Students, ACT ELA Average\",\n",
      "   \"CW0CAM15R\": \"15 ACT: White Students, ACT Math Average\",\n",
      "   \"CW0CAC15R\": \"15 ACT: White Students, ACT Science Average\",\n",
      "   \"CB0CC15R\": \"15 SAT/ACT: African American Students, % Above Criterion\",\n",
      "   \"CB0CT15R\": \"15 SAT/ACT: African American Students, % Test-Taking\",\n",
      "   \"CA0CC15R\": \"15 SAT/ACT: All Students, % Above Criterion\",\n",
      "   \"CA0CT15R\": \"15 SAT/ACT: All Students, % Test-Taking\",\n",
      "   \"CI0CC15R\": \"15 SAT/ACT: American Indian Students, % Above Criterion\",\n",
      "   \"CI0CT15R\": \"15 SAT/ACT: American Indian Students, % Test-Taking\",\n",
      "   \"C30CC15R\": \"15 SAT/ACT: Asian Students, % Above Criterion\",\n",
      "   \"C30CT15R\": \"15 SAT/ACT: Asian Students, % Test-Taking\",\n",
      "   \"CE0CC15R\": \"15 SAT/ACT: Econ Disadv Students, % Above Criterion\",\n",
      "   \"CE0CT15R\": \"15 SAT/ACT: Econ Disadv Students, % Test-Taking\",\n",
      "   \"CF0CC15R\": \"15 SAT/ACT: Female Students, % Above Criterion\",\n",
      "   \"CF0CT15R\": \"15 SAT/ACT: Female Students, % Test-Taking\",\n",
      "   \"CH0CC15R\": \"15 SAT/ACT: Hispanic Students, % Above Criterion\",\n",
      "   \"CH0CT15R\": \"15 SAT/ACT: Hispanic Students, % Test-Taking\",\n",
      "   \"CM0CC15R\": \"15 SAT/ACT: Male Students, % Above Criterion\",\n",
      "   \"CM0CT15R\": \"15 SAT/ACT: Male Students, % Test-Taking\",\n",
      "   \"C40CC15R\": \"15 SAT/ACT: Pacific Islander Students, % Above Criterion\",\n",
      "   \"C40CT15R\": \"15 SAT/ACT: Pacific Islander Students, % Test-Taking\",\n",
      "   \"C20CC15R\": \"15 SAT/ACT: Two or more races Students, % Above Criterion\",\n",
      "   \"C20CT15R\": \"15 SAT/ACT: Two or more races Students, % Test-Taking\",\n",
      "   \"CW0CC15R\": \"15 SAT/ACT: White Students, % Above Criterion\",\n",
      "   \"CW0CT15R\": \"15 SAT/ACT: White Students, % Test-Taking\",\n",
      "   \"CB0CSA15R\": \"15 SAT: African American Students, SAT Average\",\n",
      "   \"CB0CSE15R\": \"15 SAT: African American Students, SAT ELA Average\",\n",
      "   \"CB0CSM15R\": \"15 SAT: African American Students, SAT Math Average\",\n",
      "   \"CA0CSA15R\": \"15 SAT: All Students, SAT Average\",\n",
      "   \"CA0CSE15R\": \"15 SAT: All Students, SAT ELA Average\",\n",
      "   \"CA0CSM15R\": \"15 SAT: All Students, SAT Math Average\",\n",
      "   \"CI0CSA15R\": \"15 SAT: American Indian Students, SAT Average\",\n",
      "   \"CI0CSE15R\": \"15 SAT: American Indian Students, SAT ELA Average\",\n",
      "   \"CI0CSM15R\": \"15 SAT: American Indian Students, SAT Math Average\",\n",
      "   \"C30CSA15R\": \"15 SAT: Asian Students, SAT Average\",\n",
      "   \"C30CSE15R\": \"15 SAT: Asian Students, SAT ELA Average\",\n",
      "   \"C30CSM15R\": \"15 SAT: Asian Students, SAT Math Average\",\n",
      "   \"CE0CSA15R\": \"15 SAT: Econ Disadv Students, SAT Average\",\n",
      "   \"CE0CSE15R\": \"15 SAT: Econ Disadv Students, SAT ELA Average\",\n",
      "   \"CE0CSM15R\": \"15 SAT: Econ Disadv Students, SAT Math Average\",\n",
      "   \"CF0CSA15R\": \"15 SAT: Female Students, SAT Average\",\n",
      "   \"CF0CSE15R\": \"15 SAT: Female Students, SAT ELA Average\",\n",
      "   \"CF0CSM15R\": \"15 SAT: Female Students, SAT Math Average\",\n",
      "   \"CH0CSA15R\": \"15 SAT: Hispanic Students, SAT Average\",\n",
      "   \"CH0CSE15R\": \"15 SAT: Hispanic Students, SAT ELA Average\",\n",
      "   \"CH0CSM15R\": \"15 SAT: Hispanic Students, SAT Math Average\",\n",
      "   \"CM0CSA15R\": \"15 SAT: Male Students, SAT Average\",\n",
      "   \"CM0CSE15R\": \"15 SAT: Male Students, SAT ELA Average\",\n",
      "   \"CM0CSM15R\": \"15 SAT: Male Students, SAT Math Average\",\n",
      "   \"C40CSA15R\": \"15 SAT: Pacific Islander Students, SAT Average\",\n",
      "   \"C40CSE15R\": \"15 SAT: Pacific Islander Students, SAT ELA Average\",\n",
      "   \"C40CSM15R\": \"15 SAT: Pacific Islander Students, SAT Math Average\",\n",
      "   \"C20CSA15R\": \"15 SAT: Two or more races Students, SAT Average\",\n",
      "   \"C20CSE15R\": \"15 SAT: Two or more races Students, SAT ELA Average\",\n",
      "   \"C20CSM15R\": \"15 SAT: Two or more races Students, SAT Math Average\",\n",
      "   \"CW0CSA15R\": \"15 SAT: White Students, SAT Average\",\n",
      "   \"CW0CSE15R\": \"15 SAT: White Students, SAT ELA Average\",\n",
      "   \"CW0CSM15R\": \"15 SAT: White Students, SAT Math Average\"\n",
      "}\n"
     ]
    }
   ],
   "source": [
    "target_words = {\n",
    "    'Campus ': ' ',\n",
    "    '2019': '19',\n",
    "    '2018': '18',\n",
    "    '2015': '15',\n",
    "    '2014': '14'\n",
    "}\n",
    "\n",
    "print(f'2020: {json.dumps(CCAD_2020.clean(replacement_dict=target_words, override_default=True), indent=3)}')\n",
    "print(f'2016: {json.dumps(CCAD_2016.clean(replacement_dict=target_words, override_default=True), indent=3)}')"
   ],
   "metadata": {
    "collapsed": false,
    "pycharm": {
     "name": "#%%\n"
    }
   }
  },
  {
   "cell_type": "markdown",
   "source": [
    "Now that my dictionaries are in a form I'm comfortable working with, I'll go ahead and use it to remap my dataset."
   ],
   "metadata": {
    "collapsed": false,
    "pycharm": {
     "name": "#%% md\n"
    }
   }
  },
  {
   "cell_type": "code",
   "execution_count": 32,
   "outputs": [
    {
     "name": "stdout",
     "output_type": "stream",
     "text": [
      "CSV file stored at: ./Processed_Datasets/CCAD_19-20_cleaned_mappings.csv\n",
      "CSV file stored at: ./Processed_Datasets/CCAD_15-16_cleaned_mappings.csv\n"
     ]
    }
   ],
   "source": [
    "CCAD_2020.dataset_path = 'A://DS4A/DS4A Empowerment/Project/Downloads/Waco ISD/CCAD_19-20.csv'\n",
    "CCAD_2016.dataset_path = 'A://DS4A/DS4A Empowerment/Project/Downloads/Waco ISD/CCAD_15-16.csv'\n",
    "\n",
    "CCAD_2020.remap()\n",
    "CCAD_2016.remap()"
   ],
   "metadata": {
    "collapsed": false,
    "pycharm": {
     "name": "#%%\n"
    }
   }
  },
  {
   "cell_type": "markdown",
   "source": [
    "Reloading the remapped datasets:"
   ],
   "metadata": {
    "collapsed": false,
    "pycharm": {
     "name": "#%% md\n"
    }
   }
  },
  {
   "cell_type": "code",
   "execution_count": 33,
   "outputs": [
    {
     "data": {
      "text/plain": "       CAMPUS  18 ACT: Two or More Races Students, ACT Average  \\\n0  '161914002                                             13.2   \n1  '161914003                                             18.5   \n\n   19 ACT: Two or More Races Students, ACT Average  \\\n0                                             20.0   \n1                                             15.8   \n\n   18 ACT: Two or More Races Students, ACT Science Average  \\\n0                                               12.6         \n1                                               17.3         \n\n   19 ACT: Two or More Races Students, ACT Science Average  \\\n0                                               20.8         \n1                                               17.6         \n\n   18 ACT: Two or More Races Students, ACT ELA Average  \\\n0                                               11.9     \n1                                               18.5     \n\n   19 ACT: Two or More Races Students, ACT ELA Average  \\\n0                                               19.7     \n1                                               14.3     \n\n   18 ACT: Two or More Races Students, ACT Math Average  \\\n0                                               15.0      \n1                                               19.2      \n\n   19 ACT: Two or More Races Students, ACT Math Average  \\\n0                                               19.6      \n1                                               16.6      \n\n   18 SAT/ACT: Two or More Races Students, % Above Criterion  ...  \\\n0                                                0.0          ...   \n1                                               16.7          ...   \n\n   18 SAT/ACT: White Students, % Above Criterion  \\\n0                                           30.4   \n1                                           30.8   \n\n   19 SAT/ACT: White Students, % Above Criterion  \\\n0                                           51.4   \n1                                           19.0   \n\n   18 SAT: White Students, SAT Average  19 SAT: White Students, SAT Average  \\\n0                                 1098                                 1206   \n1                                   -1                                   -1   \n\n   18 SAT: White Students, SAT ELA Average  \\\n0                                      574   \n1                                       -1   \n\n   19 SAT: White Students, SAT ELA Average  \\\n0                                      604   \n1                                       -1   \n\n   18 SAT: White Students, SAT Math Average  \\\n0                                       523   \n1                                        -1   \n\n   19 SAT: White Students, SAT Math Average  \\\n0                                       602   \n1                                        -1   \n\n   18 SAT/ACT: White Students, % Test-Taking  \\\n0                                       88.5   \n1                                       86.7   \n\n   19 SAT/ACT: White Students, % Test-Taking  \n0                                       85.4  \n1                                       95.5  \n\n[2 rows x 199 columns]",
      "text/html": "<div>\n<style scoped>\n    .dataframe tbody tr th:only-of-type {\n        vertical-align: middle;\n    }\n\n    .dataframe tbody tr th {\n        vertical-align: top;\n    }\n\n    .dataframe thead th {\n        text-align: right;\n    }\n</style>\n<table border=\"1\" class=\"dataframe\">\n  <thead>\n    <tr style=\"text-align: right;\">\n      <th></th>\n      <th>CAMPUS</th>\n      <th>18 ACT: Two or More Races Students, ACT Average</th>\n      <th>19 ACT: Two or More Races Students, ACT Average</th>\n      <th>18 ACT: Two or More Races Students, ACT Science Average</th>\n      <th>19 ACT: Two or More Races Students, ACT Science Average</th>\n      <th>18 ACT: Two or More Races Students, ACT ELA Average</th>\n      <th>19 ACT: Two or More Races Students, ACT ELA Average</th>\n      <th>18 ACT: Two or More Races Students, ACT Math Average</th>\n      <th>19 ACT: Two or More Races Students, ACT Math Average</th>\n      <th>18 SAT/ACT: Two or More Races Students, % Above Criterion</th>\n      <th>...</th>\n      <th>18 SAT/ACT: White Students, % Above Criterion</th>\n      <th>19 SAT/ACT: White Students, % Above Criterion</th>\n      <th>18 SAT: White Students, SAT Average</th>\n      <th>19 SAT: White Students, SAT Average</th>\n      <th>18 SAT: White Students, SAT ELA Average</th>\n      <th>19 SAT: White Students, SAT ELA Average</th>\n      <th>18 SAT: White Students, SAT Math Average</th>\n      <th>19 SAT: White Students, SAT Math Average</th>\n      <th>18 SAT/ACT: White Students, % Test-Taking</th>\n      <th>19 SAT/ACT: White Students, % Test-Taking</th>\n    </tr>\n  </thead>\n  <tbody>\n    <tr>\n      <th>0</th>\n      <td>'161914002</td>\n      <td>13.2</td>\n      <td>20.0</td>\n      <td>12.6</td>\n      <td>20.8</td>\n      <td>11.9</td>\n      <td>19.7</td>\n      <td>15.0</td>\n      <td>19.6</td>\n      <td>0.0</td>\n      <td>...</td>\n      <td>30.4</td>\n      <td>51.4</td>\n      <td>1098</td>\n      <td>1206</td>\n      <td>574</td>\n      <td>604</td>\n      <td>523</td>\n      <td>602</td>\n      <td>88.5</td>\n      <td>85.4</td>\n    </tr>\n    <tr>\n      <th>1</th>\n      <td>'161914003</td>\n      <td>18.5</td>\n      <td>15.8</td>\n      <td>17.3</td>\n      <td>17.6</td>\n      <td>18.5</td>\n      <td>14.3</td>\n      <td>19.2</td>\n      <td>16.6</td>\n      <td>16.7</td>\n      <td>...</td>\n      <td>30.8</td>\n      <td>19.0</td>\n      <td>-1</td>\n      <td>-1</td>\n      <td>-1</td>\n      <td>-1</td>\n      <td>-1</td>\n      <td>-1</td>\n      <td>86.7</td>\n      <td>95.5</td>\n    </tr>\n  </tbody>\n</table>\n<p>2 rows × 199 columns</p>\n</div>"
     },
     "execution_count": 33,
     "metadata": {},
     "output_type": "execute_result"
    }
   ],
   "source": [
    "CCAD_20_cleaned_df = pd.read_csv('./Processed_Datasets/CCAD_19-20_cleaned_mappings.csv')\n",
    "CCAD_15_cleaned_df = pd.read_csv('./Processed_Datasets/CCAD_15-16_cleaned_mappings.csv')\n",
    "\n",
    "CCAD_20_cleaned_df.head(2)"
   ],
   "metadata": {
    "collapsed": false,
    "pycharm": {
     "name": "#%%\n"
    }
   }
  },
  {
   "cell_type": "code",
   "execution_count": 34,
   "outputs": [
    {
     "data": {
      "text/plain": "       CAMPUS 14 ACT: Two or more races Students, ACT Average  \\\n0  '161914002                                              -1   \n1  '161914003                                               .   \n\n   15 ACT: Two or more races Students, ACT Average  \\\n0                                               -1   \n1                                               -1   \n\n  14 ACT: Two or more races Students, ACT Science Average  \\\n0                                                 -1        \n1                                                  .        \n\n   15 ACT: Two or more races Students, ACT Science Average  \\\n0                                                 -1         \n1                                                 -1         \n\n  14 ACT: Two or more races Students, ACT ELA Average  \\\n0                                                 -1    \n1                                                  .    \n\n   15 ACT: Two or more races Students, ACT ELA Average  \\\n0                                                 -1     \n1                                                 -1     \n\n  14 ACT: Two or more races Students, ACT Math Average  \\\n0                                                 -1     \n1                                                  .     \n\n   15 ACT: Two or more races Students, ACT Math Average  \\\n0                                                 -1      \n1                                                 -1      \n\n  14 SAT/ACT: Two or more races Students, % Above Criterion  ...  \\\n0                                                 -1         ...   \n1                                                  .         ...   \n\n   14 SAT/ACT: White Students, % Above Criterion  \\\n0                                           38.9   \n1                                            0.0   \n\n  15 SAT/ACT: White Students, % Above Criterion  \\\n0                                            19   \n1                                            20   \n\n   14 SAT: White Students, SAT Average 15 SAT: White Students, SAT Average  \\\n0                                 1514                                1391   \n1                                   -1                                  -1   \n\n   14 SAT: White Students, SAT ELA Average  \\\n0                                     1006   \n1                                       -1   \n\n  15 SAT: White Students, SAT ELA Average  \\\n0                                     943   \n1                                      -1   \n\n   14 SAT: White Students, SAT Math Average  \\\n0                                       508   \n1                                        -1   \n\n   15 SAT: White Students, SAT Math Average  \\\n0                                       448   \n1                                        -1   \n\n   14 SAT/ACT: White Students, % Test-Taking  \\\n0                                       75.0   \n1                                       20.8   \n\n  15 SAT/ACT: White Students, % Test-Taking  \n0                                      56.8  \n1                                      31.3  \n\n[2 rows x 199 columns]",
      "text/html": "<div>\n<style scoped>\n    .dataframe tbody tr th:only-of-type {\n        vertical-align: middle;\n    }\n\n    .dataframe tbody tr th {\n        vertical-align: top;\n    }\n\n    .dataframe thead th {\n        text-align: right;\n    }\n</style>\n<table border=\"1\" class=\"dataframe\">\n  <thead>\n    <tr style=\"text-align: right;\">\n      <th></th>\n      <th>CAMPUS</th>\n      <th>14 ACT: Two or more races Students, ACT Average</th>\n      <th>15 ACT: Two or more races Students, ACT Average</th>\n      <th>14 ACT: Two or more races Students, ACT Science Average</th>\n      <th>15 ACT: Two or more races Students, ACT Science Average</th>\n      <th>14 ACT: Two or more races Students, ACT ELA Average</th>\n      <th>15 ACT: Two or more races Students, ACT ELA Average</th>\n      <th>14 ACT: Two or more races Students, ACT Math Average</th>\n      <th>15 ACT: Two or more races Students, ACT Math Average</th>\n      <th>14 SAT/ACT: Two or more races Students, % Above Criterion</th>\n      <th>...</th>\n      <th>14 SAT/ACT: White Students, % Above Criterion</th>\n      <th>15 SAT/ACT: White Students, % Above Criterion</th>\n      <th>14 SAT: White Students, SAT Average</th>\n      <th>15 SAT: White Students, SAT Average</th>\n      <th>14 SAT: White Students, SAT ELA Average</th>\n      <th>15 SAT: White Students, SAT ELA Average</th>\n      <th>14 SAT: White Students, SAT Math Average</th>\n      <th>15 SAT: White Students, SAT Math Average</th>\n      <th>14 SAT/ACT: White Students, % Test-Taking</th>\n      <th>15 SAT/ACT: White Students, % Test-Taking</th>\n    </tr>\n  </thead>\n  <tbody>\n    <tr>\n      <th>0</th>\n      <td>'161914002</td>\n      <td>-1</td>\n      <td>-1</td>\n      <td>-1</td>\n      <td>-1</td>\n      <td>-1</td>\n      <td>-1</td>\n      <td>-1</td>\n      <td>-1</td>\n      <td>-1</td>\n      <td>...</td>\n      <td>38.9</td>\n      <td>19</td>\n      <td>1514</td>\n      <td>1391</td>\n      <td>1006</td>\n      <td>943</td>\n      <td>508</td>\n      <td>448</td>\n      <td>75.0</td>\n      <td>56.8</td>\n    </tr>\n    <tr>\n      <th>1</th>\n      <td>'161914003</td>\n      <td>.</td>\n      <td>-1</td>\n      <td>.</td>\n      <td>-1</td>\n      <td>.</td>\n      <td>-1</td>\n      <td>.</td>\n      <td>-1</td>\n      <td>.</td>\n      <td>...</td>\n      <td>0.0</td>\n      <td>20</td>\n      <td>-1</td>\n      <td>-1</td>\n      <td>-1</td>\n      <td>-1</td>\n      <td>-1</td>\n      <td>-1</td>\n      <td>20.8</td>\n      <td>31.3</td>\n    </tr>\n  </tbody>\n</table>\n<p>2 rows × 199 columns</p>\n</div>"
     },
     "execution_count": 34,
     "metadata": {},
     "output_type": "execute_result"
    }
   ],
   "source": [
    "CCAD_15_cleaned_df.head(2)"
   ],
   "metadata": {
    "collapsed": false,
    "pycharm": {
     "name": "#%%\n"
    }
   }
  },
  {
   "cell_type": "markdown",
   "source": [
    "Extracting Hispanic student average SAT scores in our datasets:"
   ],
   "metadata": {
    "collapsed": false,
    "pycharm": {
     "name": "#%% md\n"
    }
   }
  },
  {
   "cell_type": "code",
   "execution_count": 35,
   "outputs": [],
   "source": [
    "\n",
    "CCAD_20_hispanic_df = CCAD_20_cleaned_df.set_index('CAMPUS').filter(axis=1, like='Hispanic')\n",
    "CCAD_15_hispanic_df = CCAD_15_cleaned_df.set_index('CAMPUS').filter(axis=1, like='Hispanic')"
   ],
   "metadata": {
    "collapsed": false,
    "pycharm": {
     "name": "#%%\n"
    }
   }
  },
  {
   "cell_type": "code",
   "execution_count": 36,
   "outputs": [
    {
     "data": {
      "text/plain": "            18 ACT: Hispanic Students, ACT Average  \\\nCAMPUS                                               \n'161914002                                    15.5   \n'161914003                                    15.2   \n\n            19 ACT: Hispanic Students, ACT Average  \\\nCAMPUS                                               \n'161914002                                    15.2   \n'161914003                                    16.2   \n\n            18 ACT: Hispanic Students, ACT Science Average  \\\nCAMPUS                                                       \n'161914002                                            16.2   \n'161914003                                            15.6   \n\n            19 ACT: Hispanic Students, ACT Science Average  \\\nCAMPUS                                                       \n'161914002                                            16.1   \n'161914003                                            17.1   \n\n            18 ACT: Hispanic Students, ACT ELA Average  \\\nCAMPUS                                                   \n'161914002                                        14.6   \n'161914003                                        14.3   \n\n            19 ACT: Hispanic Students, ACT ELA Average  \\\nCAMPUS                                                   \n'161914002                                        14.2   \n'161914003                                        15.2   \n\n            18 ACT: Hispanic Students, ACT Math Average  \\\nCAMPUS                                                    \n'161914002                                         15.9   \n'161914003                                         16.0   \n\n            19 ACT: Hispanic Students, ACT Math Average  \\\nCAMPUS                                                    \n'161914002                                         15.8   \n'161914003                                         16.8   \n\n            18 SAT/ACT: Hispanic Students, % Above Criterion  \\\nCAMPUS                                                         \n'161914002                                              11.0   \n'161914003                                               7.4   \n\n            19 SAT/ACT: Hispanic Students, % Above Criterion  \\\nCAMPUS                                                         \n'161914002                                               8.1   \n'161914003                                              10.8   \n\n            18 SAT: Hispanic Students, SAT Average  \\\nCAMPUS                                               \n'161914002                                    1028   \n'161914003                                     996   \n\n            19 SAT: Hispanic Students, SAT Average  \\\nCAMPUS                                               \n'161914002                                     947   \n'161914003                                    1021   \n\n            18 SAT: Hispanic Students, SAT ELA Average  \\\nCAMPUS                                                   \n'161914002                                         532   \n'161914003                                         509   \n\n            19 SAT: Hispanic Students, SAT ELA Average  \\\nCAMPUS                                                   \n'161914002                                         479   \n'161914003                                         511   \n\n            18 SAT: Hispanic Students, SAT Math Average  \\\nCAMPUS                                                    \n'161914002                                          496   \n'161914003                                          488   \n\n            19 SAT: Hispanic Students, SAT Math Average  \\\nCAMPUS                                                    \n'161914002                                          468   \n'161914003                                          510   \n\n            18 SAT/ACT: Hispanic Students, % Test-Taking  \\\nCAMPUS                                                     \n'161914002                                          88.0   \n'161914003                                          92.5   \n\n            19 SAT/ACT: Hispanic Students, % Test-Taking  \nCAMPUS                                                    \n'161914002                                          88.3  \n'161914003                                          86.6  ",
      "text/html": "<div>\n<style scoped>\n    .dataframe tbody tr th:only-of-type {\n        vertical-align: middle;\n    }\n\n    .dataframe tbody tr th {\n        vertical-align: top;\n    }\n\n    .dataframe thead th {\n        text-align: right;\n    }\n</style>\n<table border=\"1\" class=\"dataframe\">\n  <thead>\n    <tr style=\"text-align: right;\">\n      <th></th>\n      <th>18 ACT: Hispanic Students, ACT Average</th>\n      <th>19 ACT: Hispanic Students, ACT Average</th>\n      <th>18 ACT: Hispanic Students, ACT Science Average</th>\n      <th>19 ACT: Hispanic Students, ACT Science Average</th>\n      <th>18 ACT: Hispanic Students, ACT ELA Average</th>\n      <th>19 ACT: Hispanic Students, ACT ELA Average</th>\n      <th>18 ACT: Hispanic Students, ACT Math Average</th>\n      <th>19 ACT: Hispanic Students, ACT Math Average</th>\n      <th>18 SAT/ACT: Hispanic Students, % Above Criterion</th>\n      <th>19 SAT/ACT: Hispanic Students, % Above Criterion</th>\n      <th>18 SAT: Hispanic Students, SAT Average</th>\n      <th>19 SAT: Hispanic Students, SAT Average</th>\n      <th>18 SAT: Hispanic Students, SAT ELA Average</th>\n      <th>19 SAT: Hispanic Students, SAT ELA Average</th>\n      <th>18 SAT: Hispanic Students, SAT Math Average</th>\n      <th>19 SAT: Hispanic Students, SAT Math Average</th>\n      <th>18 SAT/ACT: Hispanic Students, % Test-Taking</th>\n      <th>19 SAT/ACT: Hispanic Students, % Test-Taking</th>\n    </tr>\n    <tr>\n      <th>CAMPUS</th>\n      <th></th>\n      <th></th>\n      <th></th>\n      <th></th>\n      <th></th>\n      <th></th>\n      <th></th>\n      <th></th>\n      <th></th>\n      <th></th>\n      <th></th>\n      <th></th>\n      <th></th>\n      <th></th>\n      <th></th>\n      <th></th>\n      <th></th>\n      <th></th>\n    </tr>\n  </thead>\n  <tbody>\n    <tr>\n      <th>'161914002</th>\n      <td>15.5</td>\n      <td>15.2</td>\n      <td>16.2</td>\n      <td>16.1</td>\n      <td>14.6</td>\n      <td>14.2</td>\n      <td>15.9</td>\n      <td>15.8</td>\n      <td>11.0</td>\n      <td>8.1</td>\n      <td>1028</td>\n      <td>947</td>\n      <td>532</td>\n      <td>479</td>\n      <td>496</td>\n      <td>468</td>\n      <td>88.0</td>\n      <td>88.3</td>\n    </tr>\n    <tr>\n      <th>'161914003</th>\n      <td>15.2</td>\n      <td>16.2</td>\n      <td>15.6</td>\n      <td>17.1</td>\n      <td>14.3</td>\n      <td>15.2</td>\n      <td>16.0</td>\n      <td>16.8</td>\n      <td>7.4</td>\n      <td>10.8</td>\n      <td>996</td>\n      <td>1021</td>\n      <td>509</td>\n      <td>511</td>\n      <td>488</td>\n      <td>510</td>\n      <td>92.5</td>\n      <td>86.6</td>\n    </tr>\n  </tbody>\n</table>\n</div>"
     },
     "execution_count": 36,
     "metadata": {},
     "output_type": "execute_result"
    }
   ],
   "source": [
    "CCAD_20_hispanic_df.head(2)"
   ],
   "metadata": {
    "collapsed": false,
    "pycharm": {
     "name": "#%%\n"
    }
   }
  },
  {
   "cell_type": "code",
   "execution_count": 37,
   "outputs": [
    {
     "data": {
      "text/plain": "            14 ACT: Hispanic Students, ACT Average  \\\nCAMPUS                                               \n'161914002                                    16.8   \n'161914003                                    18.1   \n\n            15 ACT: Hispanic Students, ACT Average  \\\nCAMPUS                                               \n'161914002                                    18.0   \n'161914003                                    19.1   \n\n            14 ACT: Hispanic Students, ACT Science Average  \\\nCAMPUS                                                       \n'161914002                                            17.5   \n'161914003                                            18.7   \n\n            15 ACT: Hispanic Students, ACT Science Average  \\\nCAMPUS                                                       \n'161914002                                            18.6   \n'161914003                                            19.2   \n\n            14 ACT: Hispanic Students, ACT ELA Average  \\\nCAMPUS                                                   \n'161914002                                        15.7   \n'161914003                                        17.3   \n\n            15 ACT: Hispanic Students, ACT ELA Average  \\\nCAMPUS                                                   \n'161914002                                        17.5   \n'161914003                                        18.3   \n\n            14 ACT: Hispanic Students, ACT Math Average  \\\nCAMPUS                                                    \n'161914002                                         17.5   \n'161914003                                         18.7   \n\n            15 ACT: Hispanic Students, ACT Math Average  \\\nCAMPUS                                                    \n'161914002                                         18.2   \n'161914003                                         20.2   \n\n            14 SAT/ACT: Hispanic Students, % Above Criterion  \\\nCAMPUS                                                         \n'161914002                                               5.2   \n'161914003                                               1.4   \n\n            15 SAT/ACT: Hispanic Students, % Above Criterion  \\\nCAMPUS                                                         \n'161914002                                              11.7   \n'161914003                                               7.1   \n\n            14 SAT: Hispanic Students, SAT Average  \\\nCAMPUS                                               \n'161914002                                    1331   \n'161914003                                    1276   \n\n            15 SAT: Hispanic Students, SAT Average  \\\nCAMPUS                                               \n'161914002                                    1228   \n'161914003                                    1255   \n\n            14 SAT: Hispanic Students, SAT ELA Average  \\\nCAMPUS                                                   \n'161914002                                         877   \n'161914003                                         845   \n\n            15 SAT: Hispanic Students, SAT ELA Average  \\\nCAMPUS                                                   \n'161914002                                         806   \n'161914003                                         818   \n\n            14 SAT: Hispanic Students, SAT Math Average  \\\nCAMPUS                                                    \n'161914002                                          454   \n'161914003                                          431   \n\n            15 SAT: Hispanic Students, SAT Math Average  \\\nCAMPUS                                                    \n'161914002                                          422   \n'161914003                                          437   \n\n            14 SAT/ACT: Hispanic Students, % Test-Taking  \\\nCAMPUS                                                     \n'161914002                                          45.0   \n'161914003                                          32.3   \n\n            15 SAT/ACT: Hispanic Students, % Test-Taking  \nCAMPUS                                                    \n'161914002                                          43.2  \n'161914003                                          32.7  ",
      "text/html": "<div>\n<style scoped>\n    .dataframe tbody tr th:only-of-type {\n        vertical-align: middle;\n    }\n\n    .dataframe tbody tr th {\n        vertical-align: top;\n    }\n\n    .dataframe thead th {\n        text-align: right;\n    }\n</style>\n<table border=\"1\" class=\"dataframe\">\n  <thead>\n    <tr style=\"text-align: right;\">\n      <th></th>\n      <th>14 ACT: Hispanic Students, ACT Average</th>\n      <th>15 ACT: Hispanic Students, ACT Average</th>\n      <th>14 ACT: Hispanic Students, ACT Science Average</th>\n      <th>15 ACT: Hispanic Students, ACT Science Average</th>\n      <th>14 ACT: Hispanic Students, ACT ELA Average</th>\n      <th>15 ACT: Hispanic Students, ACT ELA Average</th>\n      <th>14 ACT: Hispanic Students, ACT Math Average</th>\n      <th>15 ACT: Hispanic Students, ACT Math Average</th>\n      <th>14 SAT/ACT: Hispanic Students, % Above Criterion</th>\n      <th>15 SAT/ACT: Hispanic Students, % Above Criterion</th>\n      <th>14 SAT: Hispanic Students, SAT Average</th>\n      <th>15 SAT: Hispanic Students, SAT Average</th>\n      <th>14 SAT: Hispanic Students, SAT ELA Average</th>\n      <th>15 SAT: Hispanic Students, SAT ELA Average</th>\n      <th>14 SAT: Hispanic Students, SAT Math Average</th>\n      <th>15 SAT: Hispanic Students, SAT Math Average</th>\n      <th>14 SAT/ACT: Hispanic Students, % Test-Taking</th>\n      <th>15 SAT/ACT: Hispanic Students, % Test-Taking</th>\n    </tr>\n    <tr>\n      <th>CAMPUS</th>\n      <th></th>\n      <th></th>\n      <th></th>\n      <th></th>\n      <th></th>\n      <th></th>\n      <th></th>\n      <th></th>\n      <th></th>\n      <th></th>\n      <th></th>\n      <th></th>\n      <th></th>\n      <th></th>\n      <th></th>\n      <th></th>\n      <th></th>\n      <th></th>\n    </tr>\n  </thead>\n  <tbody>\n    <tr>\n      <th>'161914002</th>\n      <td>16.8</td>\n      <td>18.0</td>\n      <td>17.5</td>\n      <td>18.6</td>\n      <td>15.7</td>\n      <td>17.5</td>\n      <td>17.5</td>\n      <td>18.2</td>\n      <td>5.2</td>\n      <td>11.7</td>\n      <td>1331</td>\n      <td>1228</td>\n      <td>877</td>\n      <td>806</td>\n      <td>454</td>\n      <td>422</td>\n      <td>45.0</td>\n      <td>43.2</td>\n    </tr>\n    <tr>\n      <th>'161914003</th>\n      <td>18.1</td>\n      <td>19.1</td>\n      <td>18.7</td>\n      <td>19.2</td>\n      <td>17.3</td>\n      <td>18.3</td>\n      <td>18.7</td>\n      <td>20.2</td>\n      <td>1.4</td>\n      <td>7.1</td>\n      <td>1276</td>\n      <td>1255</td>\n      <td>845</td>\n      <td>818</td>\n      <td>431</td>\n      <td>437</td>\n      <td>32.3</td>\n      <td>32.7</td>\n    </tr>\n  </tbody>\n</table>\n</div>"
     },
     "execution_count": 37,
     "metadata": {},
     "output_type": "execute_result"
    }
   ],
   "source": [
    "CCAD_15_hispanic_df.head(2)"
   ],
   "metadata": {
    "collapsed": false,
    "pycharm": {
     "name": "#%%\n"
    }
   }
  },
  {
   "cell_type": "code",
   "source": [
    "CCAD_hispanic_avg_20 = CCAD_20_hispanic_df.filter(axis=1, like='SAT Average')\n",
    "CCAD_hispanic_avg_15 = CCAD_15_hispanic_df.filter(axis=1, like='SAT Average')"
   ],
   "metadata": {
    "collapsed": false,
    "pycharm": {
     "name": "#%%\n"
    }
   },
   "execution_count": 38,
   "outputs": []
  },
  {
   "cell_type": "code",
   "execution_count": 39,
   "outputs": [
    {
     "data": {
      "text/plain": "            14 SAT: Hispanic Students, SAT Average  \\\nCAMPUS                                               \n'161914002                                    1331   \n'161914003                                    1276   \n\n            15 SAT: Hispanic Students, SAT Average  \nCAMPUS                                              \n'161914002                                    1228  \n'161914003                                    1255  ",
      "text/html": "<div>\n<style scoped>\n    .dataframe tbody tr th:only-of-type {\n        vertical-align: middle;\n    }\n\n    .dataframe tbody tr th {\n        vertical-align: top;\n    }\n\n    .dataframe thead th {\n        text-align: right;\n    }\n</style>\n<table border=\"1\" class=\"dataframe\">\n  <thead>\n    <tr style=\"text-align: right;\">\n      <th></th>\n      <th>14 SAT: Hispanic Students, SAT Average</th>\n      <th>15 SAT: Hispanic Students, SAT Average</th>\n    </tr>\n    <tr>\n      <th>CAMPUS</th>\n      <th></th>\n      <th></th>\n    </tr>\n  </thead>\n  <tbody>\n    <tr>\n      <th>'161914002</th>\n      <td>1331</td>\n      <td>1228</td>\n    </tr>\n    <tr>\n      <th>'161914003</th>\n      <td>1276</td>\n      <td>1255</td>\n    </tr>\n  </tbody>\n</table>\n</div>"
     },
     "execution_count": 39,
     "metadata": {},
     "output_type": "execute_result"
    }
   ],
   "source": [
    "CCAD_hispanic_avg_15.head(2)"
   ],
   "metadata": {
    "collapsed": false,
    "pycharm": {
     "name": "#%%\n"
    }
   }
  },
  {
   "cell_type": "code",
   "execution_count": 40,
   "outputs": [
    {
     "data": {
      "text/plain": "            18 SAT: Hispanic Students, SAT Average  \\\nCAMPUS                                               \n'161914002                                    1028   \n'161914003                                     996   \n\n            19 SAT: Hispanic Students, SAT Average  \nCAMPUS                                              \n'161914002                                     947  \n'161914003                                    1021  ",
      "text/html": "<div>\n<style scoped>\n    .dataframe tbody tr th:only-of-type {\n        vertical-align: middle;\n    }\n\n    .dataframe tbody tr th {\n        vertical-align: top;\n    }\n\n    .dataframe thead th {\n        text-align: right;\n    }\n</style>\n<table border=\"1\" class=\"dataframe\">\n  <thead>\n    <tr style=\"text-align: right;\">\n      <th></th>\n      <th>18 SAT: Hispanic Students, SAT Average</th>\n      <th>19 SAT: Hispanic Students, SAT Average</th>\n    </tr>\n    <tr>\n      <th>CAMPUS</th>\n      <th></th>\n      <th></th>\n    </tr>\n  </thead>\n  <tbody>\n    <tr>\n      <th>'161914002</th>\n      <td>1028</td>\n      <td>947</td>\n    </tr>\n    <tr>\n      <th>'161914003</th>\n      <td>996</td>\n      <td>1021</td>\n    </tr>\n  </tbody>\n</table>\n</div>"
     },
     "execution_count": 40,
     "metadata": {},
     "output_type": "execute_result"
    }
   ],
   "source": [
    "CCAD_hispanic_avg_20.head(2)"
   ],
   "metadata": {
    "collapsed": false,
    "pycharm": {
     "name": "#%%\n"
    }
   }
  },
  {
   "cell_type": "code",
   "execution_count": 43,
   "outputs": [
    {
     "data": {
      "text/plain": "            14 SAT: Hispanic Students, SAT Average  \\\nCAMPUS                                               \n'161914002                                    1331   \n'161914003                                    1276   \n\n            15 SAT: Hispanic Students, SAT Average  \\\nCAMPUS                                               \n'161914002                                    1228   \n'161914003                                    1255   \n\n            18 SAT: Hispanic Students, SAT Average  \\\nCAMPUS                                               \n'161914002                                    1028   \n'161914003                                     996   \n\n            19 SAT: Hispanic Students, SAT Average  \nCAMPUS                                              \n'161914002                                     947  \n'161914003                                    1021  ",
      "text/html": "<div>\n<style scoped>\n    .dataframe tbody tr th:only-of-type {\n        vertical-align: middle;\n    }\n\n    .dataframe tbody tr th {\n        vertical-align: top;\n    }\n\n    .dataframe thead th {\n        text-align: right;\n    }\n</style>\n<table border=\"1\" class=\"dataframe\">\n  <thead>\n    <tr style=\"text-align: right;\">\n      <th></th>\n      <th>14 SAT: Hispanic Students, SAT Average</th>\n      <th>15 SAT: Hispanic Students, SAT Average</th>\n      <th>18 SAT: Hispanic Students, SAT Average</th>\n      <th>19 SAT: Hispanic Students, SAT Average</th>\n    </tr>\n    <tr>\n      <th>CAMPUS</th>\n      <th></th>\n      <th></th>\n      <th></th>\n      <th></th>\n    </tr>\n  </thead>\n  <tbody>\n    <tr>\n      <th>'161914002</th>\n      <td>1331</td>\n      <td>1228</td>\n      <td>1028</td>\n      <td>947</td>\n    </tr>\n    <tr>\n      <th>'161914003</th>\n      <td>1276</td>\n      <td>1255</td>\n      <td>996</td>\n      <td>1021</td>\n    </tr>\n  </tbody>\n</table>\n</div>"
     },
     "execution_count": 43,
     "metadata": {},
     "output_type": "execute_result"
    }
   ],
   "source": [
    "sat_averages = CCAD_hispanic_avg_15.join(CCAD_hispanic_avg_20, on='CAMPUS')\n",
    "\n",
    "sat_averages.head(5)"
   ],
   "metadata": {
    "collapsed": false,
    "pycharm": {
     "name": "#%%\n"
    }
   }
  },
  {
   "cell_type": "code",
   "execution_count": 44,
   "outputs": [
    {
     "data": {
      "application/vnd.plotly.v1+json": {
       "config": {
        "plotlyServerURL": "https://plot.ly"
       },
       "data": [
        {
         "alignmentgroup": "True",
         "hovertemplate": "variable=14 SAT: Hispanic Students, SAT Average<br>CAMPUS=%{x}<br>value=%{y}<extra></extra>",
         "legendgroup": "14 SAT: Hispanic Students, SAT Average",
         "marker": {
          "color": "#636efa"
         },
         "name": "14 SAT: Hispanic Students, SAT Average",
         "offsetgroup": "14 SAT: Hispanic Students, SAT Average",
         "orientation": "v",
         "showlegend": true,
         "textposition": "auto",
         "type": "bar",
         "x": [
          "'161914002",
          "'161914003"
         ],
         "xaxis": "x",
         "y": [
          1331,
          1276
         ],
         "yaxis": "y"
        },
        {
         "alignmentgroup": "True",
         "hovertemplate": "variable=15 SAT: Hispanic Students, SAT Average<br>CAMPUS=%{x}<br>value=%{y}<extra></extra>",
         "legendgroup": "15 SAT: Hispanic Students, SAT Average",
         "marker": {
          "color": "#EF553B"
         },
         "name": "15 SAT: Hispanic Students, SAT Average",
         "offsetgroup": "15 SAT: Hispanic Students, SAT Average",
         "orientation": "v",
         "showlegend": true,
         "textposition": "auto",
         "type": "bar",
         "x": [
          "'161914002",
          "'161914003"
         ],
         "xaxis": "x",
         "y": [
          1228,
          1255
         ],
         "yaxis": "y"
        },
        {
         "alignmentgroup": "True",
         "hovertemplate": "variable=18 SAT: Hispanic Students, SAT Average<br>CAMPUS=%{x}<br>value=%{y}<extra></extra>",
         "legendgroup": "18 SAT: Hispanic Students, SAT Average",
         "marker": {
          "color": "#00cc96"
         },
         "name": "18 SAT: Hispanic Students, SAT Average",
         "offsetgroup": "18 SAT: Hispanic Students, SAT Average",
         "orientation": "v",
         "showlegend": true,
         "textposition": "auto",
         "type": "bar",
         "x": [
          "'161914002",
          "'161914003"
         ],
         "xaxis": "x",
         "y": [
          1028,
          996
         ],
         "yaxis": "y"
        },
        {
         "alignmentgroup": "True",
         "hovertemplate": "variable=19 SAT: Hispanic Students, SAT Average<br>CAMPUS=%{x}<br>value=%{y}<extra></extra>",
         "legendgroup": "19 SAT: Hispanic Students, SAT Average",
         "marker": {
          "color": "#ab63fa"
         },
         "name": "19 SAT: Hispanic Students, SAT Average",
         "offsetgroup": "19 SAT: Hispanic Students, SAT Average",
         "orientation": "v",
         "showlegend": true,
         "textposition": "auto",
         "type": "bar",
         "x": [
          "'161914002",
          "'161914003"
         ],
         "xaxis": "x",
         "y": [
          947,
          1021
         ],
         "yaxis": "y"
        }
       ],
       "layout": {
        "barmode": "group",
        "legend": {
         "title": {
          "text": "variable"
         },
         "tracegroupgap": 0
        },
        "margin": {
         "t": 60
        },
        "template": {
         "data": {
          "bar": [
           {
            "error_x": {
             "color": "#2a3f5f"
            },
            "error_y": {
             "color": "#2a3f5f"
            },
            "marker": {
             "line": {
              "color": "#E5ECF6",
              "width": 0.5
             }
            },
            "type": "bar"
           }
          ],
          "barpolar": [
           {
            "marker": {
             "line": {
              "color": "#E5ECF6",
              "width": 0.5
             }
            },
            "type": "barpolar"
           }
          ],
          "carpet": [
           {
            "aaxis": {
             "endlinecolor": "#2a3f5f",
             "gridcolor": "white",
             "linecolor": "white",
             "minorgridcolor": "white",
             "startlinecolor": "#2a3f5f"
            },
            "baxis": {
             "endlinecolor": "#2a3f5f",
             "gridcolor": "white",
             "linecolor": "white",
             "minorgridcolor": "white",
             "startlinecolor": "#2a3f5f"
            },
            "type": "carpet"
           }
          ],
          "choropleth": [
           {
            "colorbar": {
             "outlinewidth": 0,
             "ticks": ""
            },
            "type": "choropleth"
           }
          ],
          "contour": [
           {
            "colorbar": {
             "outlinewidth": 0,
             "ticks": ""
            },
            "colorscale": [
             [
              0.0,
              "#0d0887"
             ],
             [
              0.1111111111111111,
              "#46039f"
             ],
             [
              0.2222222222222222,
              "#7201a8"
             ],
             [
              0.3333333333333333,
              "#9c179e"
             ],
             [
              0.4444444444444444,
              "#bd3786"
             ],
             [
              0.5555555555555556,
              "#d8576b"
             ],
             [
              0.6666666666666666,
              "#ed7953"
             ],
             [
              0.7777777777777778,
              "#fb9f3a"
             ],
             [
              0.8888888888888888,
              "#fdca26"
             ],
             [
              1.0,
              "#f0f921"
             ]
            ],
            "type": "contour"
           }
          ],
          "contourcarpet": [
           {
            "colorbar": {
             "outlinewidth": 0,
             "ticks": ""
            },
            "type": "contourcarpet"
           }
          ],
          "heatmap": [
           {
            "colorbar": {
             "outlinewidth": 0,
             "ticks": ""
            },
            "colorscale": [
             [
              0.0,
              "#0d0887"
             ],
             [
              0.1111111111111111,
              "#46039f"
             ],
             [
              0.2222222222222222,
              "#7201a8"
             ],
             [
              0.3333333333333333,
              "#9c179e"
             ],
             [
              0.4444444444444444,
              "#bd3786"
             ],
             [
              0.5555555555555556,
              "#d8576b"
             ],
             [
              0.6666666666666666,
              "#ed7953"
             ],
             [
              0.7777777777777778,
              "#fb9f3a"
             ],
             [
              0.8888888888888888,
              "#fdca26"
             ],
             [
              1.0,
              "#f0f921"
             ]
            ],
            "type": "heatmap"
           }
          ],
          "heatmapgl": [
           {
            "colorbar": {
             "outlinewidth": 0,
             "ticks": ""
            },
            "colorscale": [
             [
              0.0,
              "#0d0887"
             ],
             [
              0.1111111111111111,
              "#46039f"
             ],
             [
              0.2222222222222222,
              "#7201a8"
             ],
             [
              0.3333333333333333,
              "#9c179e"
             ],
             [
              0.4444444444444444,
              "#bd3786"
             ],
             [
              0.5555555555555556,
              "#d8576b"
             ],
             [
              0.6666666666666666,
              "#ed7953"
             ],
             [
              0.7777777777777778,
              "#fb9f3a"
             ],
             [
              0.8888888888888888,
              "#fdca26"
             ],
             [
              1.0,
              "#f0f921"
             ]
            ],
            "type": "heatmapgl"
           }
          ],
          "histogram": [
           {
            "marker": {
             "colorbar": {
              "outlinewidth": 0,
              "ticks": ""
             }
            },
            "type": "histogram"
           }
          ],
          "histogram2d": [
           {
            "colorbar": {
             "outlinewidth": 0,
             "ticks": ""
            },
            "colorscale": [
             [
              0.0,
              "#0d0887"
             ],
             [
              0.1111111111111111,
              "#46039f"
             ],
             [
              0.2222222222222222,
              "#7201a8"
             ],
             [
              0.3333333333333333,
              "#9c179e"
             ],
             [
              0.4444444444444444,
              "#bd3786"
             ],
             [
              0.5555555555555556,
              "#d8576b"
             ],
             [
              0.6666666666666666,
              "#ed7953"
             ],
             [
              0.7777777777777778,
              "#fb9f3a"
             ],
             [
              0.8888888888888888,
              "#fdca26"
             ],
             [
              1.0,
              "#f0f921"
             ]
            ],
            "type": "histogram2d"
           }
          ],
          "histogram2dcontour": [
           {
            "colorbar": {
             "outlinewidth": 0,
             "ticks": ""
            },
            "colorscale": [
             [
              0.0,
              "#0d0887"
             ],
             [
              0.1111111111111111,
              "#46039f"
             ],
             [
              0.2222222222222222,
              "#7201a8"
             ],
             [
              0.3333333333333333,
              "#9c179e"
             ],
             [
              0.4444444444444444,
              "#bd3786"
             ],
             [
              0.5555555555555556,
              "#d8576b"
             ],
             [
              0.6666666666666666,
              "#ed7953"
             ],
             [
              0.7777777777777778,
              "#fb9f3a"
             ],
             [
              0.8888888888888888,
              "#fdca26"
             ],
             [
              1.0,
              "#f0f921"
             ]
            ],
            "type": "histogram2dcontour"
           }
          ],
          "mesh3d": [
           {
            "colorbar": {
             "outlinewidth": 0,
             "ticks": ""
            },
            "type": "mesh3d"
           }
          ],
          "parcoords": [
           {
            "line": {
             "colorbar": {
              "outlinewidth": 0,
              "ticks": ""
             }
            },
            "type": "parcoords"
           }
          ],
          "pie": [
           {
            "automargin": true,
            "type": "pie"
           }
          ],
          "scatter": [
           {
            "marker": {
             "colorbar": {
              "outlinewidth": 0,
              "ticks": ""
             }
            },
            "type": "scatter"
           }
          ],
          "scatter3d": [
           {
            "line": {
             "colorbar": {
              "outlinewidth": 0,
              "ticks": ""
             }
            },
            "marker": {
             "colorbar": {
              "outlinewidth": 0,
              "ticks": ""
             }
            },
            "type": "scatter3d"
           }
          ],
          "scattercarpet": [
           {
            "marker": {
             "colorbar": {
              "outlinewidth": 0,
              "ticks": ""
             }
            },
            "type": "scattercarpet"
           }
          ],
          "scattergeo": [
           {
            "marker": {
             "colorbar": {
              "outlinewidth": 0,
              "ticks": ""
             }
            },
            "type": "scattergeo"
           }
          ],
          "scattergl": [
           {
            "marker": {
             "colorbar": {
              "outlinewidth": 0,
              "ticks": ""
             }
            },
            "type": "scattergl"
           }
          ],
          "scattermapbox": [
           {
            "marker": {
             "colorbar": {
              "outlinewidth": 0,
              "ticks": ""
             }
            },
            "type": "scattermapbox"
           }
          ],
          "scatterpolar": [
           {
            "marker": {
             "colorbar": {
              "outlinewidth": 0,
              "ticks": ""
             }
            },
            "type": "scatterpolar"
           }
          ],
          "scatterpolargl": [
           {
            "marker": {
             "colorbar": {
              "outlinewidth": 0,
              "ticks": ""
             }
            },
            "type": "scatterpolargl"
           }
          ],
          "scatterternary": [
           {
            "marker": {
             "colorbar": {
              "outlinewidth": 0,
              "ticks": ""
             }
            },
            "type": "scatterternary"
           }
          ],
          "surface": [
           {
            "colorbar": {
             "outlinewidth": 0,
             "ticks": ""
            },
            "colorscale": [
             [
              0.0,
              "#0d0887"
             ],
             [
              0.1111111111111111,
              "#46039f"
             ],
             [
              0.2222222222222222,
              "#7201a8"
             ],
             [
              0.3333333333333333,
              "#9c179e"
             ],
             [
              0.4444444444444444,
              "#bd3786"
             ],
             [
              0.5555555555555556,
              "#d8576b"
             ],
             [
              0.6666666666666666,
              "#ed7953"
             ],
             [
              0.7777777777777778,
              "#fb9f3a"
             ],
             [
              0.8888888888888888,
              "#fdca26"
             ],
             [
              1.0,
              "#f0f921"
             ]
            ],
            "type": "surface"
           }
          ],
          "table": [
           {
            "cells": {
             "fill": {
              "color": "#EBF0F8"
             },
             "line": {
              "color": "white"
             }
            },
            "header": {
             "fill": {
              "color": "#C8D4E3"
             },
             "line": {
              "color": "white"
             }
            },
            "type": "table"
           }
          ]
         },
         "layout": {
          "annotationdefaults": {
           "arrowcolor": "#2a3f5f",
           "arrowhead": 0,
           "arrowwidth": 1
          },
          "autotypenumbers": "strict",
          "coloraxis": {
           "colorbar": {
            "outlinewidth": 0,
            "ticks": ""
           }
          },
          "colorscale": {
           "diverging": [
            [
             0,
             "#8e0152"
            ],
            [
             0.1,
             "#c51b7d"
            ],
            [
             0.2,
             "#de77ae"
            ],
            [
             0.3,
             "#f1b6da"
            ],
            [
             0.4,
             "#fde0ef"
            ],
            [
             0.5,
             "#f7f7f7"
            ],
            [
             0.6,
             "#e6f5d0"
            ],
            [
             0.7,
             "#b8e186"
            ],
            [
             0.8,
             "#7fbc41"
            ],
            [
             0.9,
             "#4d9221"
            ],
            [
             1,
             "#276419"
            ]
           ],
           "sequential": [
            [
             0.0,
             "#0d0887"
            ],
            [
             0.1111111111111111,
             "#46039f"
            ],
            [
             0.2222222222222222,
             "#7201a8"
            ],
            [
             0.3333333333333333,
             "#9c179e"
            ],
            [
             0.4444444444444444,
             "#bd3786"
            ],
            [
             0.5555555555555556,
             "#d8576b"
            ],
            [
             0.6666666666666666,
             "#ed7953"
            ],
            [
             0.7777777777777778,
             "#fb9f3a"
            ],
            [
             0.8888888888888888,
             "#fdca26"
            ],
            [
             1.0,
             "#f0f921"
            ]
           ],
           "sequentialminus": [
            [
             0.0,
             "#0d0887"
            ],
            [
             0.1111111111111111,
             "#46039f"
            ],
            [
             0.2222222222222222,
             "#7201a8"
            ],
            [
             0.3333333333333333,
             "#9c179e"
            ],
            [
             0.4444444444444444,
             "#bd3786"
            ],
            [
             0.5555555555555556,
             "#d8576b"
            ],
            [
             0.6666666666666666,
             "#ed7953"
            ],
            [
             0.7777777777777778,
             "#fb9f3a"
            ],
            [
             0.8888888888888888,
             "#fdca26"
            ],
            [
             1.0,
             "#f0f921"
            ]
           ]
          },
          "colorway": [
           "#636efa",
           "#EF553B",
           "#00cc96",
           "#ab63fa",
           "#FFA15A",
           "#19d3f3",
           "#FF6692",
           "#B6E880",
           "#FF97FF",
           "#FECB52"
          ],
          "font": {
           "color": "#2a3f5f"
          },
          "geo": {
           "bgcolor": "white",
           "lakecolor": "white",
           "landcolor": "#E5ECF6",
           "showlakes": true,
           "showland": true,
           "subunitcolor": "white"
          },
          "hoverlabel": {
           "align": "left"
          },
          "hovermode": "closest",
          "mapbox": {
           "style": "light"
          },
          "paper_bgcolor": "white",
          "plot_bgcolor": "#E5ECF6",
          "polar": {
           "angularaxis": {
            "gridcolor": "white",
            "linecolor": "white",
            "ticks": ""
           },
           "bgcolor": "#E5ECF6",
           "radialaxis": {
            "gridcolor": "white",
            "linecolor": "white",
            "ticks": ""
           }
          },
          "scene": {
           "xaxis": {
            "backgroundcolor": "#E5ECF6",
            "gridcolor": "white",
            "gridwidth": 2,
            "linecolor": "white",
            "showbackground": true,
            "ticks": "",
            "zerolinecolor": "white"
           },
           "yaxis": {
            "backgroundcolor": "#E5ECF6",
            "gridcolor": "white",
            "gridwidth": 2,
            "linecolor": "white",
            "showbackground": true,
            "ticks": "",
            "zerolinecolor": "white"
           },
           "zaxis": {
            "backgroundcolor": "#E5ECF6",
            "gridcolor": "white",
            "gridwidth": 2,
            "linecolor": "white",
            "showbackground": true,
            "ticks": "",
            "zerolinecolor": "white"
           }
          },
          "shapedefaults": {
           "line": {
            "color": "#2a3f5f"
           }
          },
          "ternary": {
           "aaxis": {
            "gridcolor": "white",
            "linecolor": "white",
            "ticks": ""
           },
           "baxis": {
            "gridcolor": "white",
            "linecolor": "white",
            "ticks": ""
           },
           "bgcolor": "#E5ECF6",
           "caxis": {
            "gridcolor": "white",
            "linecolor": "white",
            "ticks": ""
           }
          },
          "title": {
           "x": 0.05
          },
          "xaxis": {
           "automargin": true,
           "gridcolor": "white",
           "linecolor": "white",
           "ticks": "",
           "title": {
            "standoff": 15
           },
           "zerolinecolor": "white",
           "zerolinewidth": 2
          },
          "yaxis": {
           "automargin": true,
           "gridcolor": "white",
           "linecolor": "white",
           "ticks": "",
           "title": {
            "standoff": 15
           },
           "zerolinecolor": "white",
           "zerolinewidth": 2
          }
         }
        },
        "xaxis": {
         "anchor": "y",
         "domain": [
          0.0,
          1.0
         ],
         "title": {
          "text": "CAMPUS"
         }
        },
        "yaxis": {
         "anchor": "x",
         "domain": [
          0.0,
          1.0
         ],
         "title": {
          "text": "value"
         }
        }
       }
      },
      "text/html": "<div>                            <div id=\"49e76872-deb0-42b0-8cd2-38d62176f3ca\" class=\"plotly-graph-div\" style=\"height:525px; width:100%;\"></div>            <script type=\"text/javascript\">                require([\"plotly\"], function(Plotly) {                    window.PLOTLYENV=window.PLOTLYENV || {};                                    if (document.getElementById(\"49e76872-deb0-42b0-8cd2-38d62176f3ca\")) {                    Plotly.newPlot(                        \"49e76872-deb0-42b0-8cd2-38d62176f3ca\",                        [{\"alignmentgroup\": \"True\", \"hovertemplate\": \"variable=14 SAT: Hispanic Students, SAT Average<br>CAMPUS=%{x}<br>value=%{y}<extra></extra>\", \"legendgroup\": \"14 SAT: Hispanic Students, SAT Average\", \"marker\": {\"color\": \"#636efa\"}, \"name\": \"14 SAT: Hispanic Students, SAT Average\", \"offsetgroup\": \"14 SAT: Hispanic Students, SAT Average\", \"orientation\": \"v\", \"showlegend\": true, \"textposition\": \"auto\", \"type\": \"bar\", \"x\": [\"'161914002\", \"'161914003\"], \"xaxis\": \"x\", \"y\": [1331, 1276], \"yaxis\": \"y\"}, {\"alignmentgroup\": \"True\", \"hovertemplate\": \"variable=15 SAT: Hispanic Students, SAT Average<br>CAMPUS=%{x}<br>value=%{y}<extra></extra>\", \"legendgroup\": \"15 SAT: Hispanic Students, SAT Average\", \"marker\": {\"color\": \"#EF553B\"}, \"name\": \"15 SAT: Hispanic Students, SAT Average\", \"offsetgroup\": \"15 SAT: Hispanic Students, SAT Average\", \"orientation\": \"v\", \"showlegend\": true, \"textposition\": \"auto\", \"type\": \"bar\", \"x\": [\"'161914002\", \"'161914003\"], \"xaxis\": \"x\", \"y\": [1228, 1255], \"yaxis\": \"y\"}, {\"alignmentgroup\": \"True\", \"hovertemplate\": \"variable=18 SAT: Hispanic Students, SAT Average<br>CAMPUS=%{x}<br>value=%{y}<extra></extra>\", \"legendgroup\": \"18 SAT: Hispanic Students, SAT Average\", \"marker\": {\"color\": \"#00cc96\"}, \"name\": \"18 SAT: Hispanic Students, SAT Average\", \"offsetgroup\": \"18 SAT: Hispanic Students, SAT Average\", \"orientation\": \"v\", \"showlegend\": true, \"textposition\": \"auto\", \"type\": \"bar\", \"x\": [\"'161914002\", \"'161914003\"], \"xaxis\": \"x\", \"y\": [1028, 996], \"yaxis\": \"y\"}, {\"alignmentgroup\": \"True\", \"hovertemplate\": \"variable=19 SAT: Hispanic Students, SAT Average<br>CAMPUS=%{x}<br>value=%{y}<extra></extra>\", \"legendgroup\": \"19 SAT: Hispanic Students, SAT Average\", \"marker\": {\"color\": \"#ab63fa\"}, \"name\": \"19 SAT: Hispanic Students, SAT Average\", \"offsetgroup\": \"19 SAT: Hispanic Students, SAT Average\", \"orientation\": \"v\", \"showlegend\": true, \"textposition\": \"auto\", \"type\": \"bar\", \"x\": [\"'161914002\", \"'161914003\"], \"xaxis\": \"x\", \"y\": [947, 1021], \"yaxis\": \"y\"}],                        {\"barmode\": \"group\", \"legend\": {\"title\": {\"text\": \"variable\"}, \"tracegroupgap\": 0}, \"margin\": {\"t\": 60}, \"template\": {\"data\": {\"bar\": [{\"error_x\": {\"color\": \"#2a3f5f\"}, \"error_y\": {\"color\": \"#2a3f5f\"}, \"marker\": {\"line\": {\"color\": \"#E5ECF6\", \"width\": 0.5}}, \"type\": \"bar\"}], \"barpolar\": [{\"marker\": {\"line\": {\"color\": \"#E5ECF6\", \"width\": 0.5}}, \"type\": \"barpolar\"}], \"carpet\": [{\"aaxis\": {\"endlinecolor\": \"#2a3f5f\", \"gridcolor\": \"white\", \"linecolor\": \"white\", \"minorgridcolor\": \"white\", \"startlinecolor\": \"#2a3f5f\"}, \"baxis\": {\"endlinecolor\": \"#2a3f5f\", \"gridcolor\": \"white\", \"linecolor\": \"white\", \"minorgridcolor\": \"white\", \"startlinecolor\": \"#2a3f5f\"}, \"type\": \"carpet\"}], \"choropleth\": [{\"colorbar\": {\"outlinewidth\": 0, \"ticks\": \"\"}, \"type\": \"choropleth\"}], \"contour\": [{\"colorbar\": {\"outlinewidth\": 0, \"ticks\": \"\"}, \"colorscale\": [[0.0, \"#0d0887\"], [0.1111111111111111, \"#46039f\"], [0.2222222222222222, \"#7201a8\"], [0.3333333333333333, \"#9c179e\"], [0.4444444444444444, \"#bd3786\"], [0.5555555555555556, \"#d8576b\"], [0.6666666666666666, \"#ed7953\"], [0.7777777777777778, \"#fb9f3a\"], [0.8888888888888888, \"#fdca26\"], [1.0, \"#f0f921\"]], \"type\": \"contour\"}], \"contourcarpet\": [{\"colorbar\": {\"outlinewidth\": 0, \"ticks\": \"\"}, \"type\": \"contourcarpet\"}], \"heatmap\": [{\"colorbar\": {\"outlinewidth\": 0, \"ticks\": \"\"}, \"colorscale\": [[0.0, \"#0d0887\"], [0.1111111111111111, \"#46039f\"], [0.2222222222222222, \"#7201a8\"], [0.3333333333333333, \"#9c179e\"], [0.4444444444444444, \"#bd3786\"], [0.5555555555555556, \"#d8576b\"], [0.6666666666666666, \"#ed7953\"], [0.7777777777777778, \"#fb9f3a\"], [0.8888888888888888, \"#fdca26\"], [1.0, \"#f0f921\"]], \"type\": \"heatmap\"}], \"heatmapgl\": [{\"colorbar\": {\"outlinewidth\": 0, \"ticks\": \"\"}, \"colorscale\": [[0.0, \"#0d0887\"], [0.1111111111111111, \"#46039f\"], [0.2222222222222222, \"#7201a8\"], [0.3333333333333333, \"#9c179e\"], [0.4444444444444444, \"#bd3786\"], [0.5555555555555556, \"#d8576b\"], [0.6666666666666666, \"#ed7953\"], [0.7777777777777778, \"#fb9f3a\"], [0.8888888888888888, \"#fdca26\"], [1.0, \"#f0f921\"]], \"type\": \"heatmapgl\"}], \"histogram\": [{\"marker\": {\"colorbar\": {\"outlinewidth\": 0, \"ticks\": \"\"}}, \"type\": \"histogram\"}], \"histogram2d\": [{\"colorbar\": {\"outlinewidth\": 0, \"ticks\": \"\"}, \"colorscale\": [[0.0, \"#0d0887\"], [0.1111111111111111, \"#46039f\"], [0.2222222222222222, \"#7201a8\"], [0.3333333333333333, \"#9c179e\"], [0.4444444444444444, \"#bd3786\"], [0.5555555555555556, \"#d8576b\"], [0.6666666666666666, \"#ed7953\"], [0.7777777777777778, \"#fb9f3a\"], [0.8888888888888888, \"#fdca26\"], [1.0, \"#f0f921\"]], \"type\": \"histogram2d\"}], \"histogram2dcontour\": [{\"colorbar\": {\"outlinewidth\": 0, \"ticks\": \"\"}, \"colorscale\": [[0.0, \"#0d0887\"], [0.1111111111111111, \"#46039f\"], [0.2222222222222222, \"#7201a8\"], [0.3333333333333333, \"#9c179e\"], [0.4444444444444444, \"#bd3786\"], [0.5555555555555556, \"#d8576b\"], [0.6666666666666666, \"#ed7953\"], [0.7777777777777778, \"#fb9f3a\"], [0.8888888888888888, \"#fdca26\"], [1.0, \"#f0f921\"]], \"type\": \"histogram2dcontour\"}], \"mesh3d\": [{\"colorbar\": {\"outlinewidth\": 0, \"ticks\": \"\"}, \"type\": \"mesh3d\"}], \"parcoords\": [{\"line\": {\"colorbar\": {\"outlinewidth\": 0, \"ticks\": \"\"}}, \"type\": \"parcoords\"}], \"pie\": [{\"automargin\": true, \"type\": \"pie\"}], \"scatter\": [{\"marker\": {\"colorbar\": {\"outlinewidth\": 0, \"ticks\": \"\"}}, \"type\": \"scatter\"}], \"scatter3d\": [{\"line\": {\"colorbar\": {\"outlinewidth\": 0, \"ticks\": \"\"}}, \"marker\": {\"colorbar\": {\"outlinewidth\": 0, \"ticks\": \"\"}}, \"type\": \"scatter3d\"}], \"scattercarpet\": [{\"marker\": {\"colorbar\": {\"outlinewidth\": 0, \"ticks\": \"\"}}, \"type\": \"scattercarpet\"}], \"scattergeo\": [{\"marker\": {\"colorbar\": {\"outlinewidth\": 0, \"ticks\": \"\"}}, \"type\": \"scattergeo\"}], \"scattergl\": [{\"marker\": {\"colorbar\": {\"outlinewidth\": 0, \"ticks\": \"\"}}, \"type\": \"scattergl\"}], \"scattermapbox\": [{\"marker\": {\"colorbar\": {\"outlinewidth\": 0, \"ticks\": \"\"}}, \"type\": \"scattermapbox\"}], \"scatterpolar\": [{\"marker\": {\"colorbar\": {\"outlinewidth\": 0, \"ticks\": \"\"}}, \"type\": \"scatterpolar\"}], \"scatterpolargl\": [{\"marker\": {\"colorbar\": {\"outlinewidth\": 0, \"ticks\": \"\"}}, \"type\": \"scatterpolargl\"}], \"scatterternary\": [{\"marker\": {\"colorbar\": {\"outlinewidth\": 0, \"ticks\": \"\"}}, \"type\": \"scatterternary\"}], \"surface\": [{\"colorbar\": {\"outlinewidth\": 0, \"ticks\": \"\"}, \"colorscale\": [[0.0, \"#0d0887\"], [0.1111111111111111, \"#46039f\"], [0.2222222222222222, \"#7201a8\"], [0.3333333333333333, \"#9c179e\"], [0.4444444444444444, \"#bd3786\"], [0.5555555555555556, \"#d8576b\"], [0.6666666666666666, \"#ed7953\"], [0.7777777777777778, \"#fb9f3a\"], [0.8888888888888888, \"#fdca26\"], [1.0, \"#f0f921\"]], \"type\": \"surface\"}], \"table\": [{\"cells\": {\"fill\": {\"color\": \"#EBF0F8\"}, \"line\": {\"color\": \"white\"}}, \"header\": {\"fill\": {\"color\": \"#C8D4E3\"}, \"line\": {\"color\": \"white\"}}, \"type\": \"table\"}]}, \"layout\": {\"annotationdefaults\": {\"arrowcolor\": \"#2a3f5f\", \"arrowhead\": 0, \"arrowwidth\": 1}, \"autotypenumbers\": \"strict\", \"coloraxis\": {\"colorbar\": {\"outlinewidth\": 0, \"ticks\": \"\"}}, \"colorscale\": {\"diverging\": [[0, \"#8e0152\"], [0.1, \"#c51b7d\"], [0.2, \"#de77ae\"], [0.3, \"#f1b6da\"], [0.4, \"#fde0ef\"], [0.5, \"#f7f7f7\"], [0.6, \"#e6f5d0\"], [0.7, \"#b8e186\"], [0.8, \"#7fbc41\"], [0.9, \"#4d9221\"], [1, \"#276419\"]], \"sequential\": [[0.0, \"#0d0887\"], [0.1111111111111111, \"#46039f\"], [0.2222222222222222, \"#7201a8\"], [0.3333333333333333, \"#9c179e\"], [0.4444444444444444, \"#bd3786\"], [0.5555555555555556, \"#d8576b\"], [0.6666666666666666, \"#ed7953\"], [0.7777777777777778, \"#fb9f3a\"], [0.8888888888888888, \"#fdca26\"], [1.0, \"#f0f921\"]], \"sequentialminus\": [[0.0, \"#0d0887\"], [0.1111111111111111, \"#46039f\"], [0.2222222222222222, \"#7201a8\"], [0.3333333333333333, \"#9c179e\"], [0.4444444444444444, \"#bd3786\"], [0.5555555555555556, \"#d8576b\"], [0.6666666666666666, \"#ed7953\"], [0.7777777777777778, \"#fb9f3a\"], [0.8888888888888888, \"#fdca26\"], [1.0, \"#f0f921\"]]}, \"colorway\": [\"#636efa\", \"#EF553B\", \"#00cc96\", \"#ab63fa\", \"#FFA15A\", \"#19d3f3\", \"#FF6692\", \"#B6E880\", \"#FF97FF\", \"#FECB52\"], \"font\": {\"color\": \"#2a3f5f\"}, \"geo\": {\"bgcolor\": \"white\", \"lakecolor\": \"white\", \"landcolor\": \"#E5ECF6\", \"showlakes\": true, \"showland\": true, \"subunitcolor\": \"white\"}, \"hoverlabel\": {\"align\": \"left\"}, \"hovermode\": \"closest\", \"mapbox\": {\"style\": \"light\"}, \"paper_bgcolor\": \"white\", \"plot_bgcolor\": \"#E5ECF6\", \"polar\": {\"angularaxis\": {\"gridcolor\": \"white\", \"linecolor\": \"white\", \"ticks\": \"\"}, \"bgcolor\": \"#E5ECF6\", \"radialaxis\": {\"gridcolor\": \"white\", \"linecolor\": \"white\", \"ticks\": \"\"}}, \"scene\": {\"xaxis\": {\"backgroundcolor\": \"#E5ECF6\", \"gridcolor\": \"white\", \"gridwidth\": 2, \"linecolor\": \"white\", \"showbackground\": true, \"ticks\": \"\", \"zerolinecolor\": \"white\"}, \"yaxis\": {\"backgroundcolor\": \"#E5ECF6\", \"gridcolor\": \"white\", \"gridwidth\": 2, \"linecolor\": \"white\", \"showbackground\": true, \"ticks\": \"\", \"zerolinecolor\": \"white\"}, \"zaxis\": {\"backgroundcolor\": \"#E5ECF6\", \"gridcolor\": \"white\", \"gridwidth\": 2, \"linecolor\": \"white\", \"showbackground\": true, \"ticks\": \"\", \"zerolinecolor\": \"white\"}}, \"shapedefaults\": {\"line\": {\"color\": \"#2a3f5f\"}}, \"ternary\": {\"aaxis\": {\"gridcolor\": \"white\", \"linecolor\": \"white\", \"ticks\": \"\"}, \"baxis\": {\"gridcolor\": \"white\", \"linecolor\": \"white\", \"ticks\": \"\"}, \"bgcolor\": \"#E5ECF6\", \"caxis\": {\"gridcolor\": \"white\", \"linecolor\": \"white\", \"ticks\": \"\"}}, \"title\": {\"x\": 0.05}, \"xaxis\": {\"automargin\": true, \"gridcolor\": \"white\", \"linecolor\": \"white\", \"ticks\": \"\", \"title\": {\"standoff\": 15}, \"zerolinecolor\": \"white\", \"zerolinewidth\": 2}, \"yaxis\": {\"automargin\": true, \"gridcolor\": \"white\", \"linecolor\": \"white\", \"ticks\": \"\", \"title\": {\"standoff\": 15}, \"zerolinecolor\": \"white\", \"zerolinewidth\": 2}}}, \"xaxis\": {\"anchor\": \"y\", \"domain\": [0.0, 1.0], \"title\": {\"text\": \"CAMPUS\"}}, \"yaxis\": {\"anchor\": \"x\", \"domain\": [0.0, 1.0], \"title\": {\"text\": \"value\"}}},                        {\"responsive\": true}                    ).then(function(){\n                            \nvar gd = document.getElementById('49e76872-deb0-42b0-8cd2-38d62176f3ca');\nvar x = new MutationObserver(function (mutations, observer) {{\n        var display = window.getComputedStyle(gd).display;\n        if (!display || display === 'none') {{\n            console.log([gd, 'removed!']);\n            Plotly.purge(gd);\n            observer.disconnect();\n        }}\n}});\n\n// Listen for the removal of the full notebook cells\nvar notebookContainer = gd.closest('#notebook-container');\nif (notebookContainer) {{\n    x.observe(notebookContainer, {childList: true});\n}}\n\n// Listen for the clearing of the current output cell\nvar outputEl = gd.closest('.output');\nif (outputEl) {{\n    x.observe(outputEl, {childList: true});\n}}\n\n                        })                };                });            </script>        </div>"
     },
     "metadata": {},
     "output_type": "display_data"
    }
   ],
   "source": [
    "fig = px.bar(sat_averages, barmode='group')\n",
    "\n",
    "fig.show()"
   ],
   "metadata": {
    "collapsed": false,
    "pycharm": {
     "name": "#%%\n"
    }
   }
  },
  {
   "cell_type": "markdown",
   "source": [
    "That concludes this breif demo of the `KeyProcessor.py` and how it can be incorporated into a data analysis notebook."
   ],
   "metadata": {
    "collapsed": false,
    "pycharm": {
     "name": "#%% md\n"
    }
   }
  }
 ],
 "metadata": {
  "kernelspec": {
   "display_name": "Python 3",
   "language": "python",
   "name": "python3"
  },
  "language_info": {
   "codemirror_mode": {
    "name": "ipython",
    "version": 3
   },
   "file_extension": ".py",
   "mimetype": "text/x-python",
   "name": "python",
   "nbconvert_exporter": "python",
   "pygments_lexer": "ipython3",
   "version": "3.9.5"
  }
 },
 "nbformat": 4,
 "nbformat_minor": 1
}